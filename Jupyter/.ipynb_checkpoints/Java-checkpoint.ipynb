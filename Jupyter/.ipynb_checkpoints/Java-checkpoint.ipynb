{
 "cells": [
  {
   "cell_type": "markdown",
   "metadata": {},
   "source": [
    "# Java conceptos basicos\n",
    "\n",
    "##### Java en Jupyter\n",
    "\n",
    "En jupyter notebook se puede ejecutar codigo de java, para ello se debe instalar la libreria ijava y seleccionarlo como kernel."
   ]
  },
  {
   "cell_type": "code",
   "execution_count": 3,
   "metadata": {
    "vscode": {
     "languageId": "java"
    }
   },
   "outputs": [],
   "source": [
    "public class HolaMundo {\n",
    "    public static void main(String[] args) {\n",
    "        System.out.println(\"Hola desde Java\");\n",
    "    }\n",
    "}"
   ]
  }
 ],
 "metadata": {
  "kernelspec": {
   "display_name": "Java",
   "language": "java",
   "name": "java"
  },
  "language_info": {
   "codemirror_mode": "java",
   "file_extension": ".jshell",
   "mimetype": "text/x-java-source",
   "name": "Java",
   "pygments_lexer": "java",
   "version": "23.0.1+11-39"
  }
 },
 "nbformat": 4,
 "nbformat_minor": 4
}
