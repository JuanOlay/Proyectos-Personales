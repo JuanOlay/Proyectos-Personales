{
 "cells": [
  {
   "cell_type": "markdown",
   "metadata": {},
   "source": [
    "# Tutorial SQL\n",
    "\n",
    "# Introducción a SQL\n",
    "\n",
    "## ¿Qué es SQL?\n",
    "\n",
    "SQL (Structured Query Language) es un lenguaje de programación que se utiliza para gestionar y manipular bases de datos relacionales. SQL se utiliza para realizar tareas como la recuperación de datos, la actualización de datos, la eliminación de datos y la creación de tablas y bases de datos.\n",
    "\n",
    "## ¿Qué hace SQL?\n",
    "\n",
    "- SQL puede ejecutar consultas en una base de datos\n",
    "- SQL puede recuperar datos de una base de datos\n",
    "- SQL puede insertar registros en una base de datos\n",
    "- SQL puede actualizar registros en una base de datos\n",
    "- SQL puede eliminar registros de una base de datos\n",
    "- SQL puede crear nuevas bases de datos\n",
    "- SQL puede crear nuevas tablas en una base de datos\n",
    "- SQL puede crear procedimientos almacenados en una base de datos\n",
    "- SQL puede crear vistas en una base de datos\n",
    "- SQL puede establecer permisos en tablas, procedimientos y vistas\n",
    "\n",
    "## Diferentes tipos de SQL\n",
    "\n",
    "Existen diferentes lenguajes basados en SQL que se utilizan para realizar tareas específicas. Algunos de los más comunes son:\n",
    "\n",
    "- SQL estándar: Es la base sobre la que se construyen otros dialectos de SQL. Define las reglas básicas para la - manipulación y consulta de datos.\n",
    "- T-SQL (Transact-SQL): Usado principalmente en Microsoft SQL Server, agrega funcionalidades como programación procedural y manejo de transacciones.\n",
    "- PL/SQL (Procedural Language/SQL): Lenguaje de procedimientos utilizado en Oracle Database, permite la creación de funciones, procedimientos almacenados y triggers.\n",
    "- PL/pgSQL: Similar a PL/SQL, pero utilizado en PostgreSQL para mejorar la funcionalidad procedural.\n",
    "- MySQL SQL: Implementación de SQL utilizada en MySQL, con algunas diferencias en sintaxis y funciones específicas.\n",
    "- SQLite SQL: Lenguaje SQL utilizado en SQLite, una base de datos ligera y sin servidor, con algunas limitaciones en comparación con otros RDBMS.\n",
    "\n",
    "## RBDMS (Relational Database Management System)\n",
    "\n",
    "Un RDBMS es un sistema de gestión de bases de datos que se basa en el modelo relacional. Un RDBMS permite a los usuarios interactuar con la base de datos utilizando SQL. Algunos ejemplos de RDBMS son:\n",
    "\n",
    "- MySQL: Muy utilizado en desarrollo web, de código abierto y con buen rendimiento.\n",
    "- PostgreSQL: Base de datos avanzada con fuerte soporte para transacciones y extensibilidad.\n",
    "- Microsoft SQL Server: Usado en entornos empresariales, con integración en el ecosistema de Microsoft.\n",
    "- Oracle Database: Potente y utilizado en aplicaciones empresariales de gran escala.\n",
    "- SQLite: Base de datos ligera y embebida, ideal para aplicaciones móviles y pequeños proyectos."
   ]
  },
  {
   "cell_type": "markdown",
   "metadata": {},
   "source": [
    "# Usar sql en Jupyter\n",
    "\n",
    "1. Instalación de Dependencias  \n",
    "Antes de empezar, necesitamos instalar algunos paquetes esenciales. Ejecuta estos comandos en la terminal.\n",
    "\n",
    "```bash\n",
    "pip install ipykernel ipython-sql sqlite3 prettytable\n",
    "```\n",
    "\n",
    "2. Agregamos el directorio de scripts de python a `Path`\n",
    "\n",
    "3. Cargar la Extensión SQL en Jupyter\n",
    "Una vez instalado, abre Jupyter y en una celda de codigo carga la extensión SQL con:\n",
    "\n",
    "```python\n",
    "%load_ext sql\n",
    "```\n",
    "3. Crear la Base de Datos en una Carpeta Específica\n",
    "\n",
    "Es recomendable mantener las bases de datos organizadas. Creemos una carpeta llamada SQL y guardemos la base de datos ahí.\n",
    "\n",
    "```python\n",
    "%sql sqlite:///SQL/mi_base_datos.db\n",
    "```\n",
    "\n",
    "3. Crear una Tabla de Ejemplo\n",
    "\n",
    "Ahora, podemos crear una tabla en nuestra base de datos.                                    \n",
    "\n",
    "```python\n",
    "%%sql\n",
    "CREATE TABLE personas (\n",
    "    id INTEGER PRIMARY KEY,\n",
    "    nombre TEXT,\n",
    "    edad INTEGER\n",
    ");\n",
    "```\n",
    "\n",
    "4. Insertar Datos en la Tabla\n",
    "\n",
    "```python\n",
    "%%sql\n",
    "INSERT INTO personas (nombre, edad) VALUES ('Juan', 25);\n",
    "INSERT INTO personas (nombre, edad) VALUES ('Maria', 30);\n",
    "```\n",
    "\n",
    "5. Consultar Datos de la Tabla\n",
    "\n",
    "```python\n",
    "%%sql\n",
    "SELECT * FROM personas;\n",
    "```\n",
    "\n",
    "Utilizamos `%sql` cuando queremos ejecutar una sola instrucción SQL y `%%sql` cuando queremos ejecutar varias instrucciones SQL.\n",
    "\n",
    "Durante el desarrollo se va a usar sqlite debido a que es la mas facil de usar en Jupyter, pero se puede cambiar a cualquier otra base de datos relacional."
   ]
  },
  {
   "cell_type": "code",
   "execution_count": null,
   "metadata": {},
   "outputs": [],
   "source": [
    "%load_ext sql\n",
    "%sql sqlite:///SQL/mi_base_datos.db"
   ]
  },
  {
   "cell_type": "code",
   "execution_count": null,
   "metadata": {},
   "outputs": [],
   "source": [
    "import prettytable\n",
    "prettytable.__dict__[\"DEFAULT\"] = \"DEFAULT\""
   ]
  },
  {
   "cell_type": "code",
   "execution_count": null,
   "metadata": {
    "vscode": {
     "languageId": "sql"
    }
   },
   "outputs": [],
   "source": [
    "%%sql\n",
    "select * from personas;"
   ]
  },
  {
   "cell_type": "markdown",
   "metadata": {},
   "source": [
    "# Conceptos Básicos de SQL\n",
    "\n",
    "### Sintaxis básica de SQL\n",
    "\n",
    "Las palabras clave y comandos SQL son faciles de aprender(lenguaje de alto nivel).\n",
    "\n",
    "Las palabras clave SQL NO distinguen entre mayúsculas y minúsculas:`SELECT` es lo mismo que `select`.\n",
    "\n",
    "Algunos sistemas de bases de datos requieren un punto y coma al final de cada instrucción SQL.\n",
    "\n",
    "El punto y coma es la forma estándar de separar cada instrucción SQL en la base de datos sistemas que permiten ejecutar más de una sentencia SQL en la misma llamada al servidor.\n",
    "\n",
    "Comandos mas comunes e importantes:\n",
    "\n",
    "- `SELECT`: Extrae datos de una base de datos.\n",
    "- `UPDATE`: Actualiza datos en una base de datos.\n",
    "- `DELETE`: Elimina datos de una base de datos.\n",
    "- `INSERT INTO`: Inserta nuevos datos en una base de datos.\n",
    "- `CREATE DATABASE`: Crea una nueva base de datos.\n",
    "- `ALTER DATABASE`: Modifica una base de datos.\n",
    "- `CREATE TABLE`: Crea una nueva tabla.\n",
    "- `ALTER TABLE`: Modifica una tabla.\n",
    "- `DROP TABLE`: Elimina una tabla.\n",
    "- `CREATE INDEX`: Crea un índice (clave de búsqueda).\n",
    "- `DROP INDEX`: Elimina un índice."
   ]
  },
  {
   "cell_type": "markdown",
   "metadata": {},
   "source": [
    "## Comandos de base de datos\n",
    "\n",
    "### `CREATE DATABASE`\n",
    "\n",
    "El comando `CREATE DATABASE` se utiliza para crear una nueva base de datos en un sistema de gestión de bases de datos relacional (RDBMS).\n",
    "\n",
    "```sql\n",
    "CREATE DATABASE mi_base_datos;\n",
    "```\n",
    "\n",
    "Como estamos desde Jupyter, usamos el siguiente comando:"
   ]
  },
  {
   "cell_type": "code",
   "execution_count": null,
   "metadata": {
    "vscode": {
     "languageId": "sql"
    }
   },
   "outputs": [],
   "source": [
    "%sql sqlite:///SQL/prueba.db"
   ]
  },
  {
   "cell_type": "markdown",
   "metadata": {},
   "source": [
    "### `DROP DATABASE`\n",
    "\n",
    "El comando `DROP DATABASE` se utiliza para eliminar una base de datos existente en un sistema de gestión de bases de datos relacional (RDBMS).\n",
    "\n",
    "```sql\n",
    "DROP DATABASE mi_base_datos;\n",
    "```\n",
    "\n",
    "Para jupyter debemos cerrar la conexion y luego eliminar el archivo.\n",
    "\n",
    "Podemos cerrar la conexión con el siguiente comando:"
   ]
  },
  {
   "cell_type": "code",
   "execution_count": null,
   "metadata": {
    "vscode": {
     "languageId": "sql"
    }
   },
   "outputs": [],
   "source": [
    "%sql -d sqlite:///SQL/prueba.db"
   ]
  },
  {
   "cell_type": "markdown",
   "metadata": {},
   "source": [
    "## Comandos de tablas\n",
    "\n",
    "### `CREATE TABLE`\n",
    "\n",
    "El comando `CREATE TABLE` se utiliza para crear una nueva tabla en una base de datos.\n",
    "\n",
    "```sql\n",
    "CREATE TABLE personas (\n",
    "    id INTEGER PRIMARY KEY,\n",
    "    nombre TEXT,\n",
    "    edad INTEGER\n",
    ");\n",
    "```\n",
    "\n",
    "Ejemplo:"
   ]
  },
  {
   "cell_type": "code",
   "execution_count": null,
   "metadata": {
    "vscode": {
     "languageId": "sql"
    }
   },
   "outputs": [],
   "source": [
    "%%sql\n",
    "CREATE TABLE personas (\n",
    "    id INTEGER PRIMARY KEY,\n",
    "    nombre TEXT,\n",
    "    edad INTEGER\n",
    ");"
   ]
  },
  {
   "cell_type": "markdown",
   "metadata": {},
   "source": [
    "#### Crear una tabla apartir de otra tabla\n",
    "\n",
    "```sql \n",
    "CREATE TABLE nueva_tabla AS\n",
    "SELECT columna1, columna2\n",
    "FROM tabla_existente\n",
    "WHERE condicion;\n",
    "```\n",
    "\n",
    "El where es opcional.\n",
    "\n",
    "Ejemplo:"
   ]
  },
  {
   "cell_type": "code",
   "execution_count": null,
   "metadata": {
    "vscode": {
     "languageId": "sql"
    }
   },
   "outputs": [],
   "source": [
    "%%sql\n",
    "CREATE TABLE personas2 AS \n",
    "SELECT id , nombre, edad FROM personas;"
   ]
  },
  {
   "cell_type": "markdown",
   "metadata": {},
   "source": [
    "### `DROP TABLE`\n",
    "\n",
    "El comando `DROP TABLE` se utiliza para eliminar una tabla existente en una base de datos.\n",
    "\n",
    "```sql\n",
    "DROP TABLE personas;\n",
    "```\n",
    "\n",
    "Ejemplo:"
   ]
  },
  {
   "cell_type": "code",
   "execution_count": null,
   "metadata": {
    "vscode": {
     "languageId": "sql"
    }
   },
   "outputs": [],
   "source": [
    "%%sql\n",
    "DROP TABLE personas2;"
   ]
  },
  {
   "cell_type": "markdown",
   "metadata": {},
   "source": [
    "### `TRUNCATE TABLE`\n",
    "\n",
    "El comando `TRUNCATE TABLE` se utiliza para eliminar todos los registros de una tabla, pero no elimina la tabla en sí.\n",
    "No esta disponible en sqlite, pero se puede usar `DELETE FROM tabla;`\n",
    "\n",
    "```sql\n",
    "TRUNCATE TABLE tabla;\n",
    "```\n",
    "\n",
    "```sql\n",
    "DELETE FROM tabla;\n",
    "```\n",
    "\n",
    "Ejemplo:"
   ]
  },
  {
   "cell_type": "code",
   "execution_count": null,
   "metadata": {
    "vscode": {
     "languageId": "sql"
    }
   },
   "outputs": [],
   "source": [
    "%%sql\n",
    "DELETE FROM personas2;"
   ]
  },
  {
   "cell_type": "markdown",
   "metadata": {},
   "source": [
    "### `ALTER TABLE`\n",
    "\n",
    "El comando `ALTER TABLE` se utiliza para agregar, modificar o eliminar columnas en una tabla existente.\n",
    "\n",
    "```sql\n",
    "ALTER TABLE personas\n",
    "ADD COLUMN ciudad TEXT;\n",
    "DROP COLUMN ciudad;\n",
    "RENAME COLUMN ciudad TO ciudad_nueva;\n",
    "ALTER COLUMN ciudad_nueva TYPE VARCHAR(50);\n",
    "```\n",
    "\n",
    "En sqlite no podemos cambiar el tipo de columna, pero si podemos agregar columnas, eliminar columnas y renombrar columnas.\n",
    "\n",
    "Ejemplo:"
   ]
  },
  {
   "cell_type": "code",
   "execution_count": null,
   "metadata": {
    "vscode": {
     "languageId": "sql"
    }
   },
   "outputs": [],
   "source": [
    "%%sql\n",
    "-- Creanis una columna \"edad2\" en la tabla personas2\n",
    "ALTER TABLE personas2 ADD COLUMN edad2 INTEGER;\n",
    "SElECT * FROM personas2;"
   ]
  },
  {
   "cell_type": "code",
   "execution_count": null,
   "metadata": {
    "vscode": {
     "languageId": "sql"
    }
   },
   "outputs": [],
   "source": [
    "%%sql\n",
    "-- La renombran a \"edad3\"\n",
    "ALTER TABLE personas2 RENAME COLUMN edad2 TO edad3;\n",
    "SELECT * FROM personas2;"
   ]
  },
  {
   "cell_type": "code",
   "execution_count": null,
   "metadata": {
    "vscode": {
     "languageId": "sql"
    }
   },
   "outputs": [],
   "source": [
    "%%sql\n",
    "-- Eliminan la columna \"edad3\"\n",
    "ALTER TABLE personas2 DROP COLUMN edad3;\n",
    "SELECT * FROM personas2;"
   ]
  },
  {
   "cell_type": "markdown",
   "metadata": {},
   "source": [
    "### Restricciones de tabla\n",
    "\n",
    "Las restricciones de tabla se utilizan para especificar reglas para los datos en una tabla.\n",
    "Se puede implementar tanto en la creación de la tabla `CREATE TABLE` como en la modificación de la tabla `ALTER TABLE`.\n",
    "\n",
    "- `NOT NULL`: Asegura que un campo no pueda tener un valor NULL.\n",
    "- `UNIQUE`: Asegura que todos los valores en una columna sean diferentes.\n",
    "- `PRIMARY KEY`: Identifica de forma única cada registro en una tabla.\n",
    "- `FOREIGN KEY`: Un campo en una tabla que se refiere a la clave principal en otra tabla.\n",
    "- `CHECK`: Asegura que todos los valores en una columna cumplan una condición específica.\n",
    "- `DEFAULT`: Inserta un valor predeterminado cuando no se proporciona un valor.\n",
    "- `INDEX`: Se utiliza para crear y recuperar datos de una tabla de manera más rápida.\n",
    "\n",
    "#### `NOT NULL`\n",
    "\n",
    "`NOT NULL` se utiliza para asegurarse de que un campo no pueda tener un valor NULL.\n",
    "\n",
    "```sql\n",
    "CREATE TABLE personas (\n",
    "    id INTEGER PRIMARY KEY,\n",
    "    nombre TEXT NOT NULL,\n",
    "    edad INTEGER NOT NULL\n",
    ");\n",
    "```\n",
    "\n",
    "#### `UNIQUE`\n",
    "\n",
    "`UNIQUE` se utiliza para asegurarse de que todos los valores en una columna sean diferentes.\t\n",
    "\n",
    "```sql\n",
    "CREATE TABLE personas (\n",
    "    id INTEGER PRIMARY KEY,\n",
    "    nombre TEXT UNIQUE,\n",
    "    edad INTEGER\n",
    ");\n",
    "```\n",
    "\n",
    "#### `PRIMARY KEY`\n",
    "\n",
    "`PRIMARY KEY` se utiliza para identificar de forma única cada registro en una tabla.\n",
    "\n",
    "```sql\n",
    "CREATE TABLE personas (\n",
    "    id INTEGER PRIMARY KEY,\n",
    "    nombre TEXT,\n",
    "    edad INTEGER\n",
    ");\n",
    "```\n",
    "\n",
    "#### `FOREIGN KEY`\n",
    "\n",
    "`FOREIGN KEY` se utiliza para definir una clave externa en una tabla.\n",
    "\n",
    "```sql\n",
    "CREATE TABLE personas (\n",
    "    id INTEGER PRIMARY KEY,\n",
    "    nombre TEXT,\n",
    "    ciudad_id INTEGER,\n",
    "    FOREIGN KEY (ciudad_id) REFERENCES ciudades(id)\n",
    ");\n",
    "```\n",
    "\n",
    "#### `CHECK`\n",
    "\n",
    "`CHECK` se utiliza para asegurarse de que todos los valores en una columna cumplan una condición específica.\n",
    "\n",
    "```sql\n",
    "CREATE TABLE personas (\n",
    "    id INTEGER PRIMARY KEY,\n",
    "    nombre TEXT,\n",
    "    edad INTEGER CHECK(edad >= 18)\n",
    ");\n",
    "```\n",
    "\n",
    "#### `DEFAULT`\n",
    "\n",
    "`DEFAULT` se utiliza para insertar un valor predeterminado cuando no se proporciona un valor.\n",
    "\n",
    "```sql\n",
    "CREATE TABLE personas (\n",
    "    id INTEGER PRIMARY KEY,\n",
    "    nombre TEXT,\n",
    "    edad INTEGER DEFAULT 18\n",
    ");\n",
    "```\n",
    "\n",
    "#### `INDEX`\n",
    "\n",
    "`INDEX` se utiliza para crear y recuperar datos de una tabla de manera más rápida.\n",
    "\n",
    "```sql\n",
    "CREATE INDEX idx_nombre ON personas (nombre);\n",
    "```\n",
    "\n",
    "#### `AUTOINCREMENT`\n",
    "\n",
    "`AUTOINCREMENT` se utiliza para generar un número único para cada fila de una tabla.\n",
    "\n",
    "```sql\n",
    "CREATE TABLE personas (\n",
    "    id INTEGER PRIMARY KEY AUTOINCREMENT,\n",
    "    nombre TEXT,\n",
    "    edad INTEGER\n",
    ");\n",
    "```"
   ]
  },
  {
   "cell_type": "markdown",
   "metadata": {},
   "source": [
    "## Manipulación de datos\n",
    "\n",
    "### `INSERT INTO`\n",
    "\n",
    "El comando `INSERT INTO` se utiliza para insertar nuevos registros en una tabla existente. La sintaxis básica es la siguiente:\n",
    "\n",
    "```sql\n",
    "INSERT INTO table_name (column1, column2, column3, ...)\n",
    "VALUES (value1, value2, value3, ...);\n",
    "\n",
    "Ejemplo:"
   ]
  },
  {
   "cell_type": "code",
   "execution_count": null,
   "metadata": {
    "vscode": {
     "languageId": "sql"
    }
   },
   "outputs": [],
   "source": [
    "%%sql\n",
    "-- Insertamos los valoes en la tabla personas\n",
    "INSERT INTO personas (nombre, edad)\n",
    "VALUES ( 'Juan', 25), ('Maria', 30), ('Pedro', 25), ('Ana', 20);\n",
    "SELECT * FROM personas;"
   ]
  },
  {
   "cell_type": "markdown",
   "metadata": {},
   "source": [
    "### `UPDATE`\n",
    "\n",
    "La instrucción `UPDATE` se utiliza para modificar los registros existentes en una tabla.\n",
    "\n",
    "```sql\n",
    "UPDATE table_name\n",
    "SET column1 = value1, column2 = value2, ...\n",
    "WHERE condition;\n",
    "```\n",
    "\n",
    "Ejemplo:"
   ]
  },
  {
   "cell_type": "code",
   "execution_count": null,
   "metadata": {
    "vscode": {
     "languageId": "sql"
    }
   },
   "outputs": [],
   "source": [
    "%%sql\n",
    "-- Actualizamos el nombre de Juan a Juan Perez\n",
    "UPDATE personas\n",
    "SET nombre = 'Juan Perez'\n",
    "WHERE nombre = 'Juan';\n",
    "SELECT * FROM personas;"
   ]
  },
  {
   "cell_type": "markdown",
   "metadata": {},
   "source": [
    "### `DELETE`\n",
    "\n",
    "La instrucción `DELETE` se utiliza para eliminar registros de una tabla.\n",
    "\n",
    "```sql\n",
    "DELETE FROM table_name\n",
    "WHERE condition;\n",
    "```\n",
    "\n",
    "Ejemplo:"
   ]
  },
  {
   "cell_type": "code",
   "execution_count": null,
   "metadata": {
    "vscode": {
     "languageId": "sql"
    }
   },
   "outputs": [],
   "source": [
    "%%sql\n",
    "-- Eliminamos a Ana de la tabla personas\n",
    "DELETE FROM personas\n",
    "WHERE nombre = \"Ana\";\n",
    "SELECT * FROM personas;"
   ]
  },
  {
   "cell_type": "markdown",
   "metadata": {},
   "source": [
    "### `SELECT`\n",
    "\n",
    "La instrucción `SELECT` se utiliza para seleccionar datos de una base de datos. Los datos devueltos se almacenan en un resultado de tabla, llamado conjunto de resultados.\n",
    "\n",
    "```sql\n",
    "SELECT column1, column2, ...\n",
    "FROM table_name;\n",
    "```\n",
    "\n",
    "El asterisco (`*`) selecciona todas las columnas de una tabla.\n",
    "\n",
    "Ejemplo:"
   ]
  },
  {
   "cell_type": "code",
   "execution_count": null,
   "metadata": {
    "vscode": {
     "languageId": "sql"
    }
   },
   "outputs": [],
   "source": [
    "%%sql\n",
    "SELECT nombre, edad FROM personas;"
   ]
  },
  {
   "cell_type": "markdown",
   "metadata": {},
   "source": [
    "#### `SELECT DISTINCT`\n",
    "\n",
    "La instrucción `SELECT DISTINCT` se utiliza para devolver solo valores distintos (diferentes).\n",
    "\n",
    "```sql\n",
    "SELECT DISTINCT column1, column2, ...\n",
    "FROM table_name;\n",
    "```\n",
    "\n",
    "Ejemplo:"
   ]
  },
  {
   "cell_type": "code",
   "execution_count": null,
   "metadata": {
    "vscode": {
     "languageId": "sql"
    }
   },
   "outputs": [],
   "source": [
    "%%sql\n",
    "SELECT DISTINCT edad FROM personas;"
   ]
  },
  {
   "cell_type": "markdown",
   "metadata": {},
   "source": [
    "`COUNT(DISTINCT)`: Devuelve el número de valores distintos.\n",
    "\n",
    "```sql\n",
    "SELECT COUNT(DISTINCT column1, column2, ...)\n",
    "FROM table_name;\n",
    "```\n",
    "\n",
    "Ejemplo:"
   ]
  },
  {
   "cell_type": "code",
   "execution_count": null,
   "metadata": {
    "vscode": {
     "languageId": "sql"
    }
   },
   "outputs": [],
   "source": [
    "%%sql\n",
    "SELECT COUNT(DISTINCT edad) FROM personas;"
   ]
  },
  {
   "cell_type": "markdown",
   "metadata": {},
   "source": [
    "### SQL `TOP`, `LIMIT`, `FETCH FIRST` or `ROWNUM` Clause\n",
    "\n",
    "La cláusula `TOP` se utiliza para especificar el número de registros que se deben devolver.\n",
    "\n",
    "```sql\n",
    "SELECT TOP number column1, column2, ...\n",
    "FROM table_name;\n",
    "```\n",
    "\n",
    "En MySQL, se utiliza la cláusula `LIMIT` para limitar el número de registros devueltos.\n",
    "\n",
    "```sql\n",
    "SELECT column1, column2, ...\n",
    "FROM table_name\n",
    "LIMIT number;\n",
    "```\n",
    "\n",
    "En Oracle, se utiliza la cláusula `FETCH FIRST` para limitar el número de registros devueltos.\n",
    "\n",
    "```sql\n",
    "SELECT column1, column2, ...\n",
    "FROM table_name\n",
    "FETCH FIRST number ROWS ONLY;\n",
    "```\n",
    "\n",
    "En SQL Server, se utiliza la cláusula `ROWNUM` para limitar el número de registros devueltos.\n",
    "\n",
    "```sql\n",
    "SELECT column1, column2, ...\n",
    "FROM table_name\n",
    "WHERE ROWNUM <= number;\n",
    "```"
   ]
  },
  {
   "cell_type": "code",
   "execution_count": null,
   "metadata": {
    "vscode": {
     "languageId": "sql"
    }
   },
   "outputs": [],
   "source": [
    "%%sql\n",
    "-- Seleccionamos los 2 primeros registros de la tabla personas\n",
    "SELECT TOP 2 * FROM personas;"
   ]
  },
  {
   "cell_type": "markdown",
   "metadata": {},
   "source": [
    "### `ORDER BY`\n",
    "\n",
    "La cláusula `ORDER BY` se utiliza para ordenar los resultados.\n",
    "\n",
    "```sql\n",
    "SELECT column1, column2, ...\n",
    "FROM table_name\n",
    "ORDER BY column1, column2, ... ASC|DESC;\n",
    "```\n",
    "\n",
    "Ejemplo:"
   ]
  },
  {
   "cell_type": "code",
   "execution_count": null,
   "metadata": {
    "vscode": {
     "languageId": "sql"
    }
   },
   "outputs": [],
   "source": [
    "%%sql\n",
    "/* Ordenamos la tabla por edades de forma descendente,\n",
    "y por nombre de forma ascendente \n",
    "es decir que en un principio se organizara de forma descendente\n",
    "por edad y si hay empate se organizara de forma ascendente por nombre */\n",
    "SELECT * FROM personas ORDER BY edad DESC, nombre ASC;"
   ]
  },
  {
   "cell_type": "markdown",
   "metadata": {},
   "source": [
    "### `WHERE`\n",
    "\n",
    "La cláusula `WHERE` se utiliza para filtrar registros.\n",
    "\n",
    "```sql\n",
    "SELECT column1, column2, ...\n",
    "FROM table_name\n",
    "WHERE condition;\n",
    "```\n",
    "\n",
    "Ejemplo:"
   ]
  },
  {
   "cell_type": "code",
   "execution_count": null,
   "metadata": {
    "vscode": {
     "languageId": "sql"
    }
   },
   "outputs": [],
   "source": [
    "%%sql\n",
    "-- Seleccionamos las personas que tengan una edad mayor o igual a 30\n",
    "SELECT nombre, edad FROM personas WHERE edad >= 30;"
   ]
  },
  {
   "cell_type": "markdown",
   "metadata": {},
   "source": [
    "Operadores de comparación comunes:\n",
    "\n",
    "| Operador  | Descripción                              | Ejemplo                      |\n",
    "|-----------|------------------------------------------|------------------------------|\n",
    "| `=`         | Igual                                   | `WHERE edad = 25`            |\n",
    "| `>`         | Mayor que                              | `WHERE salario > 3000`       |\n",
    "| `<`         | Menor que                              | `WHERE puntos < 50`         |\n",
    "| `>=`        | Mayor o igual que                      | `WHERE edad >= 18`           |\n",
    "| `<=`        | Menor o igual que                      | `WHERE precio <= 1000`       |\n",
    "| `<>`        | Distinto (en algunas versiones también `!=`) | `WHERE nombre <> 'Juan'` |\n",
    "| `BETWEEN`   | Entre un rango determinado             | `WHERE edad BETWEEN 18 AND 30` |\n",
    "| `LIKE`      | Buscar un patrón                       | `WHERE nombre LIKE 'J%'`     |\n",
    "| `IN`        | Especificar múltiples valores posibles | `WHERE ciudad IN ('Madrid', 'París', 'Londres')` |\n",
    "\n",
    "Se tienen que usar comillas simples para valores de tipo texto."
   ]
  },
  {
   "cell_type": "markdown",
   "metadata": {},
   "source": [
    "#### `AND`, `OR`, `NOT`\n",
    "\n",
    "Los operadores lógicos `AND`, `OR` y `NOT` se utilizan para combinar condiciones.\n",
    "\n",
    "```sql\n",
    "SELECT column1, column2, ...\n",
    "FROM table_name\n",
    "WHERE condition1 AND condition2;\n",
    "```\n",
    "\n",
    "```sql\n",
    "SELECT column1, column2, ...\n",
    "FROM table_name\n",
    "WHERE condition1 OR condition2;\n",
    "```\n",
    "\n",
    "```sql\n",
    "SELECT column1, column2, ...\n",
    "FROM table_name\n",
    "WHERE NOT condition;\n",
    "```\n",
    "\n",
    "Ejemplo:"
   ]
  },
  {
   "cell_type": "code",
   "execution_count": null,
   "metadata": {
    "vscode": {
     "languageId": "sql"
    }
   },
   "outputs": [],
   "source": [
    "%%sql\n",
    "/*\n",
    "Filtra los registros donde:\n",
    "1. La edad es 25 Y el nombre empieza con 'J' o 'P'\n",
    "OR\n",
    "2. El nombre NO está en ('Juan', 'Pedro') Y la edad NO está entre 25 y 29\n",
    "*/\n",
    "SELECT *\n",
    "FROM personas\n",
    "WHERE edad = 25 AND (nombre LIKE 'J%' OR nombre LIKE 'P%') \n",
    "OR nombre NOT IN ('Juan', 'Pedro') AND edad NOT BETWEEN 25 AND 29;"
   ]
  },
  {
   "cell_type": "markdown",
   "metadata": {},
   "source": [
    "`LIKE` se utiliza en una cláusula `WHERE` para buscar un patrón específico en una columna.\n",
    "El comodín `%` se utiliza para representar cero, uno o varios caracteres.\t\n",
    "\n",
    "```sql\n",
    "SELECT column1, column2, ...\n",
    "FROM table_name\n",
    "WHERE columnN LIKE pattern;\n",
    "```\n",
    "\n",
    "#### `LIKE`\n",
    "\n",
    "`LIKE` se utiliza en una cláusula `WHERE` para buscar un patrón específico en una columna.\n",
    "\n",
    "```sql\n",
    "SELECT column1, column2, ...\n",
    "FROM table_name\n",
    "WHERE columnN LIKE pattern;\n",
    "```\n",
    "\n",
    "Ejemplo:"
   ]
  },
  {
   "cell_type": "code",
   "execution_count": null,
   "metadata": {
    "vscode": {
     "languageId": "sql"
    }
   },
   "outputs": [],
   "source": [
    "%%sql\n",
    "-- Seleccionamos las personas que tengan el nombre Juan Perez\n",
    "SELECT * \n",
    "FROM personas\n",
    "WHERE nombre LIKE 'Juan Perez';"
   ]
  },
  {
   "cell_type": "markdown",
   "metadata": {},
   "source": [
    "#### Comodines de `LIKE`\n",
    "\n",
    "Los comodines se utilizan con el operador `LIKE` para buscar un patrón específico en una columna.\n",
    "\n",
    "| Comodín  | Descripción                              | Uso                     |\n",
    "|----------|------------------------------------------|-------------------------|\n",
    "| %        | Representa cero, uno o varios caracteres | `WHERE nombre LIKE 'J%'` `WHERE nombre LIKE '%a'` `WHERE nombre LIKE '%or%'` |\n",
    "| _        | Representa un solo carácter              |`WHERE nombre LIKE 'j__n'` |\n",
    "| [charlist] | Cualquier carácter en la lista (por ejemplo, `[a-f]`) | `WHERE nombre LIKE '[abc]%'` |\n",
    "| [^charlist] | Cualquier carácter que no esté en la lista | `WHERE nombre LIKE '[^abc]%'` |\n",
    "| -        | Rango de caracteres                      | `WHERE nombre LIKE '[a-z]%'` |"
   ]
  },
  {
   "cell_type": "markdown",
   "metadata": {},
   "source": [
    "#### `IN`\n",
    "\n",
    "La cláusula `IN` se utiliza para especificar múltiples valores posibles para una columna.\n",
    "\n",
    "```sql\n",
    "SELECT column1, column2, ...\n",
    "FROM table_name\n",
    "WHERE columnN IN (value1, value2, ...);\n",
    "```\n",
    "\n",
    "Ejemplo:    "
   ]
  },
  {
   "cell_type": "code",
   "execution_count": null,
   "metadata": {
    "vscode": {
     "languageId": "sql"
    }
   },
   "outputs": [],
   "source": [
    "%%sql\n",
    "-- Seleccionamos las personas que esten en la lista(que se llamen Juan Perez o Maria)\n",
    "SELECT nombre\n",
    "FROM personas\n",
    "WHERE nombre IN ('Juan Perez', 'Maria');"
   ]
  },
  {
   "cell_type": "markdown",
   "metadata": {},
   "source": [
    "#### `IN(SELECT)`\n",
    "\n",
    "La cláusula `IN` también se puede utilizar con una subconsulta.\n",
    "\n",
    "```sql\n",
    "SELECT column1, column2, ...\n",
    "FROM table_name\n",
    "WHERE columnN IN (SELECT columnN FROM table_name WHERE condition);\n",
    "```\n",
    "\n",
    "Ejemplo:"
   ]
  },
  {
   "cell_type": "code",
   "execution_count": null,
   "metadata": {
    "vscode": {
     "languageId": "sql"
    }
   },
   "outputs": [],
   "source": [
    "%%sql\n",
    "-- Seleccionamos las personas que tengan la edad 25\n",
    "SELECT nombre\n",
    "FROM personas\n",
    "WHERE nombre IN (SELECT nombre FROM personas WHERE edad = 25);"
   ]
  },
  {
   "cell_type": "markdown",
   "metadata": {},
   "source": [
    "#### `BETWEEN`\n",
    "\n",
    "La cláusula `BETWEEN` se utiliza para seleccionar valores dentro de un rango determinado.\n",
    "\n",
    "```sql\n",
    "SELECT column1, column2, ...\n",
    "FROM table_name\n",
    "WHERE columnN BETWEEN value1 AND value2;\n",
    "```\n",
    "\n",
    "Ejemplo:"
   ]
  },
  {
   "cell_type": "code",
   "execution_count": null,
   "metadata": {
    "vscode": {
     "languageId": "sql"
    }
   },
   "outputs": [],
   "source": [
    "%%sql\n",
    "-- Seleccionamos las personas que tengan entre 20 y 30 años\n",
    "SELECT nombre, edad\n",
    "FROM personas\n",
    "WHERE edad BETWEEN 20 AND 30;"
   ]
  },
  {
   "cell_type": "code",
   "execution_count": null,
   "metadata": {
    "vscode": {
     "languageId": "sql"
    }
   },
   "outputs": [],
   "source": [
    "%%sql\n",
    "-- Seleccionamos las personas las cuales la primer letra de su nombre este entre A y P (excluyen3a la P)\n",
    "SELECT * FROM personas\n",
    "WHERE nombre BETWEEN 'A' AND 'P';"
   ]
  },
  {
   "cell_type": "markdown",
   "metadata": {},
   "source": [
    "#### `EXISTS`\n",
    "\n",
    "La cláusula `EXISTS` se utiliza para comprobar la existencia de cualquier registro en una subconsulta.\n",
    "\n",
    "```sql\n",
    "SELECT column1, column2, ...\n",
    "FROM table_name\n",
    "WHERE EXISTS (SELECT columnN FROM table_name WHERE condition);\n",
    "```\n",
    "\n",
    "Ejemplo:"
   ]
  },
  {
   "cell_type": "code",
   "execution_count": null,
   "metadata": {
    "vscode": {
     "languageId": "sql"
    }
   },
   "outputs": [],
   "source": [
    "%%sql\n",
    "-- Selecciona todos los registros de la tabla 'personas2'\n",
    "-- solo si existe al menos un registro en 'personas' con edad = 32\n",
    "SELECT * \n",
    "FROM personas2\n",
    "WHERE EXISTS (\n",
    "    -- Subconsulta: verifica si hay al menos una fila con edad = 32\n",
    "    -- Como no hay no imprime nada\n",
    "    SELECT * FROM personas WHERE edad = 32\n",
    ");\n"
   ]
  },
  {
   "cell_type": "markdown",
   "metadata": {},
   "source": [
    "#### `ANY` y `ALL`\n",
    "\n",
    "Los operadores `ANY` y `ALL` se utilizan con una subconsulta y se utilizan principalmente en combinación con operadores de comparación.\n",
    "\n",
    "```sql\n",
    "SELECT column1, column2, ...\n",
    "FROM table_name\n",
    "WHERE columnN operator ANY (SELECT columnN FROM table_name WHERE condition);\n",
    "```\n",
    "\n",
    "```sql\n",
    "SELECT column1, column2, ...\n",
    "FROM table_name\n",
    "WHERE columnN operator ALL (SELECT columnN FROM table_name WHERE condition);\n",
    "```\n",
    "\n",
    "Ejemplo:\n",
    "\n",
    "\n",
    "```sql\n",
    "-- Selecciona todas las filas de 'personas2'\n",
    "-- donde la edad coincide con al menos un valor en la subconsulta\n",
    "SELECT * FROM personas2\n",
    "WHERE edad = ANY (SELECT edad FROM personas WHERE edad = 20);\n",
    "\n",
    "/*\n",
    "Salida esperada en SQL estándar:\n",
    "| id | nombre  | edad |\n",
    "|----|--------|------|\n",
    "| 1 | Juan   |  25  |\n",
    "| 2 | Maria  |  30  |\n",
    "| 3 | Pedro  |  25  |\n",
    "| 4 | Ana    |  20  |\n",
    "Explicación: Se selecciona solo la fila donde 'edad' es 20 en 'personas2',\n",
    "porque existe al menos un valor de 20 en 'personas'.\n",
    "*/\n",
    "```\n",
    "\n",
    "```sql\n",
    "-- Selecciona todas las filas de 'personas2'\n",
    "-- donde la edad es mayor que todas las edades devueltas en la subconsulta\n",
    "SELECT * FROM personas2\n",
    "WHERE edad = ALL (SELECT edad FROM personas WHERE edad = 25);\n",
    "\n",
    "/* Salida esperada en SQL estándar:\n",
    "| id | nombre  | edad |\n",
    "|----|--------|------|\n",
    "\n",
    "No devuelve ninguna fila porque no todas las fila en 'personas' tienen 'edad' = 25.\n",
    "*/\n",
    "\n",
    "```"
   ]
  },
  {
   "cell_type": "markdown",
   "metadata": {},
   "source": [
    "### `AS`\n",
    "\n",
    "La palabra clave `AS` se utiliza para renombrar una columna o tabla en SQL.\n",
    "\n",
    "```sql\n",
    "SELECT column1 AS alias_name\n",
    "FROM table_name;\n",
    "```\n",
    "\n",
    "```sql\n",
    "SELECT * FROM table_name AS alias_name;\n",
    "```\n",
    "\n",
    "Podemos usar comillas(\"\") o corchetes([]) para nombres de columnas o tablas que contengan espacios o caracteres especiales. \n",
    "\n",
    "Ejemplo:"
   ]
  },
  {
   "cell_type": "code",
   "execution_count": null,
   "metadata": {
    "vscode": {
     "languageId": "sql"
    }
   },
   "outputs": [],
   "source": [
    "%%sql\n",
    "SELECT nombre AS Nombre, edad AS Edad\n",
    "FROM personas;"
   ]
  },
  {
   "cell_type": "markdown",
   "metadata": {},
   "source": [
    "### `SELECT INTO`\n",
    "\n",
    "La instrucción `SELECT INTO` se utiliza para copiar datos de una tabla a una nueva tabla.\n",
    "\n",
    "```sql\n",
    "SELECT column1, column2, ...\n",
    "INTO new_table_name [IN externaldatabase]\n",
    "FROM old_table_name;\n",
    "```\n",
    "Sqlite no soporta `SELECT INTO`, pero se puede usar `CREATE TABLE nueva_tabla AS SELECT columna1, columna2 FROM tabla_existente WHERE condicion;`\n",
    "\n",
    "Ejemplo:\n",
    "\n",
    "```sql\n",
    "SELECT nombre AS Nombre, edad AS Edad\n",
    "INTO personas3\n",
    "FROM personas2;\n",
    "```"
   ]
  },
  {
   "cell_type": "markdown",
   "metadata": {},
   "source": [
    "### `INSERT INTO SELECT`\n",
    "\n",
    "La instrucción `INSERT INTO SELECT` se utiliza para copiar datos de una tabla a otra.\n",
    "\n",
    "```sql\n",
    "INSERT INTO table2 (column1, column2, ...)\n",
    "SELECT column1, column2, ...\n",
    "FROM table1;\n",
    "```\n",
    "\n",
    "Sqlite no soporta `INSERT INTO SELECT`, pero se puede usar `INSERT INTO nueva_tabla (columna1, columna2) SELECT columna1, columna2 FROM tabla_existente WHERE condicion;`\n",
    "\n",
    "Ejemplo:"
   ]
  },
  {
   "cell_type": "code",
   "execution_count": null,
   "metadata": {
    "vscode": {
     "languageId": "sql"
    }
   },
   "outputs": [],
   "source": [
    "%%sql\n",
    "-- Se crea una tabla personas 3 sin valores y se imprime\n",
    "CREATE TABLE personas3 (\n",
    "    id INTEGER PRIMARY KEY,\n",
    "    nombre TEXT,\n",
    "    edad INTEGER\n",
    ");\n",
    "SELECT * FROM personas3;"
   ]
  },
  {
   "cell_type": "code",
   "execution_count": null,
   "metadata": {
    "vscode": {
     "languageId": "sql"
    }
   },
   "outputs": [],
   "source": [
    "%%sql\n",
    "-- Se insertan los valores de la tabla personas en la tabla personas3\n",
    "INSERT INTO personas3 (nombre, edad)\n",
    "SELECT nombre, edad\n",
    "FROM personas;\n",
    "SELECT * FROM personas3;"
   ]
  },
  {
   "cell_type": "markdown",
   "metadata": {},
   "source": [
    "# Fechas en SQL\n",
    "\n",
    "## Tipos de datos de fecha y hora\n",
    "\n",
    "MYSQL:\n",
    "\n",
    "- `DATE`: Almacena una fecha en formato 'YYYY-MM-DD'.\n",
    "- `DATETIME`: Almacena una fecha y hora en formato 'YYYY-MM-DD HH:MM:SS'.\n",
    "- `TIMESTAMP`: Almacena una marca de tiempo en formato 'YYYY-MM-DD HH:MM:SS'.\n",
    "- `TIME`: Almacena una hora en formato 'HH:MM:SS'.\n",
    "- `YEAR`: Almacena un año en formato 'YYYY'.\n",
    "\n",
    "SQL Server:\n",
    "\n",
    "- `DATE`: Almacena una fecha en formato 'YYYY-MM-DD'.\n",
    "- `DATETIME`: Almacena una fecha y hora en formato 'YYYY-MM-DD HH:MM:SS'.\n",
    "- `SMALLDATETIME`: Almacena una fecha y hora en formato 'YYYY-MM-DD HH:MM:SS'.\n",
    "- `TIMESTAMP`: Almacena una marca de tiempo en formato 'YYYY-MM-DD HH:MM:SS'."
   ]
  },
  {
   "cell_type": "markdown",
   "metadata": {},
   "source": [
    "# `CASE`\n",
    "\n",
    "La expresión `CASE` se utiliza para crear diferentes resultados en una consulta SQL.\n",
    "\n",
    "```sql\n",
    "SELECT column1,\n",
    "    CASE\n",
    "        WHEN condition1 THEN result1\n",
    "        WHEN condition2 THEN result2\n",
    "        ELSE result\n",
    "    END\n",
    "FROM table_name;\n",
    "```\n",
    "\n",
    "Ejemplo:"
   ]
  },
  {
   "cell_type": "code",
   "execution_count": null,
   "metadata": {
    "vscode": {
     "languageId": "sql"
    }
   },
   "outputs": [],
   "source": [
    "%%sql\n",
    "-- Selecciona nombre, edad y asigna un rango de edad (Joven, Adulto o Anciano)\n",
    "-- según el valor de edad en la tabla personas2.\n",
    "SELECT nombre, edad,\n",
    "    (CASE\n",
    "        WHEN edad < 25 THEN 'Joven'\n",
    "        WHEN edad < 35 THEN 'Adulto'\n",
    "        ELSE 'Anciano'\n",
    "    END) AS Rango_Edad\n",
    "FROM personas2;"
   ]
  },
  {
   "cell_type": "markdown",
   "metadata": {},
   "source": [
    "# Procedimientos almacenados (Funciones)\n",
    "\n",
    "Un procedimiento almacenado es un conjunto de instrucciones SQL que se almacenan en un sistema de base de datos. Los procedimientos almacenados se pueden reutilizar y compartir en diferentes aplicaciones.\n",
    "\n",
    "### Crear un procedimiento almacenado\n",
    "\n",
    "```sql\n",
    "CREATE PROCEDURE procedure_name\n",
    "AS\n",
    "procedure_body\n",
    "GO;\n",
    "```\n",
    "\n",
    "En sqlite se usa:\n",
    "\n",
    "```sql\n",
    "CREATE VIEW view_name AS\n",
    "SELECT column1, column2, ... FROM table_name\n",
    "WHERE condition;\n",
    "```\n",
    "\n",
    "Ejemplo:"
   ]
  },
  {
   "cell_type": "code",
   "execution_count": null,
   "metadata": {
    "vscode": {
     "languageId": "sql"
    }
   },
   "outputs": [],
   "source": [
    "%%sql\n",
    "-- Creamos una funcion llamada personas_vw que muertra la tabla personas\n",
    "CREATE VIEW personas_vw AS\n",
    "SELECT * FROM personas;"
   ]
  },
  {
   "cell_type": "markdown",
   "metadata": {},
   "source": [
    "#### Crear un procedimiento almacenado con parametros\n",
    "\n",
    "```sql\n",
    "CREATE PROCEDURE procedure_name\n",
    "    @parameter1 datatype,\n",
    "    @parameter2 datatype\n",
    "AS\n",
    "procedure_body\n",
    "GO;\n",
    "```\n",
    "\n",
    "En sqlite se usa:\n",
    "\n",
    "```sql\n",
    "CREATE VIEW view_name AS\n",
    "SELECT column1, column2, ... FROM table_name\n",
    "WHERE condition;\n",
    "```\n",
    "\n",
    "Ejemplo:"
   ]
  },
  {
   "cell_type": "code",
   "execution_count": null,
   "metadata": {
    "vscode": {
     "languageId": "sql"
    }
   },
   "outputs": [],
   "source": [
    "%%sql\n",
    "-- Creamos una funcion llamada personas2_mayores_24 que muertra los registros\n",
    "-- de las personas mayores a 24 años de la tabla personas2\n",
    "CREATE VIEW personas2_mayores_24 AS\n",
    "SELECT * FROM personas2\n",
    "WHERE edad > 24;"
   ]
  },
  {
   "cell_type": "markdown",
   "metadata": {},
   "source": [
    "### Ejecutar un procedimiento almacenado\n",
    "\n",
    "```sql\n",
    "EXEC procedure_name;\n",
    "```\n",
    "\n",
    "En sqlite se usa:\n",
    "\n",
    "```sql\n",
    "SELECT * FROM view_name;\n",
    "```\n",
    "\n",
    "Ejemplo:"
   ]
  },
  {
   "cell_type": "code",
   "execution_count": null,
   "metadata": {
    "vscode": {
     "languageId": "sql"
    }
   },
   "outputs": [],
   "source": [
    "%%sql\n",
    "-- Se llama la funcion personas_vw\n",
    "SELECT * FROM personas_vw;"
   ]
  },
  {
   "cell_type": "code",
   "execution_count": null,
   "metadata": {
    "vscode": {
     "languageId": "sql"
    }
   },
   "outputs": [],
   "source": [
    "%%sql\n",
    "-- Se llama la funcion personas2_mayores_24\n",
    "SELECT * FROM personas2_mayores_24;"
   ]
  },
  {
   "cell_type": "markdown",
   "metadata": {},
   "source": [
    "### Eliminar un procedimiento almacenado\n",
    "\n",
    "```sql\n",
    "DROP PROCEDURE procedure_name;\n",
    "```\n",
    "\n",
    "En sqlite se usa:\n",
    "\n",
    "```sql\n",
    "DROP VIEW view_name;\n",
    "```\n",
    "\n",
    "Ejemplo:"
   ]
  },
  {
   "cell_type": "code",
   "execution_count": null,
   "metadata": {
    "vscode": {
     "languageId": "sql"
    }
   },
   "outputs": [],
   "source": [
    "%%sql\n",
    "-- Se elimina la vista personas_vw\n",
    "DROP VIEW personas_vw;"
   ]
  },
  {
   "cell_type": "code",
   "execution_count": null,
   "metadata": {
    "vscode": {
     "languageId": "sql"
    }
   },
   "outputs": [],
   "source": [
    "%%sql\n",
    "-- Se confirma que se elimino la vista personas_vw\n",
    "SELECT * FROM personas_vw;"
   ]
  },
  {
   "cell_type": "markdown",
   "metadata": {},
   "source": [
    "# `NULL`\n",
    "\n",
    "`NULL` es un valor especial que indica que un campo de la base de datos está vacío. `NULL` no es lo mismo que un valor cero o una cadena vacía.\n",
    "\n",
    "Para buscar campos que estén vacíos, se utiliza la cláusula `IS NULL`.\n",
    "\n",
    "```sql\n",
    "SELECT column1, column2, ...\n",
    "FROM table_name\n",
    "WHERE columnN IS NULL;\n",
    "```\n",
    "\n",
    "Ejemplo:"
   ]
  },
  {
   "cell_type": "code",
   "execution_count": null,
   "metadata": {
    "vscode": {
     "languageId": "sql"
    }
   },
   "outputs": [],
   "source": [
    "%%sql\n",
    "-- Selecciona todas las edades nulas\n",
    "SELECT nombre, edad\n",
    "FROM personas\n",
    "WHERE edad IS NULL;"
   ]
  },
  {
   "cell_type": "code",
   "execution_count": null,
   "metadata": {
    "vscode": {
     "languageId": "sql"
    }
   },
   "outputs": [],
   "source": [
    "%%sql\n",
    "-- Selecciona todas las edades no nulas\n",
    "SELECT nombre, edad\n",
    "FROM personas\n",
    "WHERE edad IS NOT NULL;"
   ]
  },
  {
   "cell_type": "markdown",
   "metadata": {},
   "source": [
    "## Funciones NULL\n",
    "\n",
    "### `IFNULL()`\n",
    "\n",
    "La función `IFNULL()` se utiliza para reemplazar valores `NULL` por otro valor.\n",
    "\n",
    "```sql\n",
    "SELECT column1, IFNULL(column2, 'No disponible') AS alias_name\n",
    "FROM table_name;\n",
    "```\n",
    "\n",
    "Tambien se puede usar `COALESCE()` que es equivalente a `IFNULL()`.\n",
    "\n",
    "En sqllte usamos `COALESCE()`.\n",
    "\n",
    "Ejemplo:"
   ]
  },
  {
   "cell_type": "code",
   "execution_count": null,
   "metadata": {
    "vscode": {
     "languageId": "sql"
    }
   },
   "outputs": [],
   "source": [
    "%%sql\n",
    "-- Se relaciona la tabla consigo misma y se reemplaza los valores NULL de la columna jefe por 'no tiene jefe'\n",
    "SELECT A.nombre AS empleado, \n",
    "       COALESCE(B.nombre, 'no tiene jefe') AS jefe\n",
    "FROM empleados A\n",
    "LEFT JOIN empleados B\n",
    "ON A.id_jefe = B.id_empleado;\n"
   ]
  },
  {
   "cell_type": "markdown",
   "metadata": {},
   "source": [
    "# Uniones en SQL\n",
    "\n",
    "Las uniones en SQL se utilizan para combinar filas de dos o más tablas en función de una relación entre ellas. Las uniones se utilizan para recuperar datos de dos o más tablas relacionadas.\n",
    "\n",
    "## `INNER JOIN`\n",
    "\n",
    "La unión interna (`INNER JOIN`) se utiliza para devolver filas cuando hay al menos una coincidencia en ambas tablas.\n",
    "\n",
    "```sql\n",
    "SELECT column1, column2, ...\n",
    "FROM table1\n",
    "INNER JOIN table2\n",
    "ON table1.column_name = table2.column_name;\n",
    "```\n",
    "\n",
    "Ejemplo:\n"
   ]
  },
  {
   "cell_type": "code",
   "execution_count": null,
   "metadata": {
    "vscode": {
     "languageId": "sql"
    }
   },
   "outputs": [],
   "source": [
    "%%sql\n",
    "-- Selecciona todos los datos coincidentes entre las dos tablas (que coincida el nombre)\n",
    "SELECT personas.nombre, personas.edad\n",
    "FROM personas \n",
    "INNER JOIN personas2\n",
    "ON personas.nombre = personas2.nombre;"
   ]
  },
  {
   "cell_type": "markdown",
   "metadata": {},
   "source": [
    "## `LEFT JOIN` o `LEFT OUTER JOIN`\n",
    "\n",
    "La unión izquierda (`LEFT JOIN`) o unión externa izquierda (`LEFT OUTER JOIN`) se utiliza para devolver todas las filas de la tabla de la izquierda y las filas coincidentes de la tabla de la derecha.\n",
    "\n",
    "```sql\n",
    "SELECT column1, column2, ...\n",
    "FROM table1\n",
    "LEFT JOIN table2\n",
    "ON table1.column_name = table2.column_name;\n",
    "```\n",
    "\n",
    "Ejemplo:"
   ]
  },
  {
   "cell_type": "code",
   "execution_count": null,
   "metadata": {
    "vscode": {
     "languageId": "sql"
    }
   },
   "outputs": [],
   "source": [
    "%%sql\n",
    "-- Se crea una tabla compras \n",
    "CREATE TABLE compras (\n",
    "    id_compra INTEGER PRIMARY KEY,\n",
    "    id_cliente INTEGER,\n",
    "    producto TEXT\n",
    ");\n",
    "SELECT * FROM compras;"
   ]
  },
  {
   "cell_type": "code",
   "execution_count": null,
   "metadata": {
    "vscode": {
     "languageId": "sql"
    }
   },
   "outputs": [],
   "source": [
    "%%sql\n",
    "-- Se insertan los valores en la tabla compras\n",
    "INSERT INTO compras (id_compra, id_cliente, producto)\n",
    "VALUES (100, 1, 'Laptop'), (101, 2, 'Tablet'), (102, 2, 'Smartphone'), (103, 1, 'Smartwatch');\n",
    "SELECT * FROM compras;"
   ]
  },
  {
   "cell_type": "code",
   "execution_count": null,
   "metadata": {
    "vscode": {
     "languageId": "sql"
    }
   },
   "outputs": [],
   "source": [
    "%%sql\n",
    "-- Modificamos el nombre de la columna id a id_cliente paraq que coincida con la tabla compras\n",
    "ALTER TABLE personas2 RENAME COLUMN id TO id_cliente;\n",
    "SELECT * FROM personas2;"
   ]
  },
  {
   "cell_type": "code",
   "execution_count": null,
   "metadata": {
    "vscode": {
     "languageId": "sql"
    }
   },
   "outputs": [],
   "source": [
    "%%sql\n",
    "SELECT personas2.nombre, compras.producto\n",
    "FROM personas2\n",
    "LEFT JOIN compras\n",
    "ON personas2.id_cliente = compras.id_cliente;"
   ]
  },
  {
   "cell_type": "markdown",
   "metadata": {},
   "source": [
    "## `RIGHT JOIN` o `RIGHT OUTER JOIN`\n",
    "\n",
    "La unión derecha (`RIGHT JOIN`) o unión externa derecha (`RIGHT OUTER JOIN`) se utiliza para devolver todas las filas de la tabla de la derecha y las filas coincidentes de la tabla de la izquierda.\n",
    "\n",
    "```sql\n",
    "SELECT column1, column2, ...\n",
    "FROM table1\n",
    "RIGHT JOIN table2\n",
    "ON table1.column_name = table2.column_name;\n",
    "```\n",
    "\n",
    "SQlite no soporta `RIGHT JOIN`, pero se puede usar `LEFT JOIN` cambiando el orden de las tablas."
   ]
  },
  {
   "cell_type": "markdown",
   "metadata": {},
   "source": [
    "## `FULL JOIN` o `FULL OUTER JOIN`\n",
    "\n",
    "La unión completa (`FULL JOIN`) o unión externa completa (`FULL OUTER JOIN`) se utiliza para devolver filas cuando hay una coincidencia en una de las tablas.\n",
    "\n",
    "```sql\n",
    "SELECT column1, column2, ...\n",
    "FROM table1\n",
    "FULL JOIN table2\n",
    "ON table1.column_name = table2.column_name;\n",
    "```\n",
    "\n",
    "Ejemplo:"
   ]
  },
  {
   "cell_type": "code",
   "execution_count": null,
   "metadata": {
    "vscode": {
     "languageId": "sql"
    }
   },
   "outputs": [],
   "source": [
    "%%sql\n",
    "/*\n",
    "Devuelve los nombres y edades de ambas tablas, combinando los registros \n",
    "cuando el nombre sea el mismo en ambas. Si no hay coincidencia, muestra \n",
    "los registros de ambas tablas igualmente.\n",
    "*/\n",
    "SELECT personas2.nombre AS nombre_personas2,\n",
    "personas2.edad AS edad_personas2,\n",
    "personas.nombre AS nombre_personas,\n",
    "personas.edad AS edad_personas\n",
    "FROM personas2\n",
    "FULL JOIN personas\n",
    "ON personas2.nombre = personas.nombre;"
   ]
  },
  {
   "cell_type": "markdown",
   "metadata": {},
   "source": [
    "## Auto Uniones en SQL\n",
    "\n",
    "Una auto unión es una unión que se realiza en una sola tabla. Se utiliza para combinar filas de la misma tabla.\n",
    "\n",
    "```sql\n",
    "SELECT column1, column2, ...\n",
    "FROM table1 T1, table1 T2\n",
    "WHERE condition;\n",
    "```\n",
    "\n",
    "Ejemplo:"
   ]
  },
  {
   "cell_type": "code",
   "execution_count": null,
   "metadata": {
    "vscode": {
     "languageId": "sql"
    }
   },
   "outputs": [],
   "source": [
    "%%sql\n",
    "-- Se crea una tabla empleados\n",
    "CREATE TABLE empleados (\n",
    "    id_empleado INTEGER PRIMARY KEY,\n",
    "    nombre TEXT,\n",
    "    id_jefe INTEGER\n",
    ")\n",
    "SELECT * FROM empleados;"
   ]
  },
  {
   "cell_type": "code",
   "execution_count": null,
   "metadata": {
    "vscode": {
     "languageId": "sql"
    }
   },
   "outputs": [],
   "source": [
    "%%sql\n",
    "-- Se insertan los valores en la tabla empleados\n",
    "INSERT INTO empleados (nombre, id_jefe)\n",
    "VALUES ('Ana', NULL), ('Juan', 1), ('Pedro', 1), ('Maria', 2);\n",
    "SELECT * FROM empleados;"
   ]
  },
  {
   "cell_type": "code",
   "execution_count": null,
   "metadata": {
    "vscode": {
     "languageId": "sql"
    }
   },
   "outputs": [],
   "source": [
    "%%sql\n",
    "-- Se relaciona la tabla consigo misma usando la id de empleado y la id del jefe\n",
    "SELECT A.nombre AS empleado, B.nombre AS jefe\n",
    "FROM empleados A , empleados B\n",
    "WHERE A.id_jefe = B.id_empleado;\n"
   ]
  },
  {
   "cell_type": "code",
   "execution_count": null,
   "metadata": {
    "vscode": {
     "languageId": "sql"
    }
   },
   "outputs": [],
   "source": [
    "%%sql\n",
    "-- Se relaciona la tabla consigo misma usando la id de empleado y la id del jefe\n",
    "-- Devuelve todos los empleados incluido los que no tienen jefes\n",
    "SELECT A.nombre AS empleado, \n",
    "B.nombre AS jefe\n",
    "FROM empleados A\n",
    "LEFT JOIN empleados B\n",
    "ON A.id_jefe = B.id_empleado;"
   ]
  },
  {
   "cell_type": "markdown",
   "metadata": {},
   "source": [
    "## `UNION`\n",
    "\n",
    "La cláusula `UNION` se utiliza para combinar el resultado de dos o más instrucciones `SELECT`.\n",
    "\n",
    "```sql\n",
    "SELECT column1, column2, ...\n",
    "FROM table1\n",
    "WHERE condition\n",
    "UNION\n",
    "SELECT column1, column2, ...\n",
    "FROM table2\n",
    "WHERE condition;\n",
    "```\n",
    "\n",
    "Ejemplo:"
   ]
  },
  {
   "cell_type": "code",
   "execution_count": null,
   "metadata": {
    "vscode": {
     "languageId": "sql"
    }
   },
   "outputs": [],
   "source": [
    "%%sql\n",
    "-- Creamos la tabla medio_tiempo\n",
    "CREATE TABLE medio_tiempo (\n",
    "    id INTEGER PRIMARY KEY,\n",
    "    nombre TEXT,\n",
    "    salario INTEGER\n",
    ");\n",
    "\n",
    "-- Creamos la tabla tiempo_completo\n",
    "CREATE TABLE tiempo_completo (\n",
    "    id INTEGER PRIMARY KEY,\n",
    "    nombre TEXT,\n",
    "    salario INTEGER\n",
    ");"
   ]
  },
  {
   "cell_type": "code",
   "execution_count": null,
   "metadata": {
    "vscode": {
     "languageId": "sql"
    }
   },
   "outputs": [],
   "source": [
    "%%sql\n",
    "-- Insertamos los valores en la tabla medio_tiempo\n",
    "INSERT INTO medio_tiempo (id , nombre, salario)\n",
    "VALUES (1, 'Juan', 1000), (3, 'Pedro', 1200);\n",
    "-- Insertamos los valores en la tabla tiempo_completo   \n",
    "INSERT INTO tiempo_completo (id , nombre, salario)\n",
    "VALUES (1, 'Juan', 1000), (2, 'Maria', 2000), (4, 'Ana', 1500);"
   ]
  },
  {
   "cell_type": "code",
   "execution_count": null,
   "metadata": {
    "vscode": {
     "languageId": "sql"
    }
   },
   "outputs": [],
   "source": [
    "%%sql\n",
    "-- Seleccionamos los nombres y salarios de las dos tablas sin duplicados\n",
    "SELECT nombre, salario\n",
    "FROM medio_tiempo\n",
    "UNION\n",
    "SELECT nombre, salario\n",
    "FROM tiempo_completo;"
   ]
  },
  {
   "cell_type": "code",
   "execution_count": null,
   "metadata": {
    "vscode": {
     "languageId": "sql"
    }
   },
   "outputs": [],
   "source": [
    "%%sql\n",
    "-- Seleccionamos los nombres y salarios de las dos tablas con duplicados poruque al agregar\n",
    "-- la columna tipo las filas ya no son completamente iguales\n",
    "SELECT nombre, salario, 'medio_tiempo' AS tipo\n",
    "FROM medio_tiempo\n",
    "UNION\n",
    "SELECT nombre, salario, 'tiempo_completo' AS tipo\n",
    "FROM tiempo_completo;"
   ]
  },
  {
   "cell_type": "markdown",
   "metadata": {},
   "source": [
    "### `UNION ALL`\n",
    "\n",
    "La cláusula `UNION ALL` se utiliza para combinar el resultado de dos o más instrucciones `SELECT`, incluyendo duplicados.\n",
    "\n",
    "```sql\n",
    "SELECT column1, column2, ...\n",
    "FROM table1\n",
    "WHERE condition\n",
    "UNION ALL\n",
    "SELECT column1, column2, ...\n",
    "FROM table2\n",
    "WHERE condition;\n",
    "```\n",
    "\n",
    "Ejemplo:"
   ]
  },
  {
   "cell_type": "code",
   "execution_count": null,
   "metadata": {
    "vscode": {
     "languageId": "sql"
    }
   },
   "outputs": [],
   "source": [
    "%%sql\n",
    "-- Seleccionamos los nombres y salarios de las dos tablas con duplicados\n",
    "SELECT nombre, salario\n",
    "FROM medio_tiempo\n",
    "UNION ALL\n",
    "SELECT nombre, salario\n",
    "FROM tiempo_completo;"
   ]
  },
  {
   "cell_type": "markdown",
   "metadata": {},
   "source": [
    "# `GROUP BY` en SQL\n",
    "\n",
    "La cláusula `GROUP BY` se utiliza en conjunto con la instrucción `SELECT` para organizar los resultados en grupos.\n",
    "\n",
    "```sql\n",
    "SELECT column1, column2, ...\n",
    "FROM table_name\n",
    "WHERE condition\n",
    "GROUP BY column1, column2, ...\n",
    "ORDER BY column1, column2, ...;\n",
    "```\n",
    "\n",
    "Ejemplo:"
   ]
  },
  {
   "cell_type": "code",
   "execution_count": null,
   "metadata": {
    "vscode": {
     "languageId": "sql"
    }
   },
   "outputs": [],
   "source": [
    "%%sql\n",
    "-- Agrupa por edad y cuenta cuántas personas tienen cada edad, \n",
    "-- ordenando los resultados de mayor a menor cantidad de personas por edad.\n",
    "SELECT * FROM personas\n",
    "GROUP BY edad ;"
   ]
  },
  {
   "cell_type": "code",
   "execution_count": null,
   "metadata": {
    "vscode": {
     "languageId": "sql"
    }
   },
   "outputs": [],
   "source": [
    "%%sql\n",
    "-- EJemplo con mejor formato\n",
    "SELECT edad, COUNT(*) AS cantidad\n",
    "FROM personas\n",
    "GROUP BY edad\n",
    "ORDER BY cantidad DESC;"
   ]
  },
  {
   "cell_type": "markdown",
   "metadata": {},
   "source": [
    "## Funciones de agregado\n",
    "\n",
    "Generalmente se utilizan en conjunto con la cláusula `GROUP BY` para realizar cálculos en un conjunto de registros.\n",
    "\n",
    "| Función          | Descripción                                                   | Ejemplo                                      |\n",
    "|-----------------|---------------------------------------------------------------|----------------------------------------------|\n",
    "| `COUNT()`       | Cuenta la cantidad de registros en una columna.               | `SELECT COUNT(*) FROM empleados;`           |\n",
    "| `SUM()`         | Suma todos los valores de una columna numérica.               | `SELECT SUM(salario) FROM empleados;`       |\n",
    "| `AVG()`         | Calcula el promedio de una columna numérica.                  | `SELECT AVG(edad) FROM empleados;`          |\n",
    "| `MIN()`         | Devuelve el valor mínimo de una columna.                      | `SELECT MIN(salario) FROM empleados;`       |\n",
    "| `MAX()`         | Devuelve el valor máximo de una columna.                      | `SELECT MAX(salario) FROM empleados;`       |\n",
    "| `GROUP_CONCAT()`| Concatena valores de una columna en una sola cadena de texto. *(Solo en MySQL y SQLite)* | `SELECT GROUP_CONCAT(nombre) FROM empleados;` |\n",
    "\n",
    "En todos los casos podemos utilizar `WHERE` para filtrar los datos, y `AS` para darle un nombre al resultado mejorando la legibilidad.\n",
    "\n",
    "### `COUNT()`\n",
    "\n",
    "La función `COUNT()` se utiliza para contar el número de registros en una tabla.\n",
    "\n",
    "```sql\n",
    "SELECT COUNT(column_name)\n",
    "FROM table_name;\n",
    "```\n",
    "\n",
    "Ejemplo:"
   ]
  },
  {
   "cell_type": "code",
   "execution_count": null,
   "metadata": {
    "vscode": {
     "languageId": "sql"
    }
   },
   "outputs": [],
   "source": [
    "%%sql\n",
    "-- Imprimme la cantidad de personas en la tabla personas\n",
    "SELECT COUNT(nombre) AS cantidad_personas FROM personas;"
   ]
  },
  {
   "cell_type": "markdown",
   "metadata": {},
   "source": [
    "### `SUM()`\n",
    "\n",
    "La función `SUM()` se utiliza para calcular la suma de los valores de una columna.\n",
    "\n",
    "```sql\n",
    "SELECT SUM(column_name)\n",
    "FROM table_name;\n",
    "```\n",
    "\n",
    "Podemos hacer operaciones matemáticas en la función `SUM()`.\n",
    "\n",
    "Ejemplo:"
   ]
  },
  {
   "cell_type": "code",
   "execution_count": null,
   "metadata": {
    "vscode": {
     "languageId": "sql"
    }
   },
   "outputs": [],
   "source": [
    "%%sql\n",
    "-- Imprime la suma de las edades de las personas\n",
    "SELECT SUM(edad) AS suma_edades FROM personas;"
   ]
  },
  {
   "cell_type": "markdown",
   "metadata": {},
   "source": [
    "### `AVG()`\n",
    "\n",
    "La función `AVG()` se utiliza para calcular el promedio de los valores de una columna.\n",
    "\n",
    "```sql\n",
    "SELECT AVG(column_name)\n",
    "FROM table_name;\n",
    "```\n",
    "\n",
    "Ejemplo:"
   ]
  },
  {
   "cell_type": "code",
   "execution_count": null,
   "metadata": {
    "vscode": {
     "languageId": "sql"
    }
   },
   "outputs": [],
   "source": [
    "%%sql\n",
    "-- Imprime la edad promedio de las personas\n",
    "SELECT AVG(edad) AS promedio_edades FROM personas;"
   ]
  },
  {
   "cell_type": "markdown",
   "metadata": {},
   "source": [
    "### `MIN()` y `MAX()`\n",
    "\n",
    "Las funciones `MIN()` y `MAX()` se utilizan para devolver el valor mínimo y máximo de una columna, respectivamente.\n",
    "\n",
    "```sql\n",
    "SELECT MIN(column_name)\n",
    "FROM table_name;\n",
    "```\n",
    "\n",
    "```sql\n",
    "SELECT MAX(column_name)\n",
    "FROM table_name;\n",
    "```\n",
    "\n",
    "Ejemplo:"
   ]
  },
  {
   "cell_type": "code",
   "execution_count": null,
   "metadata": {
    "vscode": {
     "languageId": "sql"
    }
   },
   "outputs": [],
   "source": [
    "%%sql\n",
    "-- Imprime la edad maxima de las personas\n",
    "SELECT MAX(edad) AS maxima_edad FROM personas;"
   ]
  },
  {
   "cell_type": "code",
   "execution_count": null,
   "metadata": {
    "vscode": {
     "languageId": "sql"
    }
   },
   "outputs": [],
   "source": [
    "%%sql\n",
    "-- Imprime la edad minima de las personas\n",
    "SELECT MIN(edad) AS minima_edad FROM personas;"
   ]
  },
  {
   "cell_type": "markdown",
   "metadata": {},
   "source": [
    "### `HAVING` en SQL\n",
    "\n",
    "La cláusula `HAVING` se utiliza en conjunto con la cláusula `GROUP BY` para filtrar registros agrupados.\n",
    "\n",
    "```sql\n",
    "SELECT column1, column2, ...\n",
    "FROM table_name\n",
    "WHERE condition\n",
    "GROUP BY column1, column2, ...\n",
    "HAVING condition;\n",
    "```\n",
    "\n",
    "| Caso\t| Usa `WHERE`\t| Usa  `HAVING` |\n",
    "|-------|------------|------------|\n",
    "| Filtrar filas antes de agrupar\t|  Sí\t|  No |\n",
    "| Filtrar grupos después de GROUP BY\t|  No\t|  Sí |\n",
    "| Funciona sin GROUP BY\t|  Sí\t|  No |\n",
    "\n",
    "\n",
    "Ejemplo:"
   ]
  },
  {
   "cell_type": "code",
   "execution_count": null,
   "metadata": {
    "vscode": {
     "languageId": "sql"
    }
   },
   "outputs": [],
   "source": [
    "%%sql\n",
    "SELECT nombre, edad\n",
    "FROM personas\n",
    "GROUP BY edad\n",
    "HAVING edad > 25;"
   ]
  },
  {
   "cell_type": "code",
   "execution_count": null,
   "metadata": {
    "vscode": {
     "languageId": "sql"
    }
   },
   "outputs": [],
   "source": [
    "%%sql\n",
    "SELECT nombre, edad\n",
    "FROM personas\n",
    "WHERE edad > 2\n",
    "GROUP BY edad;\n"
   ]
  },
  {
   "cell_type": "markdown",
   "metadata": {},
   "source": [
    "# SQL Bases de Datos\n",
    "\n",
    "## SQL Backup Database for SQL Server\n",
    "\n",
    "### `BACKUP DATABASE`\n",
    "\n",
    "La instrucción `BACKUP DATABASE` se utiliza para realizar una copia de seguridad completa de una base de datos.\n",
    "\n",
    "```sql\n",
    "BACKUP DATABASE database_name\n",
    "TO DISK = 'file_path';\n",
    "```\n",
    "\n",
    "#### `BACKUP DATABASE` con `WITH DIFFERENTIAL`\n",
    "\n",
    "Una copia de seguridad diferencial solo realiza una copia de seguridad de las partes de la base de datos que tienen desde la última copia de seguridad completa de la base de datos.\n",
    "\n",
    "```sql\n",
    "BACKUP DATABASE database_name\n",
    "TO DISK = 'file_path'\n",
    "WITH DIFFERENTIAL;\n",
    "```\n",
    "\n"
   ]
  },
  {
   "cell_type": "markdown",
   "metadata": {},
   "source": [
    "## Tipos de Datos en SQL\n",
    "\n",
    "### Tipos de datos MySQL\n",
    "\n",
    "**Tipos de datos de cadena**:\n",
    "\n",
    "| Data type       | Descripción |\n",
    "|----------------|------------|\n",
    "| `CHAR(size)`   | Cadena de longitud fija (puede contener letras, números y caracteres especiales). `size` especifica la longitud en caracteres (0 a 255). Valor predeterminado: 1. |\n",
    "| `VARCHAR(size)` | Cadena de longitud variable (puede contener letras, números y caracteres especiales). `size` especifica la longitud máxima en caracteres (0 a 65,535). |\n",
    "| `BINARY(size)`  | Igual a `CHAR()`, pero almacena cadenas de bytes binarias. `size` especifica la longitud en bytes. Valor predeterminado: 1. |\n",
    "| `VARBINARY(size)` | Igual a `VARCHAR()`, pero almacena cadenas de bytes binarias. `size` especifica la longitud máxima en bytes. |\n",
    "| `TINYBLOB`     | Para objetos binarios grandes (BLOB). Longitud máxima: 255 bytes. |\n",
    "| `TINYTEXT`     | Cadena con una longitud máxima de 255 caracteres. |\n",
    "| `TEXT(size)`   | Cadena con una longitud máxima de 65,535 bytes. |\n",
    "| `BLOB(size)`   | Para BLOBs. Hasta 65,535 bytes de datos. |\n",
    "| `MEDIUMTEXT`   | Cadena con una longitud máxima de 16,777,215 caracteres. |\n",
    "| `MEDIUMBLOB`   | BLOB de hasta 16,777,215 bytes. |\n",
    "| `LONGTEXT`     | Cadena con una longitud máxima de 4,294,967,295 caracteres. |\n",
    "| `LONGBLOB`     | BLOB de hasta 4,294,967,295 bytes. |\n",
    "| `ENUM(val1, val2, ...)` | Objeto de cadena con un solo valor de una lista dada (hasta 65,535 valores). Si se inserta un valor no válido, se guarda como un valor en blanco. |\n",
    "| `SET(val1, val2, ...)` | Objeto de cadena que puede tener 0 o más valores de una lista dada (hasta 64 valores). |\n",
    "\n",
    "**Tipos de datos numéricos**:\n",
    "\n",
    "| Data type       | Descripción |\n",
    "|----------------|------------|\n",
    "| `BIT(size)`    | Tipo de valor binario. `size` indica el número de bits por valor (1 a 64). Valor predeterminado: 1. |\n",
    "| `TINYINT(size)` | Entero muy pequeño. Rango firmado: -128 a 127. Rango sin signo: 0 a 255. |\n",
    "| `BOOL` / `BOOLEAN` | `BOOL` es un alias de `TINYINT(1)`. Cero es `FALSE`, cualquier otro valor es `TRUE`. |\n",
    "| `SMALLINT(size)` | Entero pequeño. Rango firmado: -32,768 a 32,767. Rango sin signo: 0 a 65,535. |\n",
    "| `MEDIUMINT(size)` | Entero mediano. Rango firmado: -8,388,608 a 8,388,607. Rango sin signo: 0 a 16,777,215. |\n",
    "| `INT(size)` / `INTEGER(size)` | Entero estándar. Rango firmado: -2,147,483,648 a 2,147,483,647. Rango sin signo: 0 a 4,294,967,295. |\n",
    "| `BIGINT(size)` | Entero grande. Rango firmado: -9,223,372,036,854,775,808 a 9,223,372,036,854,775,807. Rango sin signo: 0 a 18,446,744,073,709,551,615. |\n",
    "| `FLOAT(size, d)` | Número de punto flotante. `size` es el total de dígitos, `d` es la cantidad de decimales. **(Deprecado en MySQL 8.0.17)**. |\n",
    "| `FLOAT(p)` | Determina si el tipo es `FLOAT` (`p` de 0 a 24) o `DOUBLE` (`p` de 25 a 53). |\n",
    "| `DOUBLE(size, d)` / `DOUBLE PRECISION(size, d)` | Número de punto flotante de tamaño normal. `size` es el total de dígitos, `d` es la cantidad de decimales. |\n",
    "| `DECIMAL(size, d)` / `DEC(size, d)` | Número de punto flotante exacto. `size` es el total de dígitos (máximo 65). `d` es la cantidad de decimales (máximo 30). |\n",
    "\n",
    "**Tipos de datos de fecha y hora**:\n",
    "\n",
    "| Data type     | Descripción |\n",
    "|--------------|------------|\n",
    "| `DATE`       | Fecha en formato `YYYY-MM-DD`. Rango: `1000-01-01` a `9999-12-31`. |\n",
    "| `DATETIME(fsp)` | Fecha y hora en formato `YYYY-MM-DD hh:mm:ss`. Rango: `1000-01-01 00:00:00` a `9999-12-31 23:59:59`. Puede usarse `DEFAULT CURRENT_TIMESTAMP` y `ON UPDATE CURRENT_TIMESTAMP`. |\n",
    "| `TIMESTAMP(fsp)` | Marca de tiempo en formato `YYYY-MM-DD hh:mm:ss`. Se almacena como el número de segundos desde el 1 de enero de 1970 (Unix epoch). Rango: `1970-01-01 00:00:01` UTC a `2038-01-09 03:14:07` UTC. Puede actualizarse automáticamente con `CURRENT_TIMESTAMP`. |\n",
    "| `TIME(fsp)`  | Hora en formato `hh:mm:ss`. Rango: `-838:59:59` a `838:59:59`. |\n",
    "| `YEAR`       | Año en formato de cuatro dígitos (`1901` a `2155`). MySQL 8.0 ya no admite el formato de dos dígitos. |\n",
    "\n",
    "### **Tipos de datos en SQL Server**\n",
    "\n",
    "**Tipos de datos de cadena**:\n",
    "\n",
    "| Data type         | Descripción | Longitud máxima | Almacenamiento |\n",
    "|------------------|------------|----------------|---------------|\n",
    "| `char(n)`       | Cadena de caracteres no Unicode de longitud fija (`n` entre 1 y 8000). | 8,000 | `n` bytes (1 byte por carácter). |\n",
    "| `varchar(n)`    | Cadena de caracteres no Unicode de longitud variable (`n` entre 1 y 8000). | 8,000 | `n` bytes + 2 bytes adicionales. |\n",
    "| `varchar(max)`  | Cadena de caracteres no Unicode de longitud variable. | Hasta 2 GB | Variable |\n",
    "| `nchar(n)`      | Cadena de caracteres Unicode de longitud fija (`n` entre 1 y 4000). | 4,000 | `2 * n` bytes (2 bytes por carácter). |\n",
    "| `nvarchar(n)`   | Cadena de caracteres Unicode de longitud variable (`n` entre 1 y 4000). | 4,000 | `2 * n` bytes + 2 bytes adicionales. |\n",
    "| `nvarchar(max)` | Cadena de caracteres Unicode de longitud variable. | Hasta 2 GB | Variable |\n",
    "| `binary(n)`     | Datos binarios de longitud fija (`n` entre 1 y 8000). | 8,000 | `n` bytes. |\n",
    "| `varbinary(n)`  | Datos binarios de longitud variable (`n` entre 1 y 8000). | 8,000 | Longitud real de los datos + 2 bytes adicionales. |\n",
    "| `varbinary(max)` | Datos binarios de longitud variable. | Hasta 2 GB | Variable |\n",
    "\n",
    "**Tipos de datos numéricos**:\n",
    "\n",
    "| Data type         | Descripción | Almacenamiento |\n",
    "|------------------|------------|---------------|\n",
    "| `bit`           | Entero que puede ser `0`, `1` o `NULL`. | 1 bit |\n",
    "| `tinyint`       | Entero de 0 a 255. | 1 byte |\n",
    "| `smallint`      | Entero de -32,768 a 32,767. | 2 bytes |\n",
    "| `int`           | Entero de -2,147,483,648 a 2,147,483,647. | 4 bytes |\n",
    "| `bigint`        | Entero de -9,223,372,036,854,775,808 a 9,223,372,036,854,775,807. | 8 bytes |\n",
    "| `decimal(p,s)` / `numeric(p,s)` | Número de precisión fija (máximo `p=38`, `s=0` por defecto). | 5-17 bytes |\n",
    "| `smallmoney`    | Datos monetarios de -214,748.3648 a 214,748.3647. | 4 bytes |\n",
    "| `money`         | Datos monetarios de -922,337,203,685,477.5808 a 922,337,203,685,477.5807. | 8 bytes |\n",
    "| `float(n)`      | Número de punto flotante (`n=24` usa 4 bytes, `n=53` usa 8 bytes). Rango: `-1.79E+308` a `1.79E+308`. | 4 u 8 bytes |\n",
    "| `real`          | Número de punto flotante de menor precisión (`-3.40E+38` a `3.40E+38`). | 4 bytes |\n",
    "\n",
    "**Tipos de datos de fecha y hora**:\n",
    "\n",
    "| Data type         | Descripción | Almacenamiento |\n",
    "|------------------|------------|---------------|\n",
    "| `datetime`      | De `1753-01-01` a `9999-12-31`, con precisión de 3.33 ms. | 8 bytes |\n",
    "| `datetime2`     | De `0001-01-01` a `9999-12-31`, con precisión de 100 ns. | 6-8 bytes |\n",
    "| `smalldatetime` | De `1900-01-01` a `2079-06-06`, con precisión de 1 min. | 4 bytes |\n",
    "| `date`         | Solo almacena fecha (`0001-01-01` a `9999-12-31`). | 3 bytes |\n",
    "| `time`         | Solo almacena hora, con precisión de 100 ns. | 3-5 bytes |\n",
    "| `datetimeoffset` | Igual a `datetime2`, pero con zona horaria. | 8-10 bytes |\n",
    "| `timestamp`    | Guarda un número único que se actualiza cuando se modifica la fila. No representa tiempo real. | Variable |\n",
    "\n",
    "**Otros tipos de datos**:\n",
    "\n",
    "| Data type         | Descripción |\n",
    "|------------------|------------|\n",
    "| `sql_variant`   | Almacena hasta 8,000 bytes de diferentes tipos de datos (excepto `text`, `ntext` y `timestamp`). |\n",
    "| `uniqueidentifier` | Almacena un identificador global único (GUID). |\n",
    "| `xml`          | Almacena datos en formato XML (máximo 2 GB). |\n",
    "| `cursor`       | Almacena una referencia a un cursor para operaciones en la base de datos. |\n",
    "| `table`        | Almacena un conjunto de resultados para su procesamiento posterior. |\n",
    "\n",
    "### Tipos de datos en MS Access\n",
    "\n",
    "| Data type      | Description | Storage |\n",
    "|---------------|-------------|---------|\n",
    "| Text          | Use for text or combinations of text and numbers. 255 characters maximum | - |\n",
    "| Memo         | Memo is used for larger amounts of text. Stores up to 65,536 characters. Note: You cannot sort a memo field. However, they are searchable | - |\n",
    "| Byte         | Allows whole numbers from 0 to 255 | 1 byte |\n",
    "| Integer      | Allows whole numbers between -32,768 and 32,767 | 2 bytes |\n",
    "| Long         | Allows whole numbers between -2,147,483,648 and 2,147,483,647 | 4 bytes |\n",
    "| Single       | Single precision floating-point. Will handle most decimals | 4 bytes |\n",
    "| Double       | Double precision floating-point. Will handle most decimals | 8 bytes |\n",
    "| Currency     | Use for currency. Holds up to 15 digits of whole dollars, plus 4 decimal places. Tip: You can choose which country's currency to use | 8 bytes |\n",
    "| AutoNumber   | AutoNumber fields automatically give each record its own number, usually starting at 1 | 4 bytes |\n",
    "| Date/Time    | Use for dates and times | 8 bytes |\n",
    "| Yes/No       | A logical field can be displayed as Yes/No, True/False, or On/Off. In code, use the constants True and False (equivalent to -1 and 0). Note: Null values are not allowed in Yes/No fields | 1 bit |\n",
    "| Ole Object   | Can store pictures, audio, video, or other BLOBs (Binary Large Objects) | up to 1GB |\n",
    "| Hyperlink    | Contain links to other files, including web pages | - |\n",
    "| Lookup Wizard | Let you type a list of options, which can then be chosen from a drop-down list | 4 bytes |"
   ]
  },
  {
   "cell_type": "markdown",
   "metadata": {},
   "source": [
    "# Inyección SQL\n",
    "\n",
    "La **inyección SQL** es una vulnerabilidad de seguridad que permite a un atacante insertar o manipular consultas SQL a través de entradas de usuario mal validadas o no filtradas. Esto puede llevar a que se acceda, modifique o elimine información sensible en la base de datos.\n",
    "\n",
    "## ¿Cómo Funciona?\n",
    "\n",
    "Cuando una aplicación construye una consulta SQL concatenando directamente los datos de entrada del usuario, un atacante puede inyectar código SQL malicioso. Por ejemplo, considere la siguiente consulta:\n",
    "\n",
    "```sql\n",
    "SELECT * FROM usuarios WHERE nombre = 'usuario' AND contraseña = 'contraseña';\n",
    "```\n",
    "\n",
    "Si los valores de usuario y contraseña se toman directamente de la entrada del usuario sin validar, un atacante podría introducir algo como:\n",
    "\n",
    "- usuario: admin\n",
    "- contraseña: x' OR '1'='1\n",
    "\n",
    "La consulta resultante sería:\n",
    "\n",
    "```sql\n",
    "SELECT * FROM usuarios WHERE nombre = 'admin' AND contraseña = 'x' OR '1'='1';\n",
    "```\n",
    "\n",
    "Dado que `'1'='1'` siempre es verdadero, la consulta devolverá todos los registros de la tabla `usuarios`, lo que permitiría al atacante acceder a la cuenta de administrador.\n",
    "\n",
    "## Ejemplo de Inyección SQL\n",
    "\n",
    "Supongamos que en una aplicación web se construye la siguiente consulta:\n",
    "```python\n",
    "consulta = \"SELECT * FROM usuarios WHERE nombre = '\" + usuario + \"' AND contraseña = '\" + contraseña + \"'\"\n",
    "```\n",
    "\n",
    "Si un atacante introduce `x' OR '1'='1` como contraseña, la consulta resultante sería:\n",
    "\n",
    "```sql\n",
    "SELECT * FROM usuarios WHERE nombre = 'admin' AND contraseña = 'x' OR '1'='1';\n",
    "```\n",
    "\n",
    "\n",
    "## Cómo Prevenir la Inyección SQL\n",
    "\n",
    "1. **Usar Consultas Preparadas**: Emplear parámetros en lugar de concatenar cadenas. Por ejemplo, usando un ORM o APIs que soporten consultas parametrizadas.\n",
    "2. **Validar y Sanear la Entrada del Usuario**: Asegurarse de que los datos cumplan el formato esperado y no contengan código malicioso.\n",
    "3. **Utilizar ORMs (Object-Relational Mapping)**: Herramientas como SQLAlchemy (en Python) generan consultas seguras automáticamente.\n",
    "4. **Configurar Permisos Adecuados**: Limitar los privilegios de la cuenta de la base de datos para reducir el impacto en caso de un ataque."
   ]
  },
  {
   "cell_type": "markdown",
   "metadata": {},
   "source": [
    "# Cosas pseudoimportantes"
   ]
  },
  {
   "cell_type": "markdown",
   "metadata": {},
   "source": [
    "# Cosas a aprender\n",
    "\n",
    "- Como evitar inyecciones SQL"
   ]
  }
 ],
 "metadata": {
  "kernelspec": {
   "display_name": "Python 3",
   "language": "python",
   "name": "python3"
  },
  "language_info": {
   "codemirror_mode": {
    "name": "ipython",
    "version": 3
   },
   "file_extension": ".py",
   "mimetype": "text/x-python",
   "name": "python",
   "nbconvert_exporter": "python",
   "pygments_lexer": "ipython3",
   "version": "3.13.1"
  }
 },
 "nbformat": 4,
 "nbformat_minor": 2
}
