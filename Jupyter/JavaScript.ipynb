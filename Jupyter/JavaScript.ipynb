{
 "cells": [
  {
   "cell_type": "markdown",
   "metadata": {},
   "source": [
    "# Tutorial: JavaScript\n",
    "\n",
    "# Introduccion a JavaScript\n",
    "\n",
    "## ¿Qué es JavaScript?\n",
    "\n",
    "JavaScript es un lenguaje de programación que se utiliza principalmente para crear páginas web interactivas. Una página web interactiva puede responder a la entrada del usuario, como hacer clic en un botón, pasar el mouse sobre un elemento o enviar un formulario.\n",
    "\n",
    "JavaScript es un lenguaje de programación de alto nivel, lo que significa que es fácil de leer y escribir. También es un lenguaje de programación interpretado, lo que significa que el código se ejecuta línea por línea, en lugar de ser compilado en un programa ejecutable.\n",
    "\n",
    "JavaScript se ejecuta en el navegador web del usuario, lo que significa que no es necesario instalar ningún software adicional para ejecutarlo. Esto hace que JavaScript sea una excelente opción para crear aplicaciones web interactivas."
   ]
  },
  {
   "cell_type": "markdown",
   "metadata": {},
   "source": [
    "# `JavaScript` en `Jupyter`\n",
    "\n",
    "En jupyter podemos usar \"celdas magicas\" para escribir en otros lenguajes de programacion aparte de python sin necesidad de instalar kernels externos para javascript utilizamos ``` %%javascript ``` y para ``` %%html ``` en un entorno de python, adicionalmente usamos las etiquetas ``` <script> ``` en html para indicar codigo de javascript\n",
    "\n",
    "## Ejemplo de uso de JavaScript en Jupyter"
   ]
  },
  {
   "cell_type": "code",
   "execution_count": null,
   "metadata": {},
   "outputs": [],
   "source": [
    "%%javascript\n",
    "alert('¡Hola, mundo desde JavaScript en Jupyter!');"
   ]
  },
  {
   "cell_type": "markdown",
   "metadata": {},
   "source": [
    "## Ejemplo de `html` en `Jupyter`"
   ]
  },
  {
   "cell_type": "code",
   "execution_count": null,
   "metadata": {},
   "outputs": [],
   "source": [
    "%%html\n",
    "\n",
    "<html>\n",
    "<body>\n",
    "\n",
    "<h2>JavaScript in Body</h2>\n",
    "\n",
    "<p id=\"demo\"></p>\n",
    "\n",
    "<script>\n",
    "document.getElementById(\"demo\").innerHTML = \"My First JavaScript\";\n",
    "</script>\n",
    "\n",
    "</body>\n",
    "</html> "
   ]
  },
  {
   "cell_type": "markdown",
   "metadata": {},
   "source": [
    "Podemos llamar un archivo javascript en un archivo html usando ``` <script src=\"/ruta_del_archivo/nombre_del_archivo_javascript.js\"></script> ``` se puede reemplazar el nombre del archivo por una url de donde se encuentre el archivo javascript"
   ]
  },
  {
   "cell_type": "markdown",
   "metadata": {},
   "source": [
    "# Aprendiendo JavaScript: Funciones Básicas\n",
    "\n",
    "## Funciones Básicas\n",
    "\n",
    "### `document.getElementById()`\n",
    "La función `getElementById()` se utiliza para seleccionar un elemento HTML basado en su atributo `id`.\n",
    "\n",
    "Sintaxis:\n",
    "\n",
    "```javascript\n",
    "document.getElementById(id);\n",
    "```\n",
    "\n",
    "### `element.innerHTML`\n",
    "\n",
    "La propiedad innerHTML se utiliza para obtener o establecer el contenido HTML de un elemento.\n",
    "\n",
    "Sintaxis:\n",
    "\n",
    "```javascript\n",
    "element.innerHTML = newcontent;\n",
    "element.innerHTML = \"Holiwisniwis\";\n",
    "```\n",
    "\n",
    "### `window.alert()`\n",
    "\n",
    "La función window.alert() muestra una alerta emergente con un mensaje especificado.\n",
    "\n",
    "Sintaxis:\n",
    "\n",
    "```javascript\n",
    "window.alert(message);\n",
    "```\n",
    "\n",
    "### `console.log()`\n",
    "\n",
    "La función console.log() se utiliza para imprimir mensajes en la consola\n",
    "\n",
    "Sintaxis:\n",
    "\n",
    "```javascript\n",
    "console.log(message);\n",
    "```"
   ]
  },
  {
   "cell_type": "markdown",
   "metadata": {},
   "source": [
    "## Palabras clave de JavaScript\n",
    "\n",
    "| Palabra clave | Descripción                                                        |\n",
    "|---------------|--------------------------------------------------------------------|\n",
    "| `var`         | Declara una variable                                               |\n",
    "| `let`         | Declara una variable (no gloaal)                                    |\n",
    "| `const`       | Declara una constante (no global)                                     |\n",
    "| `if`          | Marca un bloque de instrucciones que se van a ejecutar en una condición |\n",
    "| `switch`      | Marca un bloque de sentencias a ejecutar en diferentes casos       |\n",
    "| `for`         | Marca un bloque de instrucciones que se van a ejecutar en un bucle |\n",
    "| `function`    | Declara una función                                                |\n",
    "| `return`      | Sale de una función                                                |\n",
    "| `try`         | Implementa el control de errores en un bloque de instrucciones     |"
   ]
  },
  {
   "cell_type": "markdown",
   "metadata": {},
   "source": [
    "## Operadores de JavaScript\n",
    "\n",
    "### Operadores aritméticos de JavaScript\n",
    "\n",
    "| Operador | Descripción                      |\n",
    "|----------|----------------------------------|\n",
    "| `+`      | Adición                          |\n",
    "| `-`      | Sustracción                      |\n",
    "| `*`      | Multiplicación                   |\n",
    "| `**`     | Exponenciación (ES2016)          |\n",
    "| `/`      | División                         |\n",
    "| `%`      | Módulo (Resto de la división)    |\n",
    "| `++`     | Incremento                       |\n",
    "| `--`     | Decremento                       |\n",
    "\n",
    "### Operadores de comparación de JavaScript\n",
    "\n",
    "| Operador | Descripción                            |\n",
    "|----------|----------------------------------------|\n",
    "| `==`     | Igual a                                |\n",
    "| `===`    | Igual en valor e igual en tipo         |\n",
    "| `!=`     | No igual                               |\n",
    "| `!==`    | No igual en valor o no igual en tipo   |\n",
    "| `>`      | Mayor que                              |\n",
    "| `<`      | Menor que                              |\n",
    "| `>=`     | Mayor o igual que                      |\n",
    "| `<=`     | Menor o igual que                      |\n",
    "| `?`      | Operador ternario(es un if else(ejemplo \"condición ? expresiónSiVerdadero : expresiónSiFalso;\"))                      |\n",
    "\n",
    "### Operadores lógicos de JavaScript\n",
    "\n",
    "- `&&`: Y lógico (AND)\n",
    "- `||`: O lógico (OR)\n",
    "- `!`: No lógico (NOT)\n",
    "- `=>`: Funciones flecha (se puede usar como un for, o para simplificar funciones)"
   ]
  },
  {
   "cell_type": "markdown",
   "metadata": {},
   "source": [
    "# Tipos de datos en JavaScript\n",
    "\n",
    "```javascript\n",
    "// Numbers:\n",
    "let length = 16;\n",
    "let weight = 7.5;\n",
    "\n",
    "// Strings:\n",
    "let color = \"Yellow\";\n",
    "let lastName = \"Johnson\";\n",
    "\n",
    "// Booleans\n",
    "let x = true;\n",
    "let y = false;\n",
    "\n",
    "// Object:\n",
    "const person = {firstName:\"John\", lastName:\"Doe\"};\n",
    "\n",
    "// Array object:\n",
    "const cars = [\"Saab\", \"Volvo\", \"BMW\"];\n",
    "\n",
    "// Date object:\n",
    "const date = new Date(\"2022-03-25\");\n",
    "\n",
    "```"
   ]
  },
  {
   "cell_type": "markdown",
   "metadata": {},
   "source": [
    "## Cadenas en JavaScript\n",
    "\n",
    "Las cadenas en JavaScript se utilizan para almacenar y manipular texto. Y se pueden declarar con ' , \" y `.\n",
    "\n",
    "```javascript\n",
    "let text = \"Hello World!\";\n",
    "let text = 'Hello World!';\n",
    "let text = \n",
    "`Hello \n",
    "World!`;\n",
    "```\n",
    "\n",
    "\n",
    "### Expressiones de Escape en JavaScript\n",
    "\n",
    "#### Códigos de Escape  en JavaScript\n",
    "\n",
    "| Código | Resultado              |\n",
    "|--------|------------------------|\n",
    "| `\\b`   | Retroceso (Backspace)  |\n",
    "| `\\f`   | Salto de página (Form Feed) |\n",
    "| `\\n`   | Nueva línea (New Line) |\n",
    "| `\\r`   | Retorno de carro (Carriage Return) |\n",
    "| `\\t`   | Tabulador horizontal (Horizontal Tabulator) |\n",
    "| `\\v`   | Tabulador vertical (Vertical Tabulator)     |\n",
    "\n",
    "#### Expresiones regulares en JavaScript\n",
    "\n",
    "| Expresión | Descripción |\n",
    "|-----------|-------------|\n",
    "| `/i`         | Realiza una búsqueda sin distinción entre mayúsculas y minúsculas |\n",
    "| `/g`         | Realiza una búsqueda global (todas las coincidencias) |\n",
    "| `/m`         | Realiza una búsqueda multilínea |\n",
    "| `/d`         | Realiza una búsqueda de dígitos |\n",
    "\n",
    "#### Patrones de Expresiones Regulares\n",
    "\n",
    "| Patrón | Descripción |\n",
    "|--------|-------------|\n",
    "| `[abc]` | Encuentra cualquier carácter entre los corchetes |\n",
    "| `[^abc]` | Encuentra cualquier carácter que no esté entre los corchetes |\n",
    "| `[0-9]` | Encuentra cualquier dígito entre los corchetes |\n",
    "| `[^0-9]` | Encuentra cualquier carácter que no sea un dígito entre los corchetes |\n",
    "| `(\\|)`       | Encuentra cualquiera de las alternativas separadas por el operador |\n",
    "\n",
    "#### Cuantificador de Expresiones Regulares\n",
    "\n",
    "| Cuantificador | Descripción |\n",
    "|---------------|-------------|\n",
    "| `n+`          | Encuentra cualquier carácter que aparezca una o más veces |\n",
    "| `n*`          | Encuentra cualquier carácter que aparezca cero o más veces |\n",
    "| `n?`          | Encuentra cualquier carácter que aparezca cero o una vez |"
   ]
  },
  {
   "cell_type": "markdown",
   "metadata": {},
   "source": [
    "### Métodos de Cadenas en JavaScript\n",
    "\n",
    "#### `Length`\n",
    "\n",
    "Sintaxis:\n",
    "\n",
    "```javascript\n",
    "cadena.length\n",
    "```\n",
    "\n",
    "Ejemplo: "
   ]
  },
  {
   "cell_type": "code",
   "execution_count": null,
   "metadata": {
    "vscode": {
     "languageId": "javascript"
    }
   },
   "outputs": [],
   "source": [
    "%%javascript\n",
    "let txt = \"ABCDEFGHIJKLMNOPQRSTUVWXYZ\";\n",
    "alert(txt.length);\n",
    "// Outputs 26"
   ]
  },
  {
   "cell_type": "markdown",
   "metadata": {},
   "source": [
    "#### Extraer caracteres de una cadena\n",
    "\n",
    "Hay 4 métodos para extraer caracteres de cadena:\n",
    "\n",
    "##### `at()`\n",
    "\n",
    "Devuelve el carácter en una posición específica\n",
    "\n",
    "Sintaxis:\n",
    "\n",
    "```javascript\n",
    "cadena.at(position)\n",
    "```\n",
    "\n",
    "Ejemplo:"
   ]
  },
  {
   "cell_type": "code",
   "execution_count": null,
   "metadata": {
    "vscode": {
     "languageId": "javascript"
    }
   },
   "outputs": [],
   "source": [
    "%%javascript\n",
    "let str = \"Hello World!\";\n",
    "alert(str.at(0));\n",
    "// Output: H"
   ]
  },
  {
   "cell_type": "markdown",
   "metadata": {},
   "source": [
    "##### `charAt()`\n",
    "\n",
    "Devuelve el carácter en una posición específica\n",
    "\n",
    "Sintaxis:\n",
    "\n",
    "```javascript\n",
    "cadena.charAt(index)\n",
    "```\n",
    "\n",
    "Ejemplo:"
   ]
  },
  {
   "cell_type": "code",
   "execution_count": null,
   "metadata": {
    "vscode": {
     "languageId": "javascript"
    }
   },
   "outputs": [],
   "source": [
    "%%javascript\n",
    "let str = \"Hello World!\";\n",
    "alert(str.charAt(0));\n",
    "// Output: H"
   ]
  },
  {
   "cell_type": "markdown",
   "metadata": {},
   "source": [
    "##### `charCodeAt()`\n",
    "\n",
    "Devuelve el valor Unicode del carácter en una posición específica\n",
    "\n",
    "Sintaxis:\n",
    "\n",
    "```javascript\n",
    "cadena.charCodeAt(index)\n",
    "```\n",
    "\n",
    "Ejemplo:"
   ]
  },
  {
   "cell_type": "code",
   "execution_count": null,
   "metadata": {
    "vscode": {
     "languageId": "javascript"
    }
   },
   "outputs": [],
   "source": [
    "%%javascript\n",
    "let str = \"Hello World!\";\n",
    "alert(str.charCodeAt(0));\n",
    "// Output: 72"
   ]
  },
  {
   "cell_type": "markdown",
   "metadata": {},
   "source": [
    "##### `[]`\n",
    "\n",
    "Sintaxis:\n",
    "\n",
    "```javascript\n",
    "cadena[index]\n",
    "```\n",
    "\n",
    "Ejemplo:"
   ]
  },
  {
   "cell_type": "code",
   "execution_count": null,
   "metadata": {
    "vscode": {
     "languageId": "javascript"
    }
   },
   "outputs": [],
   "source": [
    "%%javascript\n",
    "let str = \"Hello World!\";\n",
    "alert(str[0]);\n",
    "// Output: H"
   ]
  },
  {
   "cell_type": "markdown",
   "metadata": {},
   "source": [
    "#### Extrer una parte de una cadena\n",
    "\n",
    "Hay 3 métodos para extraer una parte de una cadena:\n",
    "\n",
    "##### `slice()`\n",
    "\n",
    "Extrae una parte de una cadena y devuelve la parte extraída en una nueva cadena\n",
    "\n",
    "Sintaxis:\n",
    "\n",
    "```javascript\n",
    "cadena.slice(start, end)\n",
    "```\n",
    "\n",
    "Ejemplo:"
   ]
  },
  {
   "cell_type": "code",
   "execution_count": null,
   "metadata": {
    "vscode": {
     "languageId": "javascript"
    }
   },
   "outputs": [],
   "source": [
    "%%javascript\n",
    "let str = \"Hello World!\";\n",
    "alert(str.slice(0, 5));\n",
    "// Output: Hello"
   ]
  },
  {
   "cell_type": "markdown",
   "metadata": {},
   "source": [
    "##### `substring()`\n",
    "\n",
    "Extrae los caracteres de una cadena, entre dos índices especificados, y devuelve la nueva subcadena\n",
    "\n",
    "Sintaxis:\n",
    "\n",
    "```javascript\n",
    "cadena.substring(start, end)\n",
    "```\n",
    "\n",
    "Ejemplo:"
   ]
  },
  {
   "cell_type": "code",
   "execution_count": null,
   "metadata": {
    "vscode": {
     "languageId": "javascript"
    }
   },
   "outputs": [],
   "source": [
    "%%javascript\n",
    "let str = \"Hello World!\";\n",
    "alert(str.substring(0, 5));\n",
    "// Output: Hello"
   ]
  },
  {
   "cell_type": "markdown",
   "metadata": {},
   "source": [
    "##### `[]`\n",
    "\n",
    "Sintaxis:\n",
    "\n",
    "```javascript\n",
    "cadena[start, end]\n",
    "```\n",
    "\n",
    "Ejemplo:"
   ]
  },
  {
   "cell_type": "code",
   "execution_count": null,
   "metadata": {
    "vscode": {
     "languageId": "javascript"
    }
   },
   "outputs": [],
   "source": [
    "%%javascript\n",
    "let str = \"Hello World!\";\n",
    "alert(str.substr(0, 5));\n",
    "// Output: Hello"
   ]
  },
  {
   "cell_type": "markdown",
   "metadata": {},
   "source": [
    "#### Conversión a mayúsculas y minúsculas\n",
    "\n",
    "##### `toUpperCase()`\n",
    "\n",
    "Convierte una cadena a mayúsculas\n",
    "\n",
    "Sintaxis:\n",
    "\n",
    "```javascript\n",
    "cadena.toUpperCase()\n",
    "```\n",
    "\n",
    "Ejemplo:"
   ]
  },
  {
   "cell_type": "code",
   "execution_count": null,
   "metadata": {
    "vscode": {
     "languageId": "javascript"
    }
   },
   "outputs": [],
   "source": [
    "%%javascript\n",
    "let str = \"Hello World!\";\n",
    "alert(str.toUpperCase());\n",
    "// Output: HELLO WORLD!"
   ]
  },
  {
   "cell_type": "markdown",
   "metadata": {},
   "source": [
    "##### `toLowerCase()`\n",
    "\n",
    "Convierte una cadena a minúsculas\n",
    "\n",
    "Sintaxis:\n",
    "\n",
    "```javascript\n",
    "cadena.toLowerCase()\n",
    "```\n",
    "\n",
    "Ejemplo:"
   ]
  },
  {
   "cell_type": "code",
   "execution_count": null,
   "metadata": {
    "vscode": {
     "languageId": "javascript"
    }
   },
   "outputs": [],
   "source": [
    "%%javascript\n",
    "let str = \"Hello World!\";\n",
    "alert(str.toLowerCase());\n",
    "// Output: hello world!"
   ]
  },
  {
   "cell_type": "markdown",
   "metadata": {},
   "source": [
    "#### `concat()`\n",
    "\n",
    "Concatena dos o más cadenas\n",
    "\n",
    "Sintaxis:\n",
    "\n",
    "```javascript\n",
    "cadena.concat(string1, string2, ..., stringN)\n",
    "```\n",
    "\n",
    "Ejemplo:"
   ]
  },
  {
   "cell_type": "code",
   "execution_count": null,
   "metadata": {
    "vscode": {
     "languageId": "javascript"
    }
   },
   "outputs": [],
   "source": [
    "%%javascript\n",
    "let str = \"Hello World!\";\n",
    "alert(str.concat(\" Good Morning!\"));\n",
    "// Output: Hello World! Good Morning!"
   ]
  },
  {
   "cell_type": "markdown",
   "metadata": {},
   "source": [
    "#### `trim()`\n",
    "\n",
    "##### `trim()`\n",
    "\n",
    "Elimina los espacios en blanco de ambos lados de una cadena\n",
    "\n",
    "Sintaxis:\n",
    "\n",
    "```javascript   \n",
    "cadena.trim()\n",
    "```\n",
    "\n",
    "Ejemplo:"
   ]
  },
  {
   "cell_type": "code",
   "execution_count": null,
   "metadata": {
    "vscode": {
     "languageId": "javascript"
    }
   },
   "outputs": [],
   "source": [
    "%%javascript\n",
    "let str = \" Hello World! \";\n",
    "alert(str.trim());\n",
    "// Output: Hello World!"
   ]
  },
  {
   "cell_type": "markdown",
   "metadata": {},
   "source": [
    "##### `trimStart()`\n",
    "\n",
    "Elimina los espacios en blanco del lado izquierdo de una cadena\n",
    "\n",
    "Sintaxis:\n",
    "\n",
    "```javascript\n",
    "cadena.trimStart()\n",
    "```\n",
    "\n",
    "Ejemplo:"
   ]
  },
  {
   "cell_type": "code",
   "execution_count": null,
   "metadata": {
    "vscode": {
     "languageId": "javascript"
    }
   },
   "outputs": [],
   "source": [
    "%%javascript\n",
    "let str = \" Hello World! \";\n",
    "alert(str.trimStart());\n",
    "// Output: Hello World!"
   ]
  },
  {
   "cell_type": "markdown",
   "metadata": {},
   "source": [
    "##### `trimEnd()`\n",
    "\n",
    "Elimina los espacios en blanco del lado derecho de una cadena\n",
    "\n",
    "Sintaxis:\n",
    "\n",
    "```javascript\n",
    "cadena.trimEnd()\n",
    "```\n",
    "\n",
    "Ejemplo:"
   ]
  },
  {
   "cell_type": "code",
   "execution_count": null,
   "metadata": {
    "vscode": {
     "languageId": "javascript"
    }
   },
   "outputs": [],
   "source": [
    "%%javascript\n",
    "let str = \" Hello World! \";\n",
    "alert(str.trimEnd());\n",
    "// Output: Hello World!"
   ]
  },
  {
   "cell_type": "markdown",
   "metadata": {},
   "source": [
    "####  `pad()`\n",
    "\n",
    "##### `padStart()`\n",
    "\n",
    "Rellena la cadena con un valor especificado al principio\n",
    "\n",
    "Sintaxis:\n",
    "\n",
    "```javascript\n",
    "cadena.padStart(length, value)\n",
    "```\n",
    "\n",
    "Ejemplo:"
   ]
  },
  {
   "cell_type": "code",
   "execution_count": null,
   "metadata": {
    "vscode": {
     "languageId": "javascript"
    }
   },
   "outputs": [],
   "source": [
    "%%javascript\n",
    "let str = \"Hello World!\";\n",
    "alert(str.padStart(20, \"*\"));\n",
    "// Output: ********Hello World!"
   ]
  },
  {
   "cell_type": "markdown",
   "metadata": {},
   "source": [
    "##### `padEnd()`\n",
    "\n",
    "Rellena la cadena con un valor especificado al final\n",
    "\n",
    "Sintaxis:\n",
    "\n",
    "```javascript\n",
    "cadena.padEnd(length, value)\n",
    "```\n",
    "\n",
    "Ejemplo:"
   ]
  },
  {
   "cell_type": "code",
   "execution_count": null,
   "metadata": {
    "vscode": {
     "languageId": "javascript"
    }
   },
   "outputs": [],
   "source": [
    "%%javascript\n",
    "let str = \"Hello World!\";\n",
    "alert(str.padEnd(20, \"*\"));\n",
    "// Output: Hello World!********"
   ]
  },
  {
   "cell_type": "markdown",
   "metadata": {},
   "source": [
    "#### `repeat()`\n",
    "\n",
    "Devuelve una nueva cadena con una cantidad específica de copias de la cadena original\n",
    "\n",
    "Sintaxis:\n",
    "\n",
    "```javascript\n",
    "cadena.repeat(count)\n",
    "```\n",
    "\n",
    "Ejemplo:"
   ]
  },
  {
   "cell_type": "code",
   "execution_count": null,
   "metadata": {
    "vscode": {
     "languageId": "javascript"
    }
   },
   "outputs": [],
   "source": [
    "%%javascript\n",
    "let str = \"Hello World!\";\n",
    "alert(str.repeat(2));\n",
    "// Output: Hello World!Hello World!"
   ]
  },
  {
   "cell_type": "markdown",
   "metadata": {},
   "source": [
    "#### `replace()`\n",
    "\n",
    "Reemplaza un valor específico en una cadena con otro valor\n",
    "\n",
    "Sintaxis:\n",
    "\n",
    "```javascript\n",
    "cadena.replace(value1, value2)\n",
    "```\n",
    "\n",
    "Ejemplo:"
   ]
  },
  {
   "cell_type": "code",
   "execution_count": null,
   "metadata": {
    "vscode": {
     "languageId": "javascript"
    }
   },
   "outputs": [],
   "source": [
    "%%javascript\n",
    "let str = \"Hello World!\";\n",
    "alert(str.replace(\"World\", \"Universe\"));\n",
    "// Output: Hello Universe!"
   ]
  },
  {
   "cell_type": "markdown",
   "metadata": {},
   "source": [
    "Distingue entre mayúsculas y minúsculas\n",
    "\n",
    "Podemos usar expresiones regulares para reemplazar todas las apariciones de un valor en una cadena\n",
    "\n",
    "Ejemplo:"
   ]
  },
  {
   "cell_type": "code",
   "execution_count": null,
   "metadata": {
    "vscode": {
     "languageId": "javascript"
    }
   },
   "outputs": [],
   "source": [
    "%%javascript\n",
    "let str = \"Hello World!World\";\n",
    "alert(str.replace(/World/g, \"Universe\"));\n",
    "// Output: Hello Universe!Universe"
   ]
  },
  {
   "cell_type": "markdown",
   "metadata": {},
   "source": [
    "##### `replaceAll()`\n",
    "\n",
    "Reemplaza todas las apariciones de un valor en una cadena con otro valor\n",
    "\n",
    "Sintaxis:\n",
    "\n",
    "```javascript\n",
    "cadena.replaceAll(value1, value2)\n",
    "```\n",
    "\n",
    "Ejemplo:"
   ]
  },
  {
   "cell_type": "code",
   "execution_count": null,
   "metadata": {
    "vscode": {
     "languageId": "javascript"
    }
   },
   "outputs": [],
   "source": [
    "%%javascript\n",
    "let str = \"Hello World!World\";\n",
    "alert(str.replaceAll(\"World\", \"Universe\"));\n",
    "// Output: Hello Universe!Universe"
   ]
  },
  {
   "cell_type": "markdown",
   "metadata": {},
   "source": [
    "#### `split()`\n",
    "\n",
    "Divide una cadena en una matriz de subcadenas\n",
    "\n",
    "Sintaxis:\n",
    "\n",
    "```javascript\n",
    "cadena.split(separator, limit)\n",
    "```\n",
    "\n",
    "Ejemplo:"
   ]
  },
  {
   "cell_type": "code",
   "execution_count": null,
   "metadata": {
    "vscode": {
     "languageId": "javascript"
    }
   },
   "outputs": [],
   "source": [
    "%%javascript\n",
    "let txt = \"a,b,c,d,e\";   // String\n",
    "let txt2 = txt.split(\",\"); // Output: a,b,c,d,e\n",
    "let txt3 = txt.split(\" \"); // Output: a,b,c,d,e\n",
    "let txt4 = txt.split(\"|\"); // Output: a|b|c|d|e\n",
    "alert(txt2 + \"\\n\" + txt3 + \"\\n\" + txt4);"
   ]
  },
  {
   "cell_type": "markdown",
   "metadata": {},
   "source": [
    "#### Buscar una cadena en una cadena\n",
    "\n",
    "##### `indexOf()`\n",
    "\n",
    "Devuelve la posición de la primera aparición de un valor especificado en una cadena\n",
    "\n",
    "Sintaxis:\n",
    "\n",
    "```javascript\n",
    "cadena.indexOf(value, start)\n",
    "```\n",
    "\n",
    "Ejemplo:"
   ]
  },
  {
   "cell_type": "code",
   "execution_count": null,
   "metadata": {
    "vscode": {
     "languageId": "javascript"
    }
   },
   "outputs": [],
   "source": [
    "%%javascript\n",
    "let str = \"Hello World!World\";\n",
    "alert(str.indexOf(\"World\"));\n",
    "// Output: 6"
   ]
  },
  {
   "cell_type": "markdown",
   "metadata": {},
   "source": [
    "##### `lastIndexOf()`\n",
    "\n",
    "Devuelve la posición de la última aparición de un valor especificado en una cadena\n",
    "\n",
    "Sintaxis:\n",
    "\n",
    "```javascript\n",
    "cadena.lastIndexOf(value, start)\n",
    "```\n",
    "\n",
    "Ejemplo:"
   ]
  },
  {
   "cell_type": "code",
   "execution_count": null,
   "metadata": {
    "vscode": {
     "languageId": "javascript"
    }
   },
   "outputs": [],
   "source": [
    "%%javascript\n",
    "let str = \"Hello World!World\";\n",
    "alert(str.lastIndexOf(\"World\"));\n",
    "// Output: 12"
   ]
  },
  {
   "cell_type": "markdown",
   "metadata": {},
   "source": [
    "##### `search()`\n",
    "\n",
    "Busca una cadena para un valor específico y devuelve la posición de la coincidencia\n",
    "\n",
    "Sintaxis:\n",
    "\n",
    "```javascript\n",
    "cadena.search(value)\n",
    "```\n",
    "\n",
    "Ejemplo:"
   ]
  },
  {
   "cell_type": "code",
   "execution_count": null,
   "metadata": {
    "vscode": {
     "languageId": "javascript"
    }
   },
   "outputs": [],
   "source": [
    "%%javascript\n",
    "let str = \"Hello World!\";\n",
    "alert(str.search(\"World\"));\n",
    "// Output: 6"
   ]
  },
  {
   "cell_type": "markdown",
   "metadata": {},
   "source": [
    "#### `match()` y `matchAll()`\n",
    "\n",
    "##### `match()`\n",
    "\n",
    "Busca una cadena para un valor específico y devuelve la primera coincidencia\n",
    "\n",
    "Sintaxis:\n",
    "\n",
    "```javascript\n",
    "cadena.match(value)\n",
    "```\n",
    "\n",
    "Ejemplo:"
   ]
  },
  {
   "cell_type": "code",
   "execution_count": null,
   "metadata": {
    "vscode": {
     "languageId": "javascript"
    }
   },
   "outputs": [],
   "source": [
    "%%javascript\n",
    "let text = \"The rain in SPAIN stays mainly in the plain\";\n",
    "alert(text.match(\"ain\"));\n",
    "// Output: ain"
   ]
  },
  {
   "cell_type": "markdown",
   "metadata": {},
   "source": [
    "Podemos usar expresiones regulares para buscar todas las apariciones de un valor en una cadena\n",
    "\n",
    "Ejemplo:"
   ]
  },
  {
   "cell_type": "code",
   "execution_count": null,
   "metadata": {
    "vscode": {
     "languageId": "javascript"
    }
   },
   "outputs": [],
   "source": [
    "%%javascript\n",
    "let text = \"The rain in SPAIN stays mainly in the plain\";\n",
    "alert(text.match(/ain/g));\n",
    "// Output: ain,ain,ain"
   ]
  },
  {
   "cell_type": "markdown",
   "metadata": {},
   "source": [
    "##### `matchAll()`\n",
    "\n",
    "Busca una cadena para un valor específico y devuelve todas las coincidencias    \n",
    "\n",
    "Sintaxis:\n",
    "\n",
    "```javascript\n",
    "cadena.matchAll(value)\n",
    "```\n",
    "\n",
    "Ejemplo:\n",
    "\n",
    "```javascript\n",
    "let text = \"The rain in SPAIN stays mainly in the plain\";\n",
    "let matches = text.matchAll(/ain/g);\n",
    "\n",
    "for (let match of matches) {\n",
    "    console.log(match[0]); // Muestra cada coincidencia en la consola\n",
    "}\n",
    "```\n",
    "\n",
    "`Output`:\n",
    "\n",
    "```\n",
    "ain\n",
    "ain\n",
    "ain\n",
    "ain\n",
    "```"
   ]
  },
  {
   "cell_type": "markdown",
   "metadata": {},
   "source": [
    "#### `includes()`\n",
    "\n",
    "Comprueba si una cadena contiene un valor específico\n",
    "\n",
    "Sintaxis:\n",
    "\n",
    "```javascript\n",
    "cadena.includes(value, start)\n",
    "```\n",
    "\n",
    "Ejemplo:"
   ]
  },
  {
   "cell_type": "code",
   "execution_count": null,
   "metadata": {
    "vscode": {
     "languageId": "javascript"
    }
   },
   "outputs": [],
   "source": [
    "%%javascript\n",
    "let text = \"The rain in SPAIN stays mainly in the plain\";\n",
    "alert(text.includes(\"ain\"));\n",
    "// Output: true \n"
   ]
  },
  {
   "cell_type": "markdown",
   "metadata": {},
   "source": [
    "#### `startsWith()` y `endsWith()`\n",
    "\n",
    "##### `startsWith()`\n",
    "\n",
    "Comprueba si una cadena comienza con un valor específico\n",
    "\n",
    "Sintaxis:\n",
    "\n",
    "```javascript\n",
    "cadena.startsWith(value, start)\n",
    "```\n",
    "\n",
    "Ejemplo:"
   ]
  },
  {
   "cell_type": "code",
   "execution_count": null,
   "metadata": {
    "vscode": {
     "languageId": "javascript"
    }
   },
   "outputs": [],
   "source": [
    "%%javascript\n",
    "let text = \"The rain in SPAIN stays mainly in the plain\";\n",
    "alert(text.startsWith(\"The\"));\n",
    "// Output: true"
   ]
  },
  {
   "cell_type": "markdown",
   "metadata": {},
   "source": [
    "##### `endsWith()`\n",
    "\n",
    "Comprueba si una cadena termina con un valor específico\n",
    "\n",
    "Sintaxis:\n",
    "\n",
    "```javascript\n",
    "cadena.endsWith(value, length)\n",
    "```\n",
    "\n",
    "Ejemplo:"
   ]
  },
  {
   "cell_type": "code",
   "execution_count": null,
   "metadata": {
    "vscode": {
     "languageId": "javascript"
    }
   },
   "outputs": [],
   "source": [
    "%%javascript\n",
    "let text = \"The rain in SPAIN stays mainly in the plain\";\n",
    "alert(text.endsWith(\"plain\"));\n",
    "// Output: true"
   ]
  },
  {
   "cell_type": "markdown",
   "metadata": {},
   "source": [
    "### Interpolación de Cadenas en JavaScript\n",
    "\n",
    "La interpolación de cadenas es una forma de combinar variables y cadenas en una sola cadena. En JavaScript, podemos usar plantillas de cadena para la interpolación de cadenas.\n",
    "\n",
    "Sintaxis:\n",
    "\n",
    "```javascript\n",
    "`string text ${expression} string text`\n",
    "```\n",
    "\n",
    "Ejemplo:"
   ]
  },
  {
   "cell_type": "code",
   "execution_count": null,
   "metadata": {
    "vscode": {
     "languageId": "javascript"
    }
   },
   "outputs": [],
   "source": [
    "%%javascript\n",
    "let firstName = \"John\";\n",
    "let lastName = \"Doe\";\n",
    "alert(`Hello ${firstName} ${lastName}!`);\n",
    "// Output: Hello John Doe!"
   ]
  },
  {
   "cell_type": "code",
   "execution_count": null,
   "metadata": {
    "vscode": {
     "languageId": "javascript"
    }
   },
   "outputs": [],
   "source": [
    "%%javascript\n",
    "let price = 10;\n",
    "let VAT = 0.25;\n",
    "\n",
    "alert(`Total: ${(price * (1 + VAT)).toFixed(2)}`);\n",
    "// Output: Total: 12.50"
   ]
  },
  {
   "cell_type": "markdown",
   "metadata": {},
   "source": [
    "### Plantillas html en JavaScript\n",
    "\n",
    "Las plantillas HTML son una forma de crear cadenas de HTML en JavaScript. Podemos usar plantillas de cadena para crear plantillas HTML.\n",
    "\n",
    "Ejemplo:\n",
    "\n",
    "```javascript\n",
    "let header = \"Template Strings\";\n",
    "let tags = [\"template strings\", \"javascript\", \"es6\"];\n",
    "\n",
    "let html = `<h2>${header}</h2><ul>`;\n",
    "for (const x of tags) {\n",
    "  html += `<li>${x}</li>`;\n",
    "}\n",
    "\n",
    "html += `</ul>`;\n",
    "```\n",
    "\n",
    "Output:\n",
    "\n",
    "```html\n",
    "<h2>Template Strings</h2><ul><li>template strings</li><li>javascript</li><li>es6</li></ul>\n",
    "```"
   ]
  },
  {
   "cell_type": "markdown",
   "metadata": {},
   "source": [
    "## Numeros en JavaScript\n",
    "\n",
    "### Métodos numéricos de JavaScript\n",
    "\n",
    "Estos métodos numéricos se pueden utilizar en todos los números de JavaScript:\n",
    "\n",
    "| Método           | Descripción                                         |\n",
    "|------------------|-----------------------------------------------------|\n",
    "| `toString()`     | Devuelve un número como una cadena                  |\n",
    "| `toExponential()`| Devuelve un número escrito en notación exponencial  |\n",
    "| `toFixed()`      | Devuelve un número escrito con un número de decimales|\n",
    "| `toPrecision()`  | Devuelve un número escrito con una longitud especificada|\n",
    "| `valueOf()`      | Devuelve un número como un número                   |\n",
    "\n",
    "```javascript\t\n",
    "let x = 123;\n",
    "x.toString();\n",
    "(123).toString();\n",
    "(100 + 23).toString();\n",
    "// Output: 123\n",
    "```\n",
    "\n",
    "```javascript\n",
    "let x = 9.656;\n",
    "x.toExponential(2);\n",
    "// Output: 9.66e+0\n",
    "```\n",
    "\n",
    "```javascript\n",
    "let x = 9.656;\n",
    "x.toFixed(0);\n",
    "// Output: 10\n",
    "```\n",
    "\n",
    "```javascript\n",
    "let x = 9.656;\n",
    "x.toPrecision(2);\n",
    "// Output: 9.7\n",
    "```\n",
    "\n",
    "```javascript\n",
    "let x = 123;\n",
    "x.valueOf();\n",
    "// Output: 123\n",
    "```\n",
    "\n",
    "### Conversión de variables a números en JavaScript\n",
    "\n",
    "Hay 3 métodos de JavaScript que se pueden utilizar para convertir una variable en un número:\n",
    "\n",
    "| Método       | Descripción                                      |\n",
    "|--------------|--------------------------------------------------|\n",
    "| `Number()`   | Devuelve un número convertido a partir de su argumento. |\n",
    "| `parseFloat()` | Analiza su argumento y devuelve un número de coma flotante. |\n",
    "| `parseInt()`   | Analiza su argumento y devuelve un número entero. |\n",
    "\n",
    "### Metodos de objetos numericos\n",
    "\n",
    "| Método       | Descripción                                      |\n",
    "|--------------|--------------------------------------------------|\n",
    "| `Number.isInteger()`   | Determina si un valor es un número entero. |\n",
    "| `Number.isSafeInteger()` | Determina si un valor es un número entero seguro. |\n",
    "| `Number.parseFloat()`   | Analiza su argumento y devuelve un número de coma flotante. |\n",
    "| `Number.parseInt()`   | Analiza su argumento y devuelve un número entero. |"
   ]
  },
  {
   "cell_type": "markdown",
   "metadata": {},
   "source": [
    "## Arrays en JavaScript\n",
    "\n",
    "### Métodos de Arrays en JavaScript\n",
    "\n",
    "#### `length`\n",
    "\n",
    "Devuelve la longitud de una matriz\n",
    "\n",
    "Sintaxis:\n",
    "\n",
    "```javascript\n",
    "array.length\n",
    "```\n",
    "\n",
    "Ejemplo:"
   ]
  },
  {
   "cell_type": "code",
   "execution_count": null,
   "metadata": {
    "vscode": {
     "languageId": "javascript"
    }
   },
   "outputs": [],
   "source": [
    "%%javascript\n",
    "const fruits = [\"Banana\", \"Orange\", \"Apple\", \"Mango\"];\n",
    "alert(fruits.length);\n",
    "// Output: 4"
   ]
  },
  {
   "cell_type": "markdown",
   "metadata": {},
   "source": [
    "#### `sort()`\n",
    "\n",
    "Ordena los elementos de una matriz\n",
    "\n",
    "Sintaxis:\n",
    "\n",
    "```javascript\n",
    "array.sort()\n",
    "```\n",
    "\n",
    "Ejemplo:"
   ]
  },
  {
   "cell_type": "code",
   "execution_count": null,
   "metadata": {
    "vscode": {
     "languageId": "javascript"
    }
   },
   "outputs": [],
   "source": [
    "%%javascript\n",
    "const fruits = [\"Banana\", \"Orange\", \"Apple\", \"Mango\"];\n",
    "alert(fruits.sort());"
   ]
  },
  {
   "cell_type": "markdown",
   "metadata": {},
   "source": [
    "#### `join()`\n",
    "\n",
    "Convierte los elementos de una matriz en una cadena\n",
    "\n",
    "Sintaxis:\n",
    "\n",
    "```javascript\n",
    "array.join(separator)\n",
    "```\n",
    "\n",
    "Ejemplo:"
   ]
  },
  {
   "cell_type": "code",
   "execution_count": null,
   "metadata": {
    "vscode": {
     "languageId": "javascript"
    }
   },
   "outputs": [],
   "source": [
    "%%javascript\n",
    "const fruits = [\"Banana\", \"Orange\", \"Apple\", \"Mango\"];\n",
    "alert(fruits.join(\" * \"));\n",
    "// Output: Banana * Orange * Apple * Mango"
   ]
  },
  {
   "cell_type": "markdown",
   "metadata": {},
   "source": [
    "#### `pop()`\n",
    "\n",
    "Elimina el último elemento de una matriz\n",
    "\n",
    "Sintaxis:\n",
    "\n",
    "```javascript\n",
    "array.pop()\n",
    "```\n",
    "\n",
    "Ejemplo:"
   ]
  },
  {
   "cell_type": "code",
   "execution_count": null,
   "metadata": {
    "vscode": {
     "languageId": "javascript"
    }
   },
   "outputs": [],
   "source": [
    "%%javascript\n",
    "const fruits = [\"Banana\", \"Orange\", \"Apple\", \"Mango\"];\n",
    "alert(fruits.pop());\n",
    "// Output: Mango\n",
    "// La array ahora es [\"Banana\", \"Orange\", \"Apple\"]"
   ]
  },
  {
   "cell_type": "markdown",
   "metadata": {},
   "source": [
    "#### `push()`\n",
    "\n",
    "Agrega nuevos elementos al final de una matriz y devuelve la nueva longitud\n",
    "\n",
    "Sintaxis:\n",
    "\n",
    "```javascript\n",
    "array.push(element1, element2, ..., elementN)\n",
    "```\n",
    "\n",
    "Ejemplo:"
   ]
  },
  {
   "cell_type": "code",
   "execution_count": null,
   "metadata": {
    "vscode": {
     "languageId": "javascript"
    }
   },
   "outputs": [],
   "source": [
    "%%javascript\n",
    "const fruits = [\"Banana\", \"Orange\", \"Apple\", \"Mango\"];\n",
    "alert(fruits.push(\"Kiwi\"));\n",
    "// Output: 5\n",
    "// La array ahora es [\"Banana\", \"Orange\", \"Apple\", \"Mango\", \"Kiwi\"]"
   ]
  },
  {
   "cell_type": "markdown",
   "metadata": {},
   "source": [
    "#### `shift()`\n",
    "\n",
    "Elimina el primer elemento de una matriz\n",
    "\n",
    "Sintaxis:\n",
    "\n",
    "```javascript\n",
    "array.shift()\n",
    "```\n",
    "\n",
    "Ejemplo:"
   ]
  },
  {
   "cell_type": "code",
   "execution_count": null,
   "metadata": {
    "vscode": {
     "languageId": "javascript"
    }
   },
   "outputs": [],
   "source": [
    "%%javascript\n",
    "const fruits = [\"Banana\", \"Orange\", \"Apple\", \"Mango\"];\n",
    "alert(fruits.shift());\n",
    "// Output: Banana\n",
    "// La array ahora es [\"Orange\", \"Apple\", \"Mango\"]"
   ]
  },
  {
   "cell_type": "markdown",
   "metadata": {},
   "source": [
    "#### `unshift()`\n",
    "\n",
    "Agrega nuevos elementos al principio de una matriz y devuelve la nueva longitud\n",
    "\n",
    "Sintaxis:\n",
    "\n",
    "```javascript\n",
    "array.unshift(element1, element2, ..., elementN)\n",
    "```\n",
    "\n",
    "Ejemplo:"
   ]
  },
  {
   "cell_type": "code",
   "execution_count": null,
   "metadata": {
    "vscode": {
     "languageId": "javascript"
    }
   },
   "outputs": [],
   "source": [
    "%%javascript\n",
    "const fruits = [\"Banana\", \"Orange\", \"Apple\", \"Mango\"];\n",
    "alert(fruits.unshift(\"Lemon\"));\n",
    "// Output: 5\n",
    "// La array ahora es [\"Lemon\", \"Banana\", \"Orange\", \"Apple\", \"Mango\"]"
   ]
  },
  {
   "cell_type": "markdown",
   "metadata": {},
   "source": [
    "#### `delete`\n",
    "\n",
    "Elimina el elemento en un índice específico de una matriz\n",
    "\n",
    "Sintaxis:\n",
    "\n",
    "```javascript\n",
    "delete array[index]\n",
    "```\n",
    "\n",
    "Ejemplo:"
   ]
  },
  {
   "cell_type": "code",
   "execution_count": null,
   "metadata": {
    "vscode": {
     "languageId": "javascript"
    }
   },
   "outputs": [],
   "source": [
    "%%javascript\n",
    "const fruits = [\"Banana\", \"Orange\", \"Apple\", \"Mango\"];\n",
    "delete fruits[0];\n",
    "alert(fruits);\n",
    "// Output: [empty, \"Orange\", \"Apple\", \"Mango\"]"
   ]
  },
  {
   "cell_type": "markdown",
   "metadata": {},
   "source": [
    "#### `concat()`\n",
    "\n",
    "Concatena dos o más matrices\n",
    "\n",
    "Sintaxis:\n",
    "\n",
    "```javascript\n",
    "array1.concat(array2, array3, ..., arrayN)\n",
    "```\n",
    "\n",
    "Ejemplo:"
   ]
  },
  {
   "cell_type": "code",
   "execution_count": null,
   "metadata": {
    "vscode": {
     "languageId": "javascript"
    }
   },
   "outputs": [],
   "source": [
    "%%javascript\n",
    "const fruits = [\"Banana\", \"Orange\", \"Apple\", \"Mango\"];\n",
    "const vegetables = [\"Tomato\", \"Potato\", \"Onion\"];\n",
    "alert(fruits.concat(vegetables));\n",
    "// Output: [\"Banana\", \"Orange\", \"Apple\", \"Mango\", \"Tomato\", \"Potato\", \"Onion\"]\n"
   ]
  },
  {
   "cell_type": "markdown",
   "metadata": {},
   "source": [
    "#### `copyWithin()`\n",
    "\n",
    "Copia elementos de una matriz a otra ubicación en la misma matriz\n",
    "\n",
    "Sintaxis:\n",
    "\n",
    "```javascript\n",
    "array.copyWithin(target, start, end)\n",
    "```\n",
    "\n",
    "Ejemplo:"
   ]
  },
  {
   "cell_type": "code",
   "execution_count": null,
   "metadata": {
    "vscode": {
     "languageId": "javascript"
    }
   },
   "outputs": [],
   "source": [
    "%%javascript\n",
    "const fruits = [\"Banana\", \"Orange\", \"Apple\", \"Mango\"];\n",
    "alert(fruits.copyWithin(2, 0, 1));\n",
    "// Output: [\"Banana\", \"Orange\", \"Banana\", \"Mango\"]"
   ]
  },
  {
   "cell_type": "markdown",
   "metadata": {},
   "source": [
    "#### `flat()`\n",
    "\n",
    "##### `flat()`\n",
    "\n",
    "Crea una nueva matriz con todos los elementos de una matriz sub-array concatenados en ella\n",
    "\n",
    "Sintaxis:\n",
    "\n",
    "```javascript\n",
    "array.flat(depth)\n",
    "```\n",
    "\n",
    "Ejemplo:"
   ]
  },
  {
   "cell_type": "code",
   "execution_count": null,
   "metadata": {
    "vscode": {
     "languageId": "javascript"
    }
   },
   "outputs": [],
   "source": [
    "%%javascript\n",
    "const fruits = [\"Banana\", \"Orange\", [\"Apple\", [\"Mango\"]]];\n",
    "alert(fruits.flat());\n",
    "// Output: Banana,Orange,Apple,Mango"
   ]
  },
  {
   "cell_type": "markdown",
   "metadata": {},
   "source": [
    "##### `flatMap()`\n",
    "\n",
    "Crea una nueva matriz con los resultados de llamar a una función para cada elemento de la matriz\n",
    "\n",
    "Sintaxis:\n",
    "\n",
    "```javascript\n",
    "array.flatMap(function(currentValue, index, arr), thisValue)\n",
    "```\n",
    "\n",
    "Ejemplo:"
   ]
  },
  {
   "cell_type": "code",
   "execution_count": null,
   "metadata": {},
   "outputs": [],
   "source": [
    "%%javascript\n",
    "const fruits = [\"Banana\", \"Orange\", \"Apple\", \"Mango\"];\n",
    "alert(fruits.flatMap(x => [x, x])); // El operador => se podria traducir como \"para cada x en fruits, haz x y x\"\n",
    "// Output: Banana,Banana,Orange,Orange,Apple,Apple,Mango,Mango"
   ]
  },
  {
   "cell_type": "markdown",
   "metadata": {},
   "source": [
    "#### `splice()`\n",
    "\n",
    "Agrega / elimina elementos de una matriz\n",
    "\n",
    "Sintaxis:\n",
    "\n",
    "```javascript\n",
    "array.splice(index, howmany, item1, ....., itemX)\n",
    "```\n",
    "\n",
    "Ejemplo:"
   ]
  },
  {
   "cell_type": "code",
   "execution_count": null,
   "metadata": {
    "vscode": {
     "languageId": "javascript"
    }
   },
   "outputs": [],
   "source": [
    "%%javascript\n",
    "const fruits = [\"Banana\", \"Orange\", \"Apple\", \"Mango\"];\n",
    "alert(fruits.splice(0, 1));\n",
    "// fruits.splice(0,1) = [\"Banana\"]\n",
    "// fruits = [\"Orange\", \"Lemon\", \"Kiwi\", \"Apple\", \"Mango\"]"
   ]
  },
  {
   "cell_type": "markdown",
   "metadata": {},
   "source": [
    "#### `search()`\n",
    "\n",
    "##### `indexOf()`\n",
    "\n",
    "Devuelve la posición de la primera aparición de un valor especificado en una matriz\n",
    "\n",
    "Sintaxis:\n",
    "\n",
    "```javascript\n",
    "array.indexOf(value, start)\n",
    "```\n",
    "\n",
    "Ejemplo:"
   ]
  },
  {
   "cell_type": "code",
   "execution_count": null,
   "metadata": {
    "vscode": {
     "languageId": "javascript"
    }
   },
   "outputs": [],
   "source": [
    "%%javascript\n",
    "const fruits = [\"Banana\", \"Orange\", \"Apple\", \"Mango\"];\n",
    "alert(fruits.indexOf(\"Apple\"));\n",
    "// Output: 2"
   ]
  },
  {
   "cell_type": "markdown",
   "metadata": {},
   "source": [
    "##### `lastIndexOf()`\n",
    "\n",
    "Devuelve la posición de la última aparición de un valor especificado en una matriz\n",
    "\n",
    "Sintaxis:\n",
    "\n",
    "```javascript\n",
    "array.lastIndexOf(value, start)\n",
    "```\n",
    "\n",
    "Ejemplo:"
   ]
  },
  {
   "cell_type": "code",
   "execution_count": null,
   "metadata": {
    "vscode": {
     "languageId": "javascript"
    }
   },
   "outputs": [],
   "source": [
    "%%javascript\n",
    "const fruits = [\"Banana\", \"Orange\", \"Apple\", \"Mango\",\"Apple\"];\n",
    "alert(fruits.lastIndexOf(\"Apple\"));\n",
    "// Output: 4"
   ]
  },
  {
   "cell_type": "markdown",
   "metadata": {},
   "source": [
    "##### `includes()`\n",
    "\n",
    "Determina si una matriz incluye un determinado valor entre sus elementos\n",
    "\n",
    "Sintaxis:\n",
    "\n",
    "```javascript\n",
    "array.includes(value, start)\n",
    "```\n",
    "\n",
    "Ejemplo:"
   ]
  },
  {
   "cell_type": "code",
   "execution_count": null,
   "metadata": {
    "vscode": {
     "languageId": "javascript"
    }
   },
   "outputs": [],
   "source": [
    "%%javascript\n",
    "const fruits = [\"Banana\", \"Orange\", \"Apple\", \"Mango\"];\n",
    "alert(fruits.includes(\"Apple\"));\n",
    "// Output: true"
   ]
  },
  {
   "cell_type": "markdown",
   "metadata": {},
   "source": [
    "##### `find()`\n",
    "\n",
    "Devuelve el primer elemento que cumple con la función de prueba\n",
    "\n",
    "Sintaxis:\n",
    "\n",
    "```javascript\n",
    "array.find(function(currentValue, index, arr),thisValue)\n",
    "```\n",
    "\n",
    "Ejemplo:"
   ]
  },
  {
   "cell_type": "code",
   "execution_count": null,
   "metadata": {
    "vscode": {
     "languageId": "javascript"
    }
   },
   "outputs": [],
   "source": [
    "%%javascript\n",
    "const fruits = [\"Banana\", \"Orange\", \"Apple\", \"Mango\"];\n",
    "alert(fruits.find(x => x === \"Apple\"));\n",
    "// Output: Apple"
   ]
  },
  {
   "cell_type": "markdown",
   "metadata": {},
   "source": [
    "##### `findIndex()`\n",
    "\n",
    "Devuelve el índice del primer elemento que cumple con la función de prueba\n",
    "\n",
    "Sintaxis:\n",
    "\n",
    "```javascript\n",
    "array.findIndex(function(currentValue, index, arr),thisValue)\n",
    "```\n",
    "\n",
    "Ejemplo:"
   ]
  },
  {
   "cell_type": "code",
   "execution_count": null,
   "metadata": {
    "vscode": {
     "languageId": "javascript"
    }
   },
   "outputs": [],
   "source": [
    "%%javascript\n",
    "const fruits = [\"Banana\", \"Orange\", \"Apple\", \"Mango\"];\n",
    "alert(fruits.findIndex(x => x === \"Apple\"));\n",
    "// Output: 2"
   ]
  },
  {
   "cell_type": "markdown",
   "metadata": {},
   "source": [
    "##### `findLast()`\n",
    "\n",
    "Devuelve el último elemento que cumple con la función de prueba\n",
    "\n",
    "Sintaxis:\n",
    "\n",
    "```javascript\n",
    "array.findLast(function(currentValue, index, arr),thisValue)\n",
    "```\n",
    "\n",
    "Ejemplo:"
   ]
  },
  {
   "cell_type": "code",
   "execution_count": null,
   "metadata": {
    "vscode": {
     "languageId": "javascript"
    }
   },
   "outputs": [],
   "source": [
    "%%javascript\n",
    "const fruits = [\"Banana\", \"Orange\", \"Apple\", \"Mango\"];\n",
    "alert(fruits.findLast(x => x === \"Apple\"));\n",
    "// Output: Apple"
   ]
  },
  {
   "cell_type": "markdown",
   "metadata": {},
   "source": [
    "##### `findLastIndex()`\n",
    "\n",
    "Devuelve el índice del último elemento que cumple con la función de prueba\n",
    "\n",
    "Sintaxis:\n",
    "\n",
    "```javascript\n",
    "array.findLastIndex(function(currentValue, index, arr),thisValue)\n",
    "```\n",
    "\n",
    "Ejemplo:"
   ]
  },
  {
   "cell_type": "code",
   "execution_count": null,
   "metadata": {
    "vscode": {
     "languageId": "javascript"
    }
   },
   "outputs": [],
   "source": [
    "%%javascript\n",
    "const fruits = [\"Banana\", \"Orange\", \"Apple\", \"Mango\",\"Apple\"];\n",
    "alert(fruits.findLastIndex(x => x === \"Apple\"));\n",
    "// Output: 4"
   ]
  },
  {
   "cell_type": "markdown",
   "metadata": {},
   "source": [
    "#### `sort()`\n",
    "\n",
    "Ordena los elementos de una matriz\n",
    "\n",
    "Sintaxis:\n",
    "\n",
    "```javascript\n",
    "array.sort()\n",
    "```\n",
    "\n",
    "Ejemplo:"
   ]
  },
  {
   "cell_type": "code",
   "execution_count": null,
   "metadata": {
    "vscode": {
     "languageId": "javascript"
    }
   },
   "outputs": [],
   "source": [
    "%%javascript\n",
    "const fruits = [\"Banana\", \"Orange\", \"Apple\", \"Mango\"];\n",
    "alert(fruits.sort());\n",
    "// Output: Apple,Banana,Mango,Orange"
   ]
  },
  {
   "cell_type": "markdown",
   "metadata": {},
   "source": [
    "#### `reverse()`\n",
    "\n",
    "Invierte el orden de los elementos de una matriz\n",
    "\n",
    "Sintaxis:\n",
    "\n",
    "```javascript\n",
    "array.reverse()\n",
    "```\n",
    "\n",
    "Ejemplo:"
   ]
  },
  {
   "cell_type": "code",
   "execution_count": null,
   "metadata": {
    "vscode": {
     "languageId": "javascript"
    }
   },
   "outputs": [],
   "source": [
    "%%javascript\n",
    "const fruits = [\"Banana\", \"Orange\", \"Apple\", \"Mango\"];\n",
    "alert(fruits.reverse());\n",
    "// Output: Mango,Apple,Orange,Banana"
   ]
  },
  {
   "cell_type": "markdown",
   "metadata": {},
   "source": [
    "#### `forEach()`\n",
    "\n",
    "Llama a una función para cada elemento de una matriz\n",
    "\n",
    "Sintaxis:\n",
    "\n",
    "```javascript\n",
    "array.forEach(function(currentValue, index, arr), thisValue)\n",
    "```\n",
    "\n",
    "Ejemplo:"
   ]
  },
  {
   "cell_type": "code",
   "execution_count": null,
   "metadata": {
    "vscode": {
     "languageId": "javascript"
    }
   },
   "outputs": [],
   "source": [
    "%%javascript\n",
    "const fruits = [\"Banana\", \"Orange\", \"Apple\", \"Mango\"];\n",
    "let result = \"\"; \n",
    "\n",
    "fruits.forEach(x => {\n",
    "    result += x + \":si,\"; // Agrega :si despues de cada fruta\n",
    "});\n",
    "\n",
    "alert(result); \n",
    "// Output: Banana:si,Orange:si,Apple:si,Mango:si,\n"
   ]
  },
  {
   "cell_type": "markdown",
   "metadata": {},
   "source": [
    "El metodo `filter()` hace lo mismo que `forEach()` pero sin modificar la matriz original\n",
    "\n",
    "#### `reduce()`\n",
    "\n",
    "Reduce la matriz a un solo valor (de izquierda a derecha)\n",
    "\n",
    "Sintaxis:\n",
    "\n",
    "```javascript\n",
    "array.reduce(function(total, currentValue, currentIndex, arr), initialValue)\n",
    "```\n",
    "\n",
    "Ejemplo:"
   ]
  },
  {
   "cell_type": "code",
   "execution_count": null,
   "metadata": {
    "vscode": {
     "languageId": "javascript"
    }
   },
   "outputs": [],
   "source": [
    "%%javascript\n",
    "const numbers = [45, 4, 9, 16, 25];\n",
    "alert(numbers.reduce((total, num) => total + num));\n",
    "// Output: 99"
   ]
  },
  {
   "cell_type": "markdown",
   "metadata": {},
   "source": [
    "`reduceRight()` hace lo mismo que `reduce()` pero de derecha a izquierda\n",
    "\n",
    "#### `every()`\n",
    "\n",
    "Comprueba si todos los elementos de una matriz pasan una prueba\n",
    "\n",
    "Sintaxis:\n",
    "\n",
    "```javascript\n",
    "array.every(function(currentValue, index, arr), thisValue)\n",
    "```\n",
    "\n",
    "Ejemplo:"
   ]
  },
  {
   "cell_type": "code",
   "execution_count": null,
   "metadata": {
    "vscode": {
     "languageId": "javascript"
    }
   },
   "outputs": [],
   "source": [
    "%%javascript\n",
    "const numbers = [45, 4, 9, 16, 25];\n",
    "alert(numbers.every(x => x > 18));\n",
    "// Output: false"
   ]
  },
  {
   "cell_type": "markdown",
   "metadata": {},
   "source": [
    "#### `some()`\n",
    "\n",
    "Comprueba si algunos elementos de una matriz pasan una prueba\n",
    "\n",
    "Sintaxis:\n",
    "\n",
    "```javascript\n",
    "array.some(function(currentValue, index, arr), thisValue)\n",
    "```\n",
    "\n",
    "Ejemplo:"
   ]
  },
  {
   "cell_type": "code",
   "execution_count": null,
   "metadata": {
    "vscode": {
     "languageId": "javascript"
    }
   },
   "outputs": [],
   "source": [
    "%%javascript\n",
    "const numbers = [45, 4, 9, 16, 25];\n",
    "alert(numbers.some(x => x > 18));\n",
    "// Output: true"
   ]
  },
  {
   "cell_type": "markdown",
   "metadata": {},
   "source": [
    "##### `Array.from()`\n",
    "\n",
    "Crea una nueva matriz a partir de un objeto iterable\n",
    "\n",
    "Sintaxis:\n",
    "\n",
    "```javascript\n",
    "Array.from(object, mapFunction, thisValue)\n",
    "```\n",
    "\n",
    "Ejemplo:"
   ]
  },
  {
   "cell_type": "code",
   "execution_count": null,
   "metadata": {
    "vscode": {
     "languageId": "javascript"
    }
   },
   "outputs": [],
   "source": [
    "%%javascript\n",
    "const fruits = [\"Banana\", \"Orange\", \"Apple\", \"Mango\"];\n",
    "alert(Array.from(fruits, x => x + \" Si\"));\n",
    "// Output: Banana Si,Orange Si,Apple Si,Mango Si\n",
    "// Se creo un nuevo array con las frutas originales mas \" Si\""
   ]
  },
  {
   "cell_type": "markdown",
   "metadata": {},
   "source": [
    "#### `keys()`\n",
    "\n",
    "Devuelve un objeto Array Iterador que contiene las claves de cada índice en la matriz\n",
    "\n",
    "Sintaxis:\n",
    "\n",
    "```javascript\n",
    "array.keys()\n",
    "```\n",
    "\n",
    "Ejemplo:"
   ]
  },
  {
   "cell_type": "code",
   "execution_count": null,
   "metadata": {
    "vscode": {
     "languageId": "javascript"
    }
   },
   "outputs": [],
   "source": [
    "%%javascript\n",
    "const fruits = [\"Banana\", \"Orange\", \"Apple\", \"Mango\"];\n",
    "alert([...fruits.keys()].join(\", \")); // Aquí, [...fruits.keys()] convierte el iterador en un array antes de usar join() \n",
    "//y el join() une los elementos del array con una coma.\n",
    "// Output: 0, 1, 2, 3"
   ]
  },
  {
   "cell_type": "markdown",
   "metadata": {},
   "source": [
    "#### `values()`\n",
    "\n",
    "Devuelve un objeto Array Iterador que contiene los valores de cada índice en la matriz\n",
    "\n",
    "Sintaxis:\n",
    "\n",
    "```javascript\n",
    "array.values()\n",
    "```\n",
    "\n",
    "Ejemplo:"
   ]
  },
  {
   "cell_type": "code",
   "execution_count": null,
   "metadata": {
    "vscode": {
     "languageId": "javascript"
    }
   },
   "outputs": [],
   "source": [
    "%%javascript\n",
    "const fruits = [\"Banana\", \"Orange\", \"Apple\", \"Mango\"];\n",
    "alert([...fruits.values()].join(\", \")); // Aquí, [...fruits.values()] convierte el iterador en un array antes de usar join()\n",
    "// y el join() une los elementos del array con una coma.\n",
    "// Output: Banana, Orange, Apple, Mango"
   ]
  },
  {
   "cell_type": "markdown",
   "metadata": {},
   "source": [
    "#### `entries()`\n",
    "\n",
    "Devuelve un objeto Array Iterador que contiene los pares clave/valor para cada índice en la matriz\n",
    "\n",
    "Sintaxis:\n",
    "\n",
    "```javascript\n",
    "array.entries()\n",
    "```\n",
    "\n",
    "Ejemplo:"
   ]
  },
  {
   "cell_type": "code",
   "execution_count": null,
   "metadata": {
    "vscode": {
     "languageId": "javascript"
    }
   },
   "outputs": [],
   "source": [
    "%%javascript\n",
    "const fruits = [\"Banana\", \"Orange\", \"Apple\", \"Mango\"];\n",
    "alert([...fruits.entries()].join(\", \"));// Aquí, [...fruits.entries()] convierte el iterador en un array antes de usar join()\n",
    "// y el join() une los elementos del array con una coma.\n",
    "// Output: 0,Banana,1,Orange,2,Apple,3,Mango"
   ]
  },
  {
   "cell_type": "markdown",
   "metadata": {},
   "source": [
    "#### Diferencia entre Arrays y Objetos\n",
    "\n",
    "- En JavaScript, las matrices usan índices numerados.\n",
    "- En JavaScript, los objetos usan índices con nombre."
   ]
  },
  {
   "cell_type": "markdown",
   "metadata": {},
   "source": [
    "## Sets en JavaScript\n",
    "\n",
    "Los conjuntos en JavaScript son una colección de elementos únicos. Los conjuntos se utilizan para almacenar múltiples valores en una sola variable.\n",
    "\n",
    "```javascript\n",
    "const fruits = new Set([\"Banana\", \"Orange\", \"Apple\", \"Mango\"]);\n",
    "```\n",
    "\n",
    "### Métodos de los conjuntos de JavaScript\n",
    "\n",
    "#### `add()`\n",
    "\n",
    "Añade un nuevo elemento al conjunto\n",
    "\n",
    "Sintaxis:\n",
    "\n",
    "```javascript\n",
    "set.add(value)\n",
    "```\n",
    "\n",
    "Ejemplo:"
   ]
  },
  {
   "cell_type": "code",
   "execution_count": null,
   "metadata": {
    "vscode": {
     "languageId": "javascript"
    }
   },
   "outputs": [],
   "source": [
    "%%javascript\n",
    "const fruits = new Set([\"Banana\", \"Orange\", \"Apple\", \"Mango\"]);\n",
    "alert(fruits.add(\"Kiwi\"));\n",
    "// Output: Banana, Orange, Apple, Mango, Kiwi"
   ]
  },
  {
   "cell_type": "markdown",
   "metadata": {},
   "source": [
    "#### `delete()`\n",
    "\n",
    "Elimina un elemento del conjunto\n",
    "\n",
    "Sintaxis:\n",
    "\n",
    "```javascript\n",
    "set.delete(value)\n",
    "```\n",
    "\n",
    "Ejemplo:"
   ]
  },
  {
   "cell_type": "code",
   "execution_count": null,
   "metadata": {
    "vscode": {
     "languageId": "javascript"
    }
   },
   "outputs": [],
   "source": [
    "%%javascript\n",
    "const fruits = new Set([\"Banana\", \"Orange\", \"Apple\", \"Mango\"]);\n",
    "alert(fruits.delete(\"Banana\"));\n",
    "// Output: true\n",
    "// La lista ahora es [\"Orange\", \"Apple\", \"Mango\"]"
   ]
  },
  {
   "cell_type": "markdown",
   "metadata": {},
   "source": [
    "#### `clear()`\n",
    "\n",
    "Elimina todos los elementos del conjunto\n",
    "\n",
    "Sintaxis:\n",
    "\n",
    "```javascript\n",
    "set.clear()\n",
    "```\n",
    "\n",
    "Ejemplo:"
   ]
  },
  {
   "cell_type": "code",
   "execution_count": null,
   "metadata": {
    "vscode": {
     "languageId": "javascript"
    }
   },
   "outputs": [],
   "source": [
    "%%javascript\n",
    "const fruits = new Set([\"Banana\", \"Orange\", \"Apple\", \"Mango\"]);\n",
    "alert(fruits.clear());\n",
    "// Output: undefined\n",
    "// La lista ahora es []"
   ]
  },
  {
   "cell_type": "markdown",
   "metadata": {},
   "source": [
    "#### `has()`\n",
    "\n",
    "Devuelve true si el elemento está en el conjunto\n",
    "\n",
    "Sintaxis:\n",
    "\n",
    "```javascript\n",
    "set.has(value)\n",
    "```\n",
    "\n",
    "Ejemplo:"
   ]
  },
  {
   "cell_type": "code",
   "execution_count": null,
   "metadata": {
    "vscode": {
     "languageId": "javascript"
    }
   },
   "outputs": [],
   "source": [
    "%%javascript\n",
    "const fruits = new Set([\"Banana\", \"Orange\", \"Apple\", \"Mango\"]);\n",
    "alert(fruits.has(\"Banana\"));\n",
    "// Output: true"
   ]
  },
  {
   "cell_type": "markdown",
   "metadata": {},
   "source": [
    "#### `forEach()`\n",
    "\n",
    "Llama a una función para cada elemento en el conjunto\n",
    "\n",
    "Sintaxis:\n",
    "\n",
    "```javascript\n",
    "set.forEach(function(value1, value2, set), thisValue)\n",
    "``` \n",
    "\n",
    "Ejemplo:"
   ]
  },
  {
   "cell_type": "code",
   "execution_count": null,
   "metadata": {
    "vscode": {
     "languageId": "javascript"
    }
   },
   "outputs": [],
   "source": [
    "%%javascript\n",
    "const fruits = new Set([\"Banana\", \"Orange\", \"Apple\", \"Mango\"]);\n",
    "fruits.forEach(x => {\n",
    "    result += x + \":si,\"; // Agrega :si despues de cada fruta\n",
    "});\n",
    "\n",
    "alert(result); \n",
    "// Output: Banana:si,Orange:si,Apple:si,Mango:si,"
   ]
  },
  {
   "cell_type": "markdown",
   "metadata": {},
   "source": [
    "#### `keys()`\n",
    "\n",
    "Devuelve un objeto iterador que contiene las claves de cada elemento en el conjunto\n",
    "\n",
    "Sintaxis:\n",
    "\n",
    "```javascript\n",
    "set.keys()\n",
    "```\n",
    "\n",
    "Ejemplo:"
   ]
  },
  {
   "cell_type": "code",
   "execution_count": null,
   "metadata": {
    "vscode": {
     "languageId": "javascript"
    }
   },
   "outputs": [],
   "source": [
    "%%javascript\n",
    "const fruits = new Set([\"Banana\", \"Orange\", \"Apple\", \"Mango\"]);\n",
    "alert([...fruits.keys()].join(\", \")); // Aquí, [...fruits.keys()] convierte el iterador en un array antes de usar join()\n",
    "// y el join() une los elementos del array con una coma.\n",
    "// Output: Banana, Orange, Apple, Mango\n"
   ]
  },
  {
   "cell_type": "markdown",
   "metadata": {},
   "source": [
    "#### `values()`\n",
    "\n",
    "Devuelve un objeto iterador que contiene los valores de cada elemento en el conjunto\n",
    "\n",
    "Sintaxis:\n",
    "\n",
    "```javascript\n",
    "set.values()\n",
    "```\n",
    "\n",
    "Ejemplo:"
   ]
  },
  {
   "cell_type": "code",
   "execution_count": null,
   "metadata": {
    "vscode": {
     "languageId": "javascript"
    }
   },
   "outputs": [],
   "source": [
    "%%javascript\n",
    "const fruits = new Set([\"Banana\", \"Orange\", \"Apple\", \"Mango\"]);\n",
    "alert([...fruits.values()].join(\", \")); // Aquí, [...fruits.values()] convierte el iterador en un array antes de usar join()\n",
    "// y el join() une los elementos del array con una coma.\n",
    "// Output: Banana, Orange, Apple, Mango"
   ]
  },
  {
   "cell_type": "markdown",
   "metadata": {},
   "source": [
    "#### `entries()`\n",
    "\n",
    "Devuelve un objeto iterador que contiene los pares clave/valor de cada elemento en el conjunto\n",
    "\n",
    "Sintaxis:\n",
    "\n",
    "```javascript\n",
    "set.entries()\n",
    "```\n",
    "\n",
    "Ejemplo:"
   ]
  },
  {
   "cell_type": "code",
   "execution_count": null,
   "metadata": {
    "vscode": {
     "languageId": "javascript"
    }
   },
   "outputs": [],
   "source": [
    "%%javascript\n",
    "const fruits = new Set([\"Banana\", \"Orange\", \"Apple\", \"Mango\"]);\n",
    "alert([...fruits.entries()].join(\", \"));// Aquí, [...fruits.entries()] convierte el iterador en un array antes de usar join()\n",
    "// y el join() une los elementos del array con una coma.\n",
    "// Output: Banana, Banana, Orange, Orange, Apple, Apple, Mango, Mango"
   ]
  },
  {
   "cell_type": "markdown",
   "metadata": {},
   "source": [
    "## Maps en JavaScript\n",
    "\n",
    "Los mapas en JavaScript son una colección de pares clave/valor. Los mapas se utilizan para almacenar múltiples valores en una sola variable. Basicamente son diccionarios\n",
    "\n",
    "```javascript\n",
    "const fruits = new Map([\n",
    "  [\"Banana\", 1],\n",
    "  [\"Orange\", 2],\n",
    "  [\"Apple\", 3],\n",
    "  [\"Mango\", 4]\n",
    "]);\n",
    "```\n",
    "\n",
    "### Métodos de los mapas de JavaScript\n",
    "\n",
    "#### `set()`\n",
    "\n",
    "Añade un nuevo elemento al mapa\n",
    "\n",
    "Sintaxis:\n",
    "```javascript\n",
    "map.set(key, value)\n",
    "```\n",
    "\n",
    "Ejemplo:"
   ]
  },
  {
   "cell_type": "code",
   "execution_count": null,
   "metadata": {
    "vscode": {
     "languageId": "javascript"
    }
   },
   "outputs": [],
   "source": [
    "%%javascript\n",
    "const fruits = new Map([\n",
    "    [\"Banana\", 1],\n",
    "    [\"Orange\", 2],\n",
    "    [\"Apple\", 3],\n",
    "    [\"Mango\", 4]\n",
    "]);\n",
    "alert(fruits.set(\"Kiwi\", 5));\n",
    "// Output: Banana, Orange, Apple, Mango, Kiwi"
   ]
  },
  {
   "cell_type": "markdown",
   "metadata": {},
   "source": [
    "#### `get()`\n",
    "\n",
    "Devuelve el valor de un elemento en el mapa\n",
    "\n",
    "Sintaxis:\n",
    "\n",
    "```javascript\n",
    "map.get(key)\n",
    "```\n",
    "\n",
    "Ejemplo:"
   ]
  },
  {
   "cell_type": "code",
   "execution_count": null,
   "metadata": {
    "vscode": {
     "languageId": "javascript"
    }
   },
   "outputs": [],
   "source": [
    "%%javascript\n",
    "const fruits = new Map([\n",
    "    [\"Banana\", 1],\n",
    "    [\"Orange\", 2],\n",
    "    [\"Apple\", 3],\n",
    "    [\"Mango\", 4]\n",
    "]);\n",
    "alert(fruits.get(\"Banana\"));\n",
    "// Output: 1"
   ]
  },
  {
   "cell_type": "markdown",
   "metadata": {},
   "source": [
    "#### `size()`\n",
    "\n",
    "Devuelve el número de elementos en el mapa\n",
    "\n",
    "Sintaxis:\n",
    "\n",
    "```javascript\n",
    "map.size()\n",
    "```\n",
    "\n",
    "Ejemplo:"
   ]
  },
  {
   "cell_type": "code",
   "execution_count": null,
   "metadata": {
    "vscode": {
     "languageId": "javascript"
    }
   },
   "outputs": [],
   "source": [
    "%%javascript\n",
    "const fruits = new Map([\n",
    "    [\"Banana\", 1],\n",
    "    [\"Orange\", 2],\n",
    "    [\"Apple\", 3],\n",
    "    [\"Mango\", 4]\n",
    "]);\n",
    "alert(fruits.size);\n",
    "// Output: 4"
   ]
  },
  {
   "cell_type": "markdown",
   "metadata": {},
   "source": [
    "#### `delete()`\n",
    "\n",
    "Elimina un elemento del mapa\n",
    "\n",
    "Sintaxis:\n",
    "\n",
    "```javascript\n",
    "map.delete(key)\n",
    "```\n",
    "\n",
    "Ejemplo:"
   ]
  },
  {
   "cell_type": "code",
   "execution_count": null,
   "metadata": {
    "vscode": {
     "languageId": "javascript"
    }
   },
   "outputs": [],
   "source": [
    "%%javascript\n",
    "const fruits = new Map([\n",
    "    [\"Banana\", 1],\n",
    "    [\"Orange\", 2],\n",
    "    [\"Apple\", 3],\n",
    "    [\"Mango\", 4]\n",
    "]);\n",
    "alert(fruits.delete(\"Banana\"));\n",
    "// Output: true\n",
    "// La lista ahora es [\"Orange\", \"Apple\", \"Mango\"]"
   ]
  },
  {
   "cell_type": "markdown",
   "metadata": {},
   "source": [
    "#### `has()`\n",
    "\n",
    "Devuelve true si el elemento está en el mapa\n",
    "\n",
    "Sintaxis:\n",
    "\n",
    "```javascript\n",
    "map.has(key)\n",
    "```\n",
    "\n",
    "Ejemplo:"
   ]
  },
  {
   "cell_type": "code",
   "execution_count": null,
   "metadata": {
    "vscode": {
     "languageId": "javascript"
    }
   },
   "outputs": [],
   "source": [
    "%%javascript\n",
    "const fruits = new Map([\n",
    "    [\"Banana\", 1],\n",
    "    [\"Orange\", 2],\n",
    "    [\"Apple\", 3],\n",
    "    [\"Mango\", 4]\n",
    "]);\n",
    "alert(fruits.has(\"Banana\"));\n",
    "// Output: true"
   ]
  },
  {
   "cell_type": "markdown",
   "metadata": {},
   "source": [
    "#### `clear()`\n",
    "\n",
    "Elimina todos los elementos del mapa\n",
    "\n",
    "Sintaxis:\n",
    "\n",
    "```javascript\n",
    "map.clear()\n",
    "```\n",
    "\n",
    "Ejemplo:"
   ]
  },
  {
   "cell_type": "code",
   "execution_count": null,
   "metadata": {
    "vscode": {
     "languageId": "javascript"
    }
   },
   "outputs": [],
   "source": [
    "%%javascript\n",
    "const fruits = new Map([\n",
    "    [\"Banana\", 1],\n",
    "    [\"Orange\", 2],\n",
    "    [\"Apple\", 3],\n",
    "    [\"Mango\", 4]\n",
    "]);\n",
    "alert(fruits.clear());\n",
    "// Output: undefined"
   ]
  },
  {
   "cell_type": "markdown",
   "metadata": {},
   "source": [
    "#### `forEach()`\n",
    "\n",
    "Llama a una función para cada elemento en el mapa\n",
    "\n",
    "Sintaxis:\n",
    "\n",
    "```javascript\n",
    "map.forEach(function(value, key, map), thisValue)\n",
    "```\n",
    "\n",
    "Ejemplo:"
   ]
  },
  {
   "cell_type": "code",
   "execution_count": null,
   "metadata": {
    "vscode": {
     "languageId": "javascript"
    }
   },
   "outputs": [],
   "source": [
    "%%javascript\n",
    "const fruits = new Map([\n",
    "    [\"Banana\", 1],\n",
    "    [\"Orange\", 2],\n",
    "    [\"Apple\", 3],\n",
    "    [\"Mango\", 4]\n",
    "]);\n",
    "fruits.forEach((value, key) => {\n",
    "    result += key + \": \" + value + \", \";\n",
    "});\n",
    "\n",
    "alert(result);\n",
    "// Output: Banana: 1, Orange: 2, Apple: 3, Mango: 4,"
   ]
  },
  {
   "cell_type": "markdown",
   "metadata": {},
   "source": [
    "#### `keys()`\n",
    "\n",
    "Devuelve un objeto iterador que contiene las claves de cada elemento en el mapa\n",
    "\n",
    "Sintaxis:\n",
    "\n",
    "```javascript\n",
    "map.keys()\n",
    "```\n",
    "\n",
    "Ejemplo:"
   ]
  },
  {
   "cell_type": "code",
   "execution_count": 125,
   "metadata": {
    "vscode": {
     "languageId": "javascript"
    }
   },
   "outputs": [
    {
     "data": {
      "application/javascript": "const fruits = new Map([\n    [\"Banana\", 1],\n    [\"Orange\", 2],\n    [\"Apple\", 3],\n    [\"Mango\", 4]\n]);\nalert([...fruits.keys()].join(\", \")); // Aquí, [...fruits.keys()] convierte el iterador en un array antes de usar join()\n// y el join() une los elementos del array con una coma.\n// Output: Banana, Orange, Apple, Mango\n",
      "text/plain": [
       "<IPython.core.display.Javascript object>"
      ]
     },
     "metadata": {},
     "output_type": "display_data"
    }
   ],
   "source": [
    "%%javascript\n",
    "const fruits = new Map([\n",
    "    [\"Banana\", 1],\n",
    "    [\"Orange\", 2],\n",
    "    [\"Apple\", 3],\n",
    "    [\"Mango\", 4]\n",
    "]);\n",
    "alert([...fruits.keys()].join(\", \")); // Aquí, [...fruits.keys()] convierte el iterador en un array antes de usar join()\n",
    "// y el join() une los elementos del array con una coma.\n",
    "// Output: Banana, Orange, Apple, Mango"
   ]
  },
  {
   "cell_type": "markdown",
   "metadata": {},
   "source": [
    "#### `values()`\n",
    "\n",
    "Devuelve un objeto iterador que contiene los valores de cada elemento en el mapa\n",
    "\n",
    "Sintaxis:\n",
    "\n",
    "```javascript\n",
    "map.values()\n",
    "```\n",
    "\n",
    "Ejemplo:"
   ]
  },
  {
   "cell_type": "code",
   "execution_count": null,
   "metadata": {
    "vscode": {
     "languageId": "javascript"
    }
   },
   "outputs": [],
   "source": [
    "%%javascript\n",
    "const fruits = new Map([\n",
    "    [\"Banana\", 1],\n",
    "    [\"Orange\", 2],\n",
    "    [\"Apple\", 3],\n",
    "    [\"Mango\", 4]\n",
    "]);\n",
    "alert([...fruits.values()].join(\", \")); // Aquí, [...fruits.values()] convierte el iterador en un array antes de usar join()\n",
    "// y el join() une los elementos del array con una coma.\n",
    "// Output: 1, 2, 3, 4"
   ]
  },
  {
   "cell_type": "markdown",
   "metadata": {},
   "source": [
    "#### `entries()`\n",
    "\n",
    "Devuelve un objeto iterador que contiene los pares clave/valor de cada elemento en el mapa\n",
    "\n",
    "Sintaxis:\n",
    "\n",
    "```javascript\n",
    "map.entries()\n",
    "```\n",
    "\n",
    "Ejemplo:"
   ]
  },
  {
   "cell_type": "code",
   "execution_count": null,
   "metadata": {
    "vscode": {
     "languageId": "javascript"
    }
   },
   "outputs": [],
   "source": [
    "%%javascript\n",
    "const fruits = new Map([\n",
    "    [\"Banana\", 1],\n",
    "    [\"Orange\", 2],\n",
    "    [\"Apple\", 3],\n",
    "    [\"Mango\", 4]\n",
    "]);\n",
    "alert([...fruits.entries()].join(\", \"));// Aquí, [...fruits.entries()] convierte el iterador en un array antes de usar join()\n",
    "// y el join() une los elementos del array con una coma.\n",
    "// Output: Banana, 1, Orange, 2, Apple, 3, Mango, 4"
   ]
  },
  {
   "cell_type": "markdown",
   "metadata": {},
   "source": [
    "#### `groupby()`\n",
    "\n",
    "Agrupa los elementos de un objeto por una clave especificada y devuelve un nuevo objeto con los elementos agrupados\n",
    "\n",
    "Sintaxis:\n",
    "\n",
    "```javascript\n",
    "map.groupBy(key)\n",
    "```\n",
    "\n",
    "Ejemplo:"
   ]
  },
  {
   "cell_type": "code",
   "execution_count": null,
   "metadata": {
    "vscode": {
     "languageId": "javascript"
    }
   },
   "outputs": [
    {
     "data": {
      "application/javascript": "const fruits = new Map([\n    [\"Banana\", 1],\n    [\"Orange\", 2],\n    [\"Apple\", 3],\n    [\"Mango\", 4]\n]);\nalert(fruits.groupBy(x => x[1]));\n",
      "text/plain": [
       "<IPython.core.display.Javascript object>"
      ]
     },
     "metadata": {},
     "output_type": "display_data"
    }
   ],
   "source": [
    "%%javascript\n",
    "const fruits = new Map([\n",
    "    [\"Banana\", 1],\n",
    "    [\"Orange\", 2],\n",
    "    [\"Apple\", 3],\n",
    "    [\"Mango\", 4]\n",
    "]);\n",
    "alert(fruits.groupBy(x => x[1]));\n",
    "// Output: {1: [\"Banana\"], 2: [\"Orange\"], 3: [\"Apple\"], 4: [\"Mango\"]}\n",
    "// Agrupa los elementos del Map por el segundo elemento de cada par clave-valor."
   ]
  },
  {
   "cell_type": "markdown",
   "metadata": {},
   "source": [
    "### Comparación entre Objeto y Mapa en JavaScript\n",
    "\n",
    "| Característica                             | Objeto                                           | Mapa                                             |\n",
    "|--------------------------------------------|--------------------------------------------------|--------------------------------------------------|\n",
    "| Iterabilidad                               | No se puede iterar directamente                  | Iterable directamente                            |\n",
    "| Propiedad de tamaño                        | No tiene una propiedad de tamaño                 | Tiene una propiedad de tamaño                    |\n",
    "| Tipo de claves                             | Las claves deben ser cadenas (o símbolos)        | Las claves pueden ser de cualquier tipo de datos |\n",
    "| Orden de las claves                        | Las llaves no están bien ordenadas               | Las claves se ordenan por inserción              |\n",
    "| Claves predeterminadas                     | Tiene claves predeterminadas                     | No tiene claves predeterminadas                  |\n"
   ]
  },
  {
   "cell_type": "markdown",
   "metadata": {},
   "source": [
    "# Condicionales en JavaScript\n",
    "\n",
    "## JavaScript if...else\n",
    "\n",
    "- El condicional if...else se utiliza para tomar decisiones basadas en diferentes condiciones.\n",
    "\n",
    "```javascript\n",
    "if (condition) {\n",
    "  // block of code to be executed if the condition is true\n",
    "} else if (condition) {\n",
    "  // block of code to be executed if the condition is false\n",
    "} else {\n",
    "  // block of code to be executed if the condition is false\n",
    "}\n",
    "```"
   ]
  },
  {
   "cell_type": "code",
   "execution_count": 127,
   "metadata": {
    "vscode": {
     "languageId": "javascript"
    }
   },
   "outputs": [
    {
     "data": {
      "application/javascript": "let x = 2;\nif (x === 2) {\n    alert(\"Hello World!\");\n}else if(x === 3){\n    alert(\"Hello Universe!\");\n}else {\n    alert(\"Hello!\");\n}\n",
      "text/plain": [
       "<IPython.core.display.Javascript object>"
      ]
     },
     "metadata": {},
     "output_type": "display_data"
    }
   ],
   "source": [
    "%%javascript\n",
    "let x = 2;\n",
    "if (x === 2) {\n",
    "    alert(\"Hello World!\");\n",
    "}else if(x === 3){\n",
    "    alert(\"Hello Universe!\");\n",
    "}else {\n",
    "    alert(\"Hello!\");\n",
    "}"
   ]
  },
  {
   "cell_type": "markdown",
   "metadata": {},
   "source": [
    "## JavaScript switch\n",
    "\n",
    "- El condicional switch se utiliza para tomar decisiones basadas en diferentes condiciones.\n",
    "\n",
    "```javascript\n",
    "switch (expression) {\n",
    "  case x:\n",
    "    // code block\n",
    "    break;\n",
    "  case y:\n",
    "    // code block\n",
    "    break;\n",
    "  default:\n",
    "    // code block\n",
    "}\n",
    "```"
   ]
  },
  {
   "cell_type": "code",
   "execution_count": null,
   "metadata": {
    "vscode": {
     "languageId": "javascript"
    }
   },
   "outputs": [],
   "source": [
    "%%javascript\n",
    "let x = 2;\n",
    "switch (x) {\n",
    "    case 1:\n",
    "        alert(\"Hello!\");\n",
    "        break;\n",
    "    case 2:\n",
    "        alert(\"Hello World!\");\n",
    "        break;\n",
    "    case 3:\n",
    "        alert(\"Hello Universe!\");\n",
    "        break;\n",
    "    default:\n",
    "        alert(\"Hello!\");\n",
    "}"
   ]
  },
  {
   "cell_type": "markdown",
   "metadata": {},
   "source": [
    "## JavaScript Operador ternario\n",
    "\n",
    "- El operador ternario se utiliza para tomar decisiones basadas en diferentes condiciones.\n",
    "\n",
    "```javascript\n",
    "(condition) ? value1 : value2\n",
    "//value1 si la condicion es verdadera, value2 si la condicion es falsa\n",
    "```"
   ]
  },
  {
   "cell_type": "code",
   "execution_count": 128,
   "metadata": {
    "vscode": {
     "languageId": "javascript"
    }
   },
   "outputs": [
    {
     "data": {
      "application/javascript": "let x = 2;\n(x === 2) ? alert(\"Hello World!\") : alert(\"Hello!\");\n",
      "text/plain": [
       "<IPython.core.display.Javascript object>"
      ]
     },
     "metadata": {},
     "output_type": "display_data"
    }
   ],
   "source": [
    "%%javascript\n",
    "let x = 2;\n",
    "(x === 2) ? alert(\"Hello World!\") : alert(\"Hello!\");"
   ]
  },
  {
   "cell_type": "markdown",
   "metadata": {},
   "source": [
    "# Loops en JavaScript\n",
    "\n",
    "## JavaScript for\n",
    "\n",
    "- El bucle for se utiliza para repetir una sección de código conocida un número de veces.\n",
    "\n",
    "```javascript\n",
    "for (let i = 0; i < 5; i++) {\n",
    "  // code block to be executed\n",
    "}\n",
    "```\n",
    "\n",
    "## JavaScript for/in\n",
    "\n",
    "- El bucle for/in se utiliza para recorrer las propiedades de un objeto.\n",
    "\n",
    "```javascript\n",
    "const person = {fname:\"John\", lname:\"Doe\", age:25};\n",
    "let text = \"\";\n",
    "for (let x in person) {\n",
    "  text += person[x];\n",
    "}\n",
    "// Output: JohnDoe25\n",
    "```\n",
    "\n",
    "## JavaScript for/of\n",
    "\n",
    "- El bucle for/of se utiliza para recorrer los valores de un objeto iterable.\n",
    "\n",
    "```javascript\n",
    "const fruits = [\"Apple\", \"Banana\", \"Orange\"];\n",
    "let text = \"\";\n",
    "for (let x of fruits) {\n",
    "  text += x;\n",
    "}\n",
    "// Output: AppleBananaOrange\n",
    "```\n",
    "\n",
    "## JavaScript while\n",
    "\n",
    "- El bucle while se utiliza para repetir una sección de código mientras se cumple una condición.\n",
    "\n",
    "```javascript\n",
    "while (condition) {\n",
    "  // code block to be executed\n",
    "}\n",
    "```\n",
    "\n",
    "## JavaScript do/while\n",
    "\n",
    "- El bucle do/while también se utiliza para repetir una sección de código mientras se cumple una condición.\n",
    "\n",
    "```javascript\n",
    "do {\n",
    "  // code block to be executed\n",
    "}\n",
    "while (condition);\n",
    "```"
   ]
  },
  {
   "cell_type": "markdown",
   "metadata": {},
   "source": [
    "# Funciones en Javascript\n",
    "\n",
    "Ejemplo de sintaxis\n",
    "\n",
    "```javascript\n",
    "function name(parameter1, parameter2, parameter3) {\n",
    "  // code to be executed\n",
    "}\n",
    "```\n",
    "\n",
    "La funcion sera ejecutada cuando sea llamada/invocada \n",
    "\n",
    "```javascript\n",
    "value.name(parameter1, parameter2, parameter3);\n",
    "```"
   ]
  },
  {
   "cell_type": "code",
   "execution_count": null,
   "metadata": {
    "vscode": {
     "languageId": "javascript"
    }
   },
   "outputs": [],
   "source": [
    "%%javascript\n",
    "function toCelsius(fahrenheit) {\n",
    "  return (5/9) * (fahrenheit-32);\n",
    "}\n",
    "\n",
    "let value = toCelsius(77);\n",
    "window.alert(value);"
   ]
  },
  {
   "cell_type": "markdown",
   "metadata": {},
   "source": [
    "## Caracteristicas utiles de las funciones\n",
    "\n",
    "### Funcion autoinvocada\n",
    "\n",
    "- Una función autoinvocada se ejecuta inmediatamente (desde el navegador) y solo una vez.\n",
    "\n",
    "```javascript\n",
    "(function () {\n",
    "  // code to be executed\n",
    "})();\n",
    "```"
   ]
  },
  {
   "cell_type": "markdown",
   "metadata": {},
   "source": [
    "### Parametro de reposo\n",
    "\n",
    "El parámetro rest (...) permite a una función tratar un número indefinido de argumentos como una matriz:\n",
    "\n",
    "```javascript\n",
    "function myFunction(...args) {\n",
    "  // code to be executed\n",
    "}\n",
    "```"
   ]
  },
  {
   "cell_type": "markdown",
   "metadata": {},
   "source": [
    "### El objeto arguments\n",
    "\n",
    "El objeto arguments es una matriz que contiene todos los argumentos pasados a una función.\n",
    "\n",
    "```javascript\n",
    "function myFunction(a, b) {\n",
    "  return arguments.length;\n",
    "}\n",
    "// Output: 2\n",
    "```"
   ]
  },
  {
   "cell_type": "markdown",
   "metadata": {},
   "source": [
    "## call(), apply() y bind()\n",
    "\n",
    "### `call()`\n",
    "\n",
    "El método call() se utiliza para llamar a una función con un objeto dado como primer argumento.\n",
    "\n",
    "```javascript\n",
    "const person = {\n",
    "  fullName: function() {\n",
    "    return this.firstName + \" \" + this.lastName;\n",
    "  }\n",
    "}\n",
    "const person1 = {\n",
    "  firstName:\"John\",\n",
    "  lastName: \"Doe\"\n",
    "}\n",
    "person.fullName.call(person1);\n",
    "// Output: John Doe\n",
    "```"
   ]
  },
  {
   "cell_type": "markdown",
   "metadata": {},
   "source": [
    "### `apply()`\n",
    "\n",
    "El método apply() es lo mismo que call() pero los argumentos se pasan como una matriz.\n",
    "\n",
    "```javascript\n",
    "const person = {\n",
    "  fullName: function(city, country) {\n",
    "    return this.firstName + \" \" + this.lastName + \",\" + city + \",\" + country;\n",
    "  }\n",
    "}\n",
    "const person1 = {\n",
    "  firstName:\"John\",\n",
    "  lastName: \"Doe\"\n",
    "}\n",
    "person.fullName.apply(person1, [\"Oslo\", \"Norway\"]);\n",
    "// Output: John Doe,Oslo,Norway\n",
    "```"
   ]
  },
  {
   "cell_type": "markdown",
   "metadata": {},
   "source": [
    "### `bind()`\n",
    "\n",
    "Con el método, un objeto puede tomar prestado un método de otro objeto.\n",
    "\n",
    "```javascript\n",
    "const person = {\n",
    "  fullName: function() {\n",
    "    return this.firstName + \" \" + this.lastName;\n",
    "  }\n",
    "}\n",
    "const person1 = {\n",
    "  firstName:\"John\",\n",
    "  lastName: \"Doe\"\n",
    "}\n",
    "const x = person.fullName.bind(person1);\n",
    "x();\n",
    "// Output: John Doe\n",
    "```"
   ]
  },
  {
   "cell_type": "markdown",
   "metadata": {},
   "source": [
    "## Callbacks en JavaScript\n",
    "\n",
    "Un callback es una función que se pasa como argumento a otra función.\n",
    "\n",
    "```javascript\n",
    "function myDisplayer(some) {\n",
    "  document.getElementById(\"demo\").innerHTML = some;\n",
    "}\n",
    "function myCalculator(num1, num2, myCallback) {\n",
    "  let sum = num1 + num2;\n",
    "  myCallback(sum);\n",
    "}\n",
    "myCalculator(5, 5, myDisplayer);\n",
    "```"
   ]
  },
  {
   "cell_type": "markdown",
   "metadata": {},
   "source": [
    "## Funciones asincronas en JavaScript\n",
    "\n",
    "- Las funciones asincrónicas se utilizan para realizar tareas asincrónicas en JavaScript.\n",
    "\n",
    "Ejemplo con setTimeout\n",
    "\n",
    "```javascript\n",
    "setTimeout(function() { myFunction(\"I love You !!!\"); }, 3000);\n",
    "\n",
    "function myFunction(value) {\n",
    "  document.getElementById(\"demo\").innerHTML = value;\n",
    "}\n",
    "```\n",
    "\n",
    "Ejemplo con setInterval\n",
    "\n",
    "```javascript\n",
    "setInterval(myFunction, 1000);\n",
    "\n",
    "function myFunction() {\n",
    "  let d = new Date();\n",
    "  document.getElementById(\"demo\").innerHTML=\n",
    "  d.getHours() + \":\" +\n",
    "  d.getMinutes() + \":\" +\n",
    "  d.getSeconds();\n",
    "}\n",
    "```\n",
    "\n",
    "BRO LITERLMENTE HIZO UN RELOJ SUPER IZI"
   ]
  },
  {
   "cell_type": "markdown",
   "metadata": {},
   "source": [
    "### Promises en JavaScript\n",
    "\n",
    "- Las promesas se utilizan para realizar tareas asincrónicas en JavaScript.\n",
    "\n",
    "```javascript\n",
    "let myPromise = new Promise(function(myResolve, myReject) {\n",
    "  let x = 1;\n",
    "  // cuando se resuelva la promesa\n",
    "  if (x == 0) {\n",
    "    myResolve(\"OK\");\n",
    "  } else {\n",
    "    myReject(\"Error\");\n",
    "  }\n",
    "});\n",
    "myPromise.then(\n",
    "  function(value) {myDisplayer(value);},\n",
    "  function(error) {myDisplayer(error);}\n",
    ");\n",
    "// Output: Error\n",
    "```"
   ]
  },
  {
   "cell_type": "markdown",
   "metadata": {},
   "source": [
    "### Async/Await en JavaScript\n",
    "\n",
    "- Las funciones async/await se utilizan para realizar tareas asincrónicas en JavaScript.\n",
    "\n",
    "```javascript\n",
    "async function myFunction() {\n",
    "  let myPromise = new Promise(function(myResolve, myReject) {\n",
    "    let x = 0;\n",
    "    // cuando se resuelva la promesa\n",
    "    if (x == 0) {\n",
    "      myResolve(\"OK\");\n",
    "    } else {\n",
    "      myReject(\"Error\");\n",
    "    }\n",
    "  });\n",
    "  try {\n",
    "    let value = await myPromise;\n",
    "    myDisplayer(value);\n",
    "  }\n",
    "  catch (error) {\n",
    "    myDisplayer(error);\n",
    "  }\n",
    "}\n",
    "myFunction();\n",
    "// Output: OK\n",
    "```\n",
    "\n",
    "NO ENTIENDO ASYNC Y WAIT"
   ]
  },
  {
   "cell_type": "markdown",
   "metadata": {},
   "source": [
    "# Objetos en Javascript\n",
    "\n",
    "Ejemplo de objeto en javascript con argumentos al momento de crear el objeto \n",
    "\n",
    "```javascript\n",
    "// Create an Object\n",
    "const person = {\n",
    "  firstName: \"John\",\n",
    "  lastName: \"Doe\",\n",
    "  age: 50,\n",
    "  eyeColor: \"blue\"\n",
    "};\n",
    "```\n",
    "\n",
    "Ejemplo de un objeto en javascript sin argumentos al momento de crear el objeto\n",
    "\n",
    "```javascript\n",
    "// Create an Object\n",
    "const person = {};\n",
    "\n",
    "// Add Properties\n",
    "person.firstName = \"John\";\n",
    "person.lastName = \"Doe\";\n",
    "person.age = 50;\n",
    "person.eyeColor = \"blue\";\n",
    "```\n",
    "\n",
    "Ejemplo de un objeto con la palabra clave `new Object()`\n",
    "\n",
    "```javascript\n",
    "// Create an Object\n",
    "const person = new Object();\n",
    "\n",
    "// Add Properties\n",
    "person.firstName = \"John\";\n",
    "person.lastName = \"Doe\";\n",
    "person.age = 50;\n",
    "person.eyeColor = \"blue\";\n",
    "```"
   ]
  },
  {
   "cell_type": "markdown",
   "metadata": {},
   "source": [
    "## Acceso a las propiedades de los objetos\n",
    "\n",
    "Puede acceder a las propiedades de los objetos de dos maneras:\n",
    "\n",
    "1. objectName.propertyName\n",
    "2. objectName[\"propertyName\"]\n",
    "\n",
    "Corto ejemplo de metodos en javascript usando this\n",
    "\n",
    "```javascript\n",
    "const person = {\n",
    "  firstName: \"John\",\n",
    "  lastName : \"Doe\",\n",
    "  id       : 5566,\n",
    "  fullName : function() {\n",
    "    return this.firstName + \" \" + this.lastName;\n",
    "  }\n",
    "};\n",
    "```"
   ]
  },
  {
   "cell_type": "markdown",
   "metadata": {},
   "source": [
    "## Adicionar y eliminar propiedades de un objeto\n",
    "\n",
    "Puede agregar nuevas propiedades a un objeto existente simplemente asignándole un valor:\n",
    "\n",
    "```javascript\n",
    "// Add a Property\n",
    "person.nationality = \"English\";\n",
    "```\n",
    "\n",
    "La palabra clave elimina una propiedad de un objeto:delete\n",
    "\n",
    "```javascript\n",
    "// Delete a Property\n",
    "const person = {\n",
    "  firstName: \"John\",\n",
    "  lastName: \"Doe\",\n",
    "  age: 50,\n",
    "  eyeColor: \"blue\"\n",
    "};\n",
    "\n",
    "delete person.age;\n",
    "delete person[\"eyeColor\"];\n",
    "```"
   ]
  },
  {
   "cell_type": "markdown",
   "metadata": {},
   "source": [
    "## Objetos anidaddos en javascript\n",
    "\n",
    "```javascript\n",
    "myObj = {\n",
    "  name:\"John\",\n",
    "  age:30,\n",
    "  myCars: {\n",
    "    car1:\"Ford\",\n",
    "    car2:\"BMW\",\n",
    "    car3:\"Fiat\"\n",
    "  }\n",
    "};\n",
    "```"
   ]
  },
  {
   "cell_type": "markdown",
   "metadata": {},
   "source": [
    "## Adcionar metodos a un objeto\n",
    "\n",
    "```javascript\n",
    "person.name = function () {\n",
    "  return this.firstName + \" \" + this.lastName;\n",
    "};\n",
    "```"
   ]
  },
  {
   "cell_type": "markdown",
   "metadata": {},
   "source": [
    "## Metodos utiles por defecto\n",
    "\n",
    "### Assign(), create(), fromEntries() y groupBy()\n",
    "\n",
    "#### `Object.assign()`\n",
    "\n",
    "Object.assign() se utiliza para copiar los valores de todas las propiedades enumerables de uno o más objetos fuente a un objeto destino.\n",
    "\n",
    "```javascript\n",
    "// Create an Object\n",
    "const person = {\n",
    "  name: \"John\",\n",
    "  age: 30,\n",
    "  city: \"New York\"\n",
    "};\n",
    "Object.assign(person, {name: \"Jane\", age: 25});\n",
    "```"
   ]
  },
  {
   "cell_type": "markdown",
   "metadata": {},
   "source": [
    "#### `Object.create()`\n",
    "\n",
    "Object.create() se utiliza para crear un nuevo objeto con un prototipo existente.\n",
    "\n",
    "```javascript\n",
    "// Create an Object\n",
    "const person = {\n",
    "  name: \"John\",\n",
    "  age: 30,\n",
    "  city: \"New York\"\n",
    "};\n",
    "Object.create(person);\n",
    "```"
   ]
  },
  {
   "cell_type": "markdown",
   "metadata": {},
   "source": [
    "#### `Object.fromEntries()`\n",
    "\n",
    "Object.fromEntries() se utiliza para crear un objeto a partir de una matriz de pares clave/valor.\n",
    "\n",
    "```javascript\n",
    "// Create an Array\n",
    "const fruits = [[\"Bananas\", 300], [\"Oranges\", 200], [\"Apples\", 500]];\n",
    "Object.fromEntries(fruits);\n",
    "```"
   ]
  },
  {
   "cell_type": "markdown",
   "metadata": {},
   "source": [
    "#### `Object.groupBy()`\n",
    "\n",
    "Object.groupBy() se utiliza para agrupar los elementos de un objeto por una clave especificada y devolver un nuevo objeto con los elementos agrupados.\n",
    "\n",
    "```javascript\n",
    "// Create an Object\n",
    "const fruits = [\n",
    "  {name: \"Bananas\", quantity: 300},\n",
    "  {name: \"Oranges\", quantity: 200},\n",
    "  {name: \"Apples\", quantity: 500}\n",
    "];\n",
    "Object.groupBy(fruits, \"name\");\n",
    "```"
   ]
  },
  {
   "cell_type": "markdown",
   "metadata": {},
   "source": [
    "### Object.values() y Object.entries()\n",
    "\n",
    "#### `Object.values()`\n",
    "\n",
    "Object.values() Crea una Array a partir de los valores de la propiedad:\n",
    "\n",
    "```javascript\n",
    "// Create an Object\n",
    "const person = {\n",
    "  name: \"John\",\n",
    "  age: 30,\n",
    "  city: \"New York\"\n",
    "};\n",
    "\n",
    "// Create an Array\n",
    "const myArray = Object.values(person);\n",
    "\n",
    "// Output: John,30,New York\n",
    "```"
   ]
  },
  {
   "cell_type": "markdown",
   "metadata": {},
   "source": [
    "#### `Object.entries()`\n",
    "\n",
    "Object.entries() simplifica el uso de objetos en bucles:\n",
    "\n",
    "```javascript\n",
    "//sin Object.entries()\n",
    "\n",
    "const fruits = {Bananas:300, Oranges:200, Apples:500};\n",
    "\n",
    "let text = \"\";\n",
    "for (let x in fruits) {\n",
    "  text += x + \": \" + fruits[x] + \"<br>\";\n",
    "}\n",
    "\n",
    "// OUTPUT: Bananas: 300, Oranges: 200, Apples: 500\n",
    "```"
   ]
  },
  {
   "cell_type": "markdown",
   "metadata": {},
   "source": [
    "## Constructores de JavaScript integrados\n",
    "\n",
    "```javascript\n",
    "new Object()   // A new Object object also written as {}\n",
    "new Array()    // A new Array object also written as []\n",
    "new Map()      // A new Map object\n",
    "new Set()      // A new Set object\n",
    "new Date()     // A new Date object\n",
    "new RegExp()   // A new RegExp object also written as /()/\n",
    "new Function() // A new Function object also written as function(){}\n",
    "```"
   ]
  },
  {
   "cell_type": "markdown",
   "metadata": {},
   "source": [
    "## Métodos de administración y protección de propiedades de objetos\n",
    "\n",
    "### Métodos de administración de propiedades\n",
    "\n",
    "- Adding or changing an object property\n",
    "```javascript\n",
    "Object.defineProperty(object, property, descriptor)\n",
    "```\n",
    "\n",
    "- Adding or changing object properties\n",
    "```javascript\t\n",
    "Object.defineProperties(object, descriptors)\n",
    "```\n",
    "\n",
    "- Accessing a Property\n",
    "```javascript\t\n",
    "Object.getOwnPropertyDescriptor(object, property)\n",
    "```\n",
    "\n",
    "- Accessing Properties\n",
    "```javascript\n",
    "Object.getOwnPropertyDescriptors(object)\n",
    "```\n",
    "\n",
    "- Returns all properties as an array\n",
    "```javascript\n",
    "Object.getOwnPropertyNames(object)\n",
    "```\n",
    "\n",
    "- Accessing the prototype\n",
    "```javascript\n",
    "Object.getPrototypeOf(object)\n",
    "```\n",
    "\n",
    "### Métodos de protección de objetos\n",
    "\n",
    "- Prevents re-assignment\n",
    "```javascript\n",
    "const car = {type:\"Fiat\", model:\"500\", color:\"white\"};\n",
    "```\n",
    "\n",
    "- Prevents adding object properties\n",
    "```javascript\n",
    "Object.preventExtensions(object)\n",
    "```\n",
    "\n",
    "- Returns true if properties can be added to an object\n",
    "```javascript\t\n",
    "Object.isExtensible(object)\n",
    "```\n",
    "\n",
    "- Prevents adding and deleting object properties\n",
    "```javascript\t\n",
    "Object.seal(object)\n",
    "```\n",
    "\n",
    "- Returns true if object is sealed\n",
    "```javascript\n",
    "Object.isSealed(object)\n",
    "```\n",
    "\n",
    "- Prevents any changes to an object\n",
    "```javascript\t\n",
    "Object.freeze(object)\n",
    "```\n",
    "\n",
    "- Returns true if object is frozen\n",
    "```javascript\t\n",
    "Object.isFrozen(object)\n",
    "```"
   ]
  },
  {
   "cell_type": "markdown",
   "metadata": {},
   "source": [
    "# Clases en JavaScript\n",
    "\n",
    "Ejemplo de una clase en javascript\n",
    "\n",
    "```javascript\n",
    "class Car {\n",
    "  constructor(brand) {\n",
    "    this.carname = brand;\n",
    "  }\n",
    "}\n",
    "```"
   ]
  },
  {
   "cell_type": "markdown",
   "metadata": {},
   "source": [
    "## Constructores de clases en JavaScript\n",
    "\n",
    "El método constructor es un método especial para crear e inicializar un objeto creado con una clase. Solo puede haber un método especial con el nombre \"constructor\" en una clase. Un error se producirá si la clase contiene más de un método constructor.\n",
    "\n",
    "```javascript\n",
    "class Car {\n",
    "  constructor(name, year) {\n",
    "    this.name = name;\n",
    "    this.year = year;\n",
    "  }\n",
    "  age() {\n",
    "    const date = new Date();\n",
    "    return date.getFullYear() - this.year;\n",
    "  }\n",
    "}\n",
    "```"
   ]
  },
  {
   "cell_type": "markdown",
   "metadata": {},
   "source": [
    "## Herencia de clases en JavaScript\n",
    "\n",
    "```javascript\n",
    "class Car {\n",
    "  constructor(brand) {\n",
    "    this.carname = brand;\n",
    "  }\n",
    "  present() {\n",
    "    return 'I have a ' + this.carname;\n",
    "  }\n",
    "}\n",
    "\n",
    "class Model extends Car {\n",
    "  constructor(brand, mod) {\n",
    "    super(brand);\n",
    "    this.model = mod;\n",
    "  }\n",
    "  show() {\n",
    "    return this.present() + ', it is a ' + this.model;\n",
    "  }\n",
    "}\n",
    "```"
   ]
  },
  {
   "cell_type": "markdown",
   "metadata": {},
   "source": [
    "## get y set en JavaScript\n",
    "\n",
    "```javascript\n",
    "class Car {\n",
    "  constructor(brand) {\n",
    "    this.carname = brand;\n",
    "  }\n",
    "  get cnam() {\n",
    "    return this.carname;\n",
    "  }\n",
    "  set cnam(x) {\n",
    "    this.carname = x;\n",
    "  }\n",
    "}\n",
    "```"
   ]
  },
  {
   "cell_type": "markdown",
   "metadata": {},
   "source": [
    "El nombre del método getter/setter no puede ser el mismo que el nombre del método propiedad, en este caso .carname\n",
    "\n",
    "Muchos programadores usan un carácter de subrayado antes del nombre de la propiedad para separar el getter/setter de la propiedad real:_\n",
    "\n",
    "```javascript\t\n",
    "class Car {\n",
    "  constructor(brand) {\n",
    "    this._carname = brand;\n",
    "  }\n",
    "  get carname() {\n",
    "    return this._carname;\n",
    "  }\n",
    "  set carname(x) {\n",
    "    this._carname = x;\n",
    "  }\n",
    "}\n",
    "```"
   ]
  },
  {
   "cell_type": "markdown",
   "metadata": {},
   "source": [
    "## static\n",
    "\n",
    "El método estático se llama en la clase en lugar de en la instancia de la clase.\n",
    "No se pueden llamar a métodos estáticos en instancias de la clase (objetos).\n",
    "\n",
    "```javascript\n",
    "class Car {\n",
    "  constructor(brand) {\n",
    "    this.carname = brand;\n",
    "  }\n",
    "  static hello() {\n",
    "    return \"Hello!!\";\n",
    "  }\n",
    "}\n",
    "```"
   ]
  },
  {
   "cell_type": "markdown",
   "metadata": {},
   "source": [
    "# Json en JavaScript\n",
    "\n",
    "Los Json son una forma de almacenar y transmitir datos en formato de texto. Son muy comunes en la programación web\n",
    "Son muy parecidos a los objetos en javascript\n",
    "\n",
    "Ejemlo de un json en javascript\n",
    "\n",
    "```javascript\n",
    "{\n",
    "  \"name\": \"John\",\n",
    "  \"age\": 30,\n",
    "  \"city\": \"New York\"\n",
    "}\n",
    "```\n",
    "\n",
    "## Metodos de JSON en JavaScript\n",
    "\n",
    "- JSON.parse() Convierte una cadena JSON en un objeto JavaScript\n",
    "- JSON.stringify() Convierte un objeto JavaScript en una cadena JSON"
   ]
  },
  {
   "cell_type": "markdown",
   "metadata": {},
   "source": [
    "# Errores en JavaScript (Try, Catch, Throw)\n",
    "\n",
    "## JavaScript try and catch\n",
    "\n",
    "- La declaración try...catch se utiliza para manejar errores en bloques de código.\n",
    "\n",
    "```javascript\n",
    "try {\n",
    "  // code to be executed\n",
    "}\n",
    "catch(err) {\n",
    "  // code to be executed if an error occurs\n",
    "}\n",
    "```"
   ]
  },
  {
   "cell_type": "markdown",
   "metadata": {},
   "source": [
    "## JavaScript throw\n",
    "\n",
    "- La declaración throw se utiliza para lanzar una excepción (generar un error).\n",
    "\n",
    "```javascript\n",
    "throw \"Too big\";\n",
    "throw 500;\n",
    "```"
   ]
  },
  {
   "cell_type": "markdown",
   "metadata": {},
   "source": [
    "## JavaScript finally\n",
    "\n",
    "- La declaración finally se utiliza para ejecutar el código después de que se haya intentado probar para manejar cualquier excepción.\n",
    "\n",
    "```javascript\n",
    "try {\n",
    "  // code to be executed\n",
    "}\n",
    "catch(err) {\n",
    "  // code to be executed if an error occurs\n",
    "}\n",
    "finally {\n",
    "  // code to be executed regardless of the try / catch result\n",
    "}\n",
    "```"
   ]
  },
  {
   "cell_type": "markdown",
   "metadata": {},
   "source": [
    "## Tipos de errores en JavaScript\n",
    "\n",
    "- EvalError: Se produce un error cuando se llama al constructor Eval() como una función.\n",
    "- RangeError: Se produce un error cuando un número no está en un rango permitido.\n",
    "- ReferenceError: Se produce un error cuando se hace referencia a una variable inexistente.\n",
    "- SyntaxError: Se produce un error cuando se produce un error de sintaxis en JavaScript.\n",
    "- TypeError: Se produce un error cuando se espera un tipo de datos diferente.\n",
    "- URIError: Se produce un error cuando se utiliza un carácter no permitido en una función URI."
   ]
  },
  {
   "cell_type": "markdown",
   "metadata": {},
   "source": []
  },
  {
   "cell_type": "markdown",
   "metadata": {},
   "source": [
    "# Date en JavaScript\n",
    "\n",
    "- new Date() crea un nuevo objeto de fecha con la fecha y hora actuales\n",
    "- new Date(date string) crea un nuevo objeto de fecha a partir de una cadena de fecha\n",
    "\n",
    "- new Date(year,month) crea un nuevo objeto de fecha con el año y el mes especificados\n",
    "- new Date(year,month,day) crea un nuevo objeto de fecha con el año, mes y día especificados\n",
    "- new Date(year,month,day,hours) crea un nuevo objeto de fecha con el año, mes, día y hora especificados\n",
    "- new Date(year,month,day,hours,minutes) crea un nuevo objeto de fecha con el año, mes, día, hora y minutos especificados\n",
    "- new Date(year,month,day,hours,minutes,seconds) crea un nuevo objeto de fecha con el año, mes, día, hora, minutos y segundos especificados\n",
    "- new Date(year,month,day,hours,minutes,seconds,ms) crea un nuevo objeto de fecha con el año, mes, día, hora, minutos, segundos y milisegundos especificados\n",
    "\n",
    "- new Date(milliseconds) crea un nuevo objeto de fecha con el número de milisegundos desde el 1 de enero de 1970\n",
    "\n",
    "## Metodos de Date\n",
    "\n",
    "- toDateString() Convierte la parte de la fecha de un objeto Date en una cadena legible (eje: \"Wed Dec 09 2020\")\n",
    "- toUTCString() Convierte una fecha en una cadena de fecha y hora UTC (eje: \"Wed, 09 Dec 2020 00:00:00 GMT\")\n",
    "- toISOString() Devuelve la fecha como una cadena en formato ISO (eje: \"2020-12-09T00:00:00.000Z\")\n",
    "- Date.parse()/getNow()/Date.now Analiza una cadena de fecha y devuelve el número de milisegundos desde el 1 de enero de 1970\n",
    "\n",
    "\n",
    "| Método               | Descripción                                      |\n",
    "|----------------------|--------------------------------------------------|\n",
    "| `getFullYear()`      | Obtiene el año como un número de cuatro dígitos (yyyy) |\n",
    "| `getMonth()`         | Obtiene el mes como un número (0-11)             |\n",
    "| `getDate()`          | Obtiene el día como un número (1-31)             |\n",
    "| `getDay()`           | Obtiene el día de la semana como un número (0-6) |\n",
    "| `getHours()`         | Obtiene la hora (0-23)                           |\n",
    "| `getMinutes()`       | Obtiene el minuto (0-59)                         |\n",
    "| `getSeconds()`       | Obtiene el segundo (0-59)                        |\n",
    "| `getMilliseconds()`  | Obtiene el milisegundo (0-999)                   |\n",
    "| `getTime()`          | Obtiene el tiempo (milisegundos desde el 1 de enero de 1970) |\n",
    "| `getTimezoneOffset()`| Obtiene la diferencia de tiempo entre UTC y la hora local, en minutos |\n",
    "\n",
    "## Sey métodos de fecha en JavaScript\n",
    "\n",
    "Los métodos Set Date se utilizan para establecer una parte de una fecha:\n",
    "\n",
    "| Método               | Descripción                                            |\n",
    "|----------------------|--------------------------------------------------------|\n",
    "| `setDate()`          | Establece el día como un número (1-31)                 |\n",
    "| `setFullYear()`      | Establece el año (opcionalmente mes y día)             |\n",
    "| `setHours()`         | Establece la hora (0-23)                               |\n",
    "| `setMilliseconds()`  | Establece los milisegundos (0-999)                     |\n",
    "| `setMinutes()`       | Establece los minutos (0-59)                           |\n",
    "| `setMonth()`         | Establece el mes (0-11)                                |\n",
    "| `setSeconds()`       | Establece los segundos (0-59)                          |\n",
    "| `setTime()`          | Establece el tiempo (milisegundos desde el 1 de enero de 1970) |"
   ]
  },
  {
   "cell_type": "markdown",
   "metadata": {},
   "source": [
    "# Math JavaScript\n",
    "\n",
    "## Constantes Matemáticas en JavaScript\n",
    "\n",
    "| Constante     | Descripción                                  |\n",
    "|---------------|----------------------------------------------|\n",
    "| `Math.E`      | Devuelve el número de Euler                  |\n",
    "| `Math.PI`     | Devuelve PI                                  |\n",
    "| `Math.SQRT2`  | Devuelve la raíz cuadrada de 2               |\n",
    "| `Math.SQRT1_2`| Devuelve la raíz cuadrada de 1/2             |\n",
    "| `Math.LN2`    | Devuelve el logaritmo natural de 2           |\n",
    "| `Math.LN10`   | Devuelve el logaritmo natural de 10          |\n",
    "| `Math.LOG2E`  | Devuelve el logaritmo en base 2 de E         |\n",
    "| `Math.LOG10E` | Devuelve el logaritmo en base 10 de E        |\n",
    "\n",
    "## Redondeo de Números a Enteros en JavaScript\n",
    "\n",
    "Hay 4 métodos comunes para redondear un número a un entero:\n",
    "\n",
    "| Método          | Descripción                                    |\n",
    "|-----------------|------------------------------------------------|\n",
    "| `Math.round(x)` | Devuelve `x` redondeado a su entero más cercano|\n",
    "| `Math.ceil(x)`  | Devuelve `x` redondeado hacia arriba al entero más cercano |\n",
    "| `Math.floor(x)` | Devuelve `x` redondeado hacia abajo al entero más cercano |\n",
    "| `Math.trunc(x)` | Devuelve la parte entera de `x`                |\n",
    "\n",
    "## Métodos matemáticos de JavaScript\n",
    "\n",
    "| Método         | Descripción                                                               |\n",
    "|----------------|---------------------------------------------------------------------------|\n",
    "| `abs(x)`       | Devuelve el valor absoluto de `x`                                         |\n",
    "| `acos(x)`      | Devuelve el arcocoseno de `x`, en radianes                                |\n",
    "| `acosh(x)`     | Devuelve el arcocoseno hiperbólico de `x`                                 |\n",
    "| `asin(x)`      | Devuelve el arcoseno de `x`, en radianes                                  |\n",
    "| `asinh(x)`     | Devuelve el arcoseno hiperbólico de `x`                                   |\n",
    "| `atan(x)`      | Devuelve el arcotangente de `x` como un valor numérico entre -PI/2 y PI/2 radianes |\n",
    "| `atan2(y, x)`  | Devuelve el arcotangente del cociente de sus argumentos                   |\n",
    "| `atanh(x)`     | Devuelve el arcotangente hiperbólico de `x`                               |\n",
    "| `cbrt(x)`      | Devuelve la raíz cúbica de `x`                                            |\n",
    "| `ceil(x)`      | Devuelve `x`, redondeado hacia arriba al entero más cercano               |\n",
    "| `cos(x)`       | Devuelve el coseno de `x` (x está en radianes)                            |\n",
    "| `cosh(x)`      | Devuelve el coseno hiperbólico de `x`                                     |\n",
    "| `exp(x)`       | Devuelve el valor de `E` elevado a la potencia de `x`                     |\n",
    "| `floor(x)`     | Devuelve `x`, redondeado hacia abajo al entero más cercano                |\n",
    "| `log(x)`       | Devuelve el logaritmo natural (base E) de `x`                             |\n",
    "| `max(x, y, z, ..., n)` | Devuelve el número con el valor más alto                          |\n",
    "| `min(x, y, z, ..., n)` | Devuelve el número con el valor más bajo                          |\n",
    "| `pow(x, y)`    | Devuelve el valor de `x` elevado a la potencia de `y`                     |\n",
    "| `random()`     | Devuelve un número aleatorio entre 0 y 1                                  |\n",
    "| `round(x)`     | Redondea `x` al entero más cercano                                        |\n",
    "| `sign(x)`      | Devuelve si `x` es negativo, nulo o positivo (-1, 0, 1)                   |\n",
    "| `sin(x)`       | Devuelve el seno de `x` (x está en radianes)                              |\n",
    "| `sinh(x)`      | Devuelve el seno hiperbólico de `x`                                       |\n",
    "| `sqrt(x)`      | Devuelve la raíz cuadrada de `x`                                          |\n",
    "| `tan(x)`       | Devuelve la tangente de un ángulo                                         |\n",
    "| `tanh(x)`      | Devuelve la tangente hiperbólica de un número                             |\n",
    "| `trunc(x)`     | Devuelve la parte entera de un número `x`                                 |\n"
   ]
  },
  {
   "cell_type": "markdown",
   "metadata": {},
   "source": [
    "# Desestructuración en JavaScript\n",
    "\n",
    "La desestructuración es una forma de extraer valores de los objetos y arreglos y asignarlos a variables.\n",
    "\n",
    "## Desestructuración de Objetos en JavaScript\n",
    "\n",
    "```javascript\n",
    "const person = {name: \"John\", age: 30};\n",
    "const {name, age} = person;\n",
    "// Output: John,30\n",
    "```\n",
    "\n",
    "## Desestructuración de Arrays en JavaScript\n",
    "\n",
    "```javascript\n",
    "const fruits = [\"Banana\", \"Orange\", \"Apple\"];\n",
    "const [x, y, z] = fruits;\n",
    "// Output: Banana,Orange,Apple\n",
    "```\n",
    "\n",
    "## Desestructuración de Strings en JavaScript\n",
    "\n",
    "```javascript\n",
    "const [x, y, z] = \"ABC\";\n",
    "// Output: A,B,C\n",
    "```\n",
    "\n",
    "## Desestructuración de Mapas en JavaScript\n",
    "\n",
    "```javascript\n",
    "const fruits = new Map([\n",
    "  [\"Banana\", 1],\n",
    "  [\"Orange\", 2],\n",
    "  [\"Apple\", 3],\n",
    "  [\"Mango\", 4]\n",
    "]);\n",
    "for (const [x, y] of fruits) {\n",
    "  console.log(x, y);\n",
    "}\n",
    "// Output: Banana 1, Orange 2, Apple 3, Mango 4\n",
    "```\n",
    "\n",
    "## Intercambio de valores de variables en JavaScript\n",
    "\n",
    "```javascript\n",
    "let a = 1;\n",
    "let b = 2;\n",
    "[a, b] = [b, a];\n",
    "// Output: a=2, b=1\n",
    "```\n",
    "\n",
    "## Conceptos importantes de la desestructuración\n",
    "\n",
    "- Se pueden omitir valores\n",
    "- Podemos usar valores de posición [index][Object]\n",
    "- rest operator (...) para extraer el resto de los valores"
   ]
  },
  {
   "cell_type": "markdown",
   "metadata": {},
   "source": [
    "# Modulos en JavaScript\n",
    "\n",
    "## Exportar un módulo en JavaScript\n",
    "\n",
    "```javascript\n",
    "export const name = \"John\";\n",
    "export const age = 30;\n",
    "```\n",
    "\n",
    "## Importar un módulo en JavaScript\n",
    "\n",
    "```javascript\n",
    "import { name, age } from \"./module.js\";\n",
    "```"
   ]
  },
  {
   "cell_type": "markdown",
   "metadata": {},
   "source": [
    "# HTML DOM\n",
    "\n",
    "El Modelo de Objetos de Documento (DOM) es una interfaz de programación de aplicaciones (API) para documentos HTML y XML. Define la estructura lógica de los documentos y la forma en que se accede y manipula un documento.\n",
    "\n",
    "## Métodos de selección de elementos en JavaScript\n",
    "\n",
    "- `document.getElementById(id)`: Encuentra un elemento por su id\n",
    "- `document.getElementsByTagName(name)`: Encuentra elementos por su nombre de etiqueta\n",
    "- `document.getElementsByClassName(name)`: Encuentra elementos por su nombre de clase\n",
    "\n",
    "## Métodos de cambiar elementos en JavaScript\n",
    "\n",
    "- `element.innerHTML = new html content`: Cambia el contenido HTML de un elemento\n",
    "- `element.attribute = new value`: Cambia el valor de un atributo de un elemento\n",
    "- `element.style.property = new style`: Cambia el estilo de un elemento\n",
    "- `element.setAttribute(attribute, value)`: Cambia el valor de un atributo de un elemento\n",
    "\n",
    "## Métodos de añadir y eliminar elementos en JavaScript\n",
    "\n",
    "- `document.createElement(element)`: Crea un nuevo elemento HTML\n",
    "- `document.removeChild(element)`: Elimina un elemento\n",
    "- `document.appendChild(element)`: Añade un elemento\n",
    "- `document.replaceChild(new, old)`: Reemplaza un elemento\n",
    "- `document.write(text)`: Escribe en el documento\n",
    "\n",
    "## Adición de controladores de eventos\n",
    "\n",
    "- document.getElementById(id).onclick = function(){code} : Agrega un controlador de eventos a un elemento\n",
    "\n",
    "## Busqueda de elementos en JavaScript\n",
    "\n",
    "- `document.anchors`\tReturns all `<a>` elements that have a name attribute\n",
    "- `document.applets`\tDeprecated\n",
    "- `document.baseURI`\tReturns the absolute base URI of the document\n",
    "- `document.body`\tReturns the `<body>` element\n",
    "- `document.cookie`\tReturns the document's cookie\t\n",
    "- `document.doctype`\tReturns the document's doctype\n",
    "- `document.documentElement`\tReturns the `<html>` element\n",
    "- `document.documentMode`\tReturns the mode used by the browser\n",
    "- `document.documentURI`\tReturns the URI of the document\n",
    "- `document.domain`\tReturns the domain name of the document server\n",
    "- `document.domConfig`\tObsolete.\n",
    "- `document.embeds`\tReturns all `<embed>` elements\n",
    "- `document.forms`\tReturns all `<form>` elements\n",
    "- `document.head`\tReturns the `<head>` element\n",
    "- `document.images`\tReturns all `<img>` elements\n",
    "- `document.implementation`\tReturns the DOM implementation\n",
    "- `document.inputEncoding`\tReturns the document's encoding (character set)\n",
    "- `document.lastModified`\tReturns the date and time the document was updated\n",
    "- `document.links`\tReturns all `<area>` and `<a>` elements that have a href attribute\n",
    "- `document.readyState`\tReturns the (loading) status of the document\n",
    "- `document.referrer`\tReturns the URI of the referrer (the linking document)\n",
    "- `document.scripts`\tReturns all `<script>` elements\n",
    "- `document.strictErrorChecking`\tReturns if error checking is enforced\n",
    "- `document.title`\tReturns the `<title>` element\n",
    "- `document.URL`\tReturns the complete URL of the document\n",
    "\n",
    "## Atributos de entrada HTML de validación de restricciones\n",
    "\n",
    "| Atributo   | Descripción                                           |\n",
    "|------------|-------------------------------------------------------|\n",
    "| `disabled` | Especifica que el elemento de entrada debe estar deshabilitado |\n",
    "| `max`      | Especifica el valor máximo de un elemento de entrada  |\n",
    "| `min`      | Especifica el valor mínimo de un elemento de entrada  |\n",
    "| `pattern`  | Especifica el patrón de valor de un elemento de entrada |\n",
    "| `required` | Especifica que el campo de entrada requiere un valor  |\n",
    "| `type`     | Especifica el tipo de un elemento de entrada          |\n",
    "\n",
    "## Pseudo selectores CSS de validación de restricciones\n",
    "\n",
    "| Selector    | Descripción                                                              |\n",
    "|-------------|--------------------------------------------------------------------------|\n",
    "| `:disabled` | Selecciona elementos de entrada con el atributo \"disabled\" especificado  |\n",
    "| `:invalid`  | Selecciona elementos de entrada con valores inválidos                    |\n",
    "| `:optional` | Selecciona elementos de entrada sin el atributo \"required\" especificado  |\n",
    "| `:required` | Selecciona elementos de entrada con el atributo \"required\" especificado  |\n",
    "| `:valid`    | Selecciona elementos de entrada con valores válidos                      |\n",
    "\n"
   ]
  },
  {
   "cell_type": "markdown",
   "metadata": {},
   "source": [
    "## Eventos DOM en JavaScript\n",
    "\n",
    "Los eventos son acciones que se producen en el documento que pueden ser detectadas por el navegador y que pueden ser utilizadas para ejecutar código.\n",
    "\n",
    "Algunos eventos comunes:\n",
    "\n",
    "- `onchange`: Un elemento HTML ha cambiado\n",
    "- `onclick`: El usuario hace clic en un elemento HTML\n",
    "- `onmouseover`: El usuario mueve el ratón sobre un elemento HTML\n",
    "- `onmouseout`: El usuario mueve el ratón fuera de un elemento HTML\n",
    "- `onkeydown`: El usuario presiona una tecla\n",
    "- `onload`: El navegador ha terminado de cargar la página\n",
    "\n",
    "Ejemplo\n",
    "\n",
    "```javascript\n",
    "document.getElementById(\"myBtn\").onclick = function() {myFunction()};\n",
    "```\n",
    "\n",
    "#### AddEventListener en JavaScript\n",
    "\n",
    "El método addEventListener() se utiliza para adjuntar un controlador de eventos a un elemento HTML.\n",
    "\n",
    "```javascript\n",
    "element.addEventListener(event, function, useCapture);\n",
    "```\n",
    "\n",
    "El metodo removeEventListener() se utiliza para eliminar un controlador de eventos que se ha adjuntado previamente con el método addEventListener().\n",
    "\n",
    "### Otros métodos de ventana\n",
    "\n",
    "Algunos otros métodos:\n",
    "\n",
    "- window.open() - Abrir una ventana nueva\n",
    "- window.close() - Cierre la ventana actual\n",
    "- window.moveTo() - Mover la ventana actual\n",
    "- window.resizeTo() - Cambiar el tamaño de la ventana actual\n",
    "\n",
    "### Pantalla de ventana\n",
    "\n",
    "- screen.width - Devuelve la anchura de la pantalla del visitante\n",
    "- screen.height - Devuelve la altura de la pantalla del visitante\n",
    "- screen.availWidth - Devuelve la anchura de la pantalla del visitante, menos las barras de herramientas del sistema\n",
    "- screen.availHeight - Devuelve la altura de la pantalla del visitante, menos las barras de herramientas del sistema\n",
    "- screen.colorDepth - Devuelve el número de bits utilizados para mostrar un color\n",
    "- screen.pixelDepth - Devuelve el número de píxeles en una pantalla\n",
    "\n",
    "### Ubicación de la ventana\n",
    "\n",
    "- window.location.href devuelve el href (URL) de la página actual\n",
    "- window.location.hostname Devuelve el nombre de dominio del proveedor de alojamiento web\n",
    "- window.location.pathname Devuelve la ruta y el nombre de archivo de la página actual\n",
    "- window.location.protocol Devuelve el protocolo web utilizado (http: o https:)\n",
    "- window.location.assign() Carga un nuevo documento\n",
    "\n",
    "### Historial de ventanas\n",
    "\n",
    "- history.back() - Igual que hacer clic en el navegador\n",
    "- history.forward() - Igual que hacer clic hacia adelante en el navegador\n",
    "\n",
    "### Navegador de ventanas\n",
    "\n",
    "- navigator.cookieEnabled\n",
    "- navigator.appCodeName\n",
    "- navigator.platform"
   ]
  },
  {
   "cell_type": "markdown",
   "metadata": {},
   "source": [
    "# Ajax en JavaScript\n",
    "\n",
    "AJAX es una técnica para acceder a servidores web desde una página web. AJAX se utiliza para enviar y recibir datos de un servidor web de forma asíncrona.\n",
    "\n",
    "Siglas de AJAX\n",
    "\n",
    "- Asynchronous: AJAX permite que las solicitudes de página se realicen de forma asíncrona.\n",
    "- JavaScript: AJAX utiliza JavaScript para enviar y recibir datos.\n",
    "- XML: Aunque XML es el nombre, AJAX puede enviar y recibir datos en muchos formatos diferentes, incluidos JSON, HTML y texto sin formato.\n",
    "\n",
    "Que es XML\n",
    "\n",
    "- XML es un lenguaje de marcado que se utiliza para almacenar y transportar datos.\n",
    "\n",
    "Como funciona AJAX:\n",
    "\n",
    "1. Se produce un evento en una página web (se carga la página, se hace clic en un botón)\n",
    "2. JavaScript crea un objeto XMLHttpRequest\n",
    "3. El objeto XMLHttpRequest envía una solicitud a un servidor web\n",
    "4. El servidor procesa la solicitud\n",
    "5. El servidor envía una respuesta a la página web\n",
    "6. La respuesta es leída por JavaScript\n",
    "7. La acción adecuada (como la actualización de la página) es realizada por JavaScript\n",
    "\n",
    "NOTA IMPORTANTE : AJAX no es muy utilizado en la actualidad, en su lugar se utiliza fetch() y axios\n",
    "\n",
    "## XMLHttpRequest (Métodos)\n",
    "\n",
    "| Método                    | Descripción                                                    |\n",
    "|---------------------------|----------------------------------------------------------------|\n",
    "| `new XMLHttpRequest()`    | Crea un nuevo objeto `XMLHttpRequest`                          |\n",
    "| `abort()`                 | Cancela la solicitud actual                                    |\n",
    "| `getAllResponseHeaders()` | Devuelve información de los encabezados                        |\n",
    "| `getResponseHeader()`     | Devuelve información específica de un encabezado               |\n",
    "| `open(method, url, async, user, psw)` | Especifica la solicitud                            |\n",
    "|                           | - `method`: tipo de solicitud `GET` o `POST`                   |\n",
    "|                           | - `url`: ubicación del archivo                                 |\n",
    "|                           | - `async`: `true` (asíncrono) o `false` (síncrono)             |\n",
    "|                           | - `user`: nombre de usuario opcional                           |\n",
    "|                           | - `psw`: contraseña opcional                                   |\n",
    "| `send()`                  | Envía la solicitud al servidor (usado para solicitudes `GET`)  |\n",
    "| `send(string)`            | Envía la solicitud al servidor (usado para solicitudes `POST`) |\n",
    "| `setRequestHeader()`      | Agrega un par etiqueta/valor a los encabezados que se envían   |\n",
    "\n",
    "## Propiedades del objeto XMLHttpRequest\n",
    "\n",
    "| Propiedad             | Descripción                                                                 |\n",
    "|-----------------------|-----------------------------------------------------------------------------|\n",
    "| `onload`              | Define una función que se llamará cuando la solicitud sea recibida (cargada) |\n",
    "| `onreadystatechange`  | Define una función que se llamará cuando la propiedad `readyState` cambie    |\n",
    "| `readyState`          | Contiene el estado del `XMLHttpRequest`.                                    |\n",
    "|                       | - `0`: solicitud no iniciada                                                |\n",
    "|                       | - `1`: conexión con el servidor establecida                                 |\n",
    "|                       | - `2`: solicitud recibida                                                   |\n",
    "|                       | - `3`: procesando solicitud                                                 |\n",
    "|                       | - `4`: solicitud finalizada y respuesta lista                               |\n",
    "| `responseText`        | Devuelve los datos de la respuesta como una cadena                          |\n",
    "| `responseXML`         | Devuelve los datos de la respuesta como datos XML                           |\n",
    "| `status`              | Devuelve el número de estado de una solicitud                               |\n",
    "|                       | - `200`: \"OK\"                                                               |\n",
    "|                       | - `403`: \"Prohibido\"                                                        |\n",
    "|                       | - `404`: \"No encontrado\"                                                    |\n",
    "| `statusText`          | Devuelve el texto del estado (por ejemplo, \"OK\" o \"No encontrado\")          |"
   ]
  },
  {
   "cell_type": "markdown",
   "metadata": {},
   "source": [
    "# Apis en JavaScript\n",
    "\n",
    "## ¿Qué es una API?\n",
    "\n",
    "API significa Interfaz de Programación de Aplicaciones. Una API es un conjunto de definiciones y protocolos que se utilizan para desarrollar e integrar software de aplicaciones. API permite que sus productos y servicios se comuniquen con otros, sin necesidad de saber cómo están implementados.\n",
    "\n",
    "## ¿Qué es una API de JavaScript?\n",
    "\n",
    "Una API de JavaScript es una colección de funciones y métodos que permite la interacción con otros programas o servicios. Las API de JavaScript se utilizan para acceder a servicios web y datos de terceros.\n",
    "\n",
    "## Metodos de DOM en restricciones de validación de formularios\n",
    "\n",
    "| Método         | Descripción                                                               |\n",
    "|----------------|---------------------------------------------------------------------------|\n",
    "| `checkValidity()` | Devuelve `true` si un elemento de formulario es válido, de lo contrario `false` |\n",
    "| `setCustomValidity(message)` | Establece el mensaje de validación personalizado para un elemento de formulario |\n",
    "\n",
    "Ejemplo checkValidity()\n",
    "\n",
    "```javascript\n",
    "// Esto es  html\n",
    "<input id=\"id1\" type=\"number\" min=\"100\" max=\"300\" required>\n",
    "<button onclick=\"myFunction()\">OK</button>\n",
    "\n",
    "<p id=\"demo\"></p>\n",
    "\n",
    "// Esto es javascript\n",
    "function myFunction() {\n",
    "  const inpObj = document.getElementById(\"id1\");\n",
    "  if (!inpObj.checkValidity()) {\n",
    "    document.getElementById(\"demo\").innerHTML = inpObj.validationMessage;\n",
    "  }\n",
    "}\n",
    "```\n",
    "\n",
    "### Propiedades  de DOM en restricciones de validación de formularios\n",
    "\n",
    "| Propiedad      | Descripción                                                               |\n",
    "|----------------|---------------------------------------------------------------------------|\n",
    "| `validity`     | Devuelve un objeto que contiene el estado de validación de un elemento de formulario |\n",
    "| `validationMessage` | Devuelve el mensaje de validación predeterminado de un elemento de formulario |\n",
    "| `willValidate` | Devuelve `true` si un elemento de formulario será validado, de lo contrario `false` |\n",
    "\n",
    "### Propiedades de validez\n",
    "\n",
    "| Propiedad      | Descripción                                                               |\n",
    "|----------------|---------------------------------------------------------------------------|\n",
    "| `customError`  | Devuelve `true` si un elemento de formulario tiene un error personalizado, de lo contrario `false` |\n",
    "| `patternMismatch` | Devuelve `true` si un elemento de formulario no coincide con un patrón especificado, de lo contrario `false` |\n",
    "| `rangeOverflow` | Devuelve `true` si un elemento de formulario excede el valor máximo especificado, de lo contrario `false` |\n",
    "| `rangeUnderflow` | Devuelve `true` si un elemento de formulario está por debajo del valor mínimo especificado, de lo contrario `false` |\n",
    "| `stepMismatch` | Devuelve `true` si un elemento de formulario no cumple con el paso especificado, de lo contrario `false` |\n",
    "| `tooLong` | Devuelve `true` si un elemento de formulario excede la longitud máxima especificada, de lo contrario `false` |\n",
    "| `typeMismatch` | Devuelve `true` si un elemento de formulario no coincide con el tipo especificado, de lo contrario `false` |\n",
    "| `valueMissing` | Devuelve `true` si un elemento de formulario requiere un valor, de lo contrario `false` |\n",
    "| `valid` | Devuelve `true` si un elemento de formulario es válido, de lo contrario `false` |\n",
    "\n",
    "## History, localStorage y sesionstorage en JavaScript\n",
    "  \n",
    "### Propiedades del objeto History\n",
    "\n",
    "| Propiedad      | Descripción                                                               |\n",
    "|----------------|---------------------------------------------------------------------------|\n",
    "| `length`       | Devuelve el número de elementos en la lista de historial del objeto `History` |\n",
    "\n",
    "### Métodos del objeto History\n",
    "\n",
    "| Método         | Descripción                                                               |\n",
    "|----------------|---------------------------------------------------------------------------|\n",
    "| `back()`       | Carga la URL anterior en la lista de historial                           |\n",
    "| `forward()`    | Carga la URL siguiente en la lista de historial                          |\n",
    "| `go(n)`        | Carga una URL específica en la lista de historial                        | \n",
    "\n",
    "### Objeto localStorage\n",
    "\n",
    "El objeto `localStorage` almacena los datos con una duración de vida indefinida. Los datos no tienen fecha de vencimiento y no se eliminarán incluso cuando se cierre el navegador.\n",
    "   \n",
    "#### Métodos de localStorage\n",
    "\n",
    "| Método         | Descripción                                                               |\n",
    "|----------------|---------------------------------------------------------------------------|\n",
    "| `localStorage\n",
    ".setItem(key, value)` | Almacena datos en el objeto `localStorage`                                |\n",
    "| `localStorage\n",
    ".getItem(key)` | Recupera datos del objeto `localStorage`                                  |\n",
    "\n",
    "### Objeto sessionStorage\n",
    "\n",
    "El objeto `sessionStorage` almacena los datos durante una sesión. Los datos se eliminan cuando se cierra la pestaña del navegador.\n",
    "\n",
    "#### Métodos de sessionStorage\n",
    "\n",
    "| Método         | Descripción                                                               |\n",
    "|----------------|---------------------------------------------------------------------------|\n",
    "| `sessionStorage\n",
    ".setItem(key, value)` | Almacena datos en el objeto `sessionStorage`                              |\n",
    "| `sessionStorage\n",
    ".getItem(key)` | Recupera datos del objeto `sessionStorage`                                |\n",
    "\n",
    "##### Propiedades y métodos de los objetos de almacenamiento\n",
    "\n",
    "| Propiedad/Método       | Descripción                                                  |\n",
    "|------------------------|--------------------------------------------------------------|\n",
    "| `key(n)`               | Devuelve el nombre de la enésima clave en el almacenamiento  |\n",
    "| `length`               | Devuelve el número de elementos de datos almacenados en el objeto `Storage` |\n",
    "| `getItem(keyname)`     | Devuelve el valor del nombre de clave especificado           |\n",
    "| `setItem(keyname, value)` | Añade una clave al almacenamiento o actualiza el valor de una clave (si ya existe) |\n",
    "| `removeItem(keyname)`  | Elimina esa clave del almacenamiento                         |\n",
    "| `clear()`              | Vacía todas las claves del almacenamiento                    |\n",
    "\n",
    "### Web workers en JavaScript\n",
    "\n",
    "Los trabajadores web permiten ejecutar scripts en segundo plano. Los trabajadores web se ejecutan en un hilo separado del hilo principal del navegador, lo que permite una ejecución de scripts más rápida.\n",
    "\n",
    "Ejemplo\n",
    "\n",
    "```javascript\n",
    "// Esto es un archivo worker.js\n",
    "// Esto es html\n",
    "<p>Count numbers: <output id=\"result\"></output></p>\n",
    "<button onclick=\"startWorker()\">Start Worker</button>\n",
    "<button onclick=\"stopWorker()\">Stop Worker</button>\n",
    "\n",
    "// Esto es javascript\n",
    "let w;\n",
    "\n",
    "function startWorker() {\n",
    "  if (typeof(w) == \"undefined\") {\n",
    "    w = new Worker(\"demo_workers.js\");\n",
    "  }\n",
    "  w.onmessage = function(event) {\n",
    "    document.getElementById(\"result\").innerHTML = event.data;\n",
    "  };\n",
    "}\n",
    "\n",
    "function stopWorker() {\n",
    "  w.terminate();\n",
    "  w = undefined;\n",
    "}\n",
    "```"
   ]
  },
  {
   "cell_type": "markdown",
   "metadata": {},
   "source": [
    "# Notas pseudoimportantes\n",
    "\n",
    "- Casi todo en JavaScript es un objeto\n",
    "- Todos los datos son float de 64 bits en JavaScript\n",
    "- Hoisting es un comportamiento en JavaScript donde las variables y las funciones se mueven a la parte superior de su ámbito antes de que se ejecute el código\n",
    "- Modo estricto: \"use strict\" (hace que JavaScript sea más seguro; se asegura de que no se utilicen variables no declaradas; se suele usar para corregir malas prácticas; se puede utilizar en todo el script o en una función específica)\n",
    "- Debug en JavaScript la depuración se utiliza para encontrar errores en el código (podemos utilizar la palabra clave debugger para detener la ejecución del código en un punto específico)\n",
    "- Puntos de interrupción en JavaScript se utilizan para detener la ejecución del código en un punto específico (son el circulo rojo en la barra lateral del navegador)\n",
    "- Utilizar variables locales siempre que se pueda\n",
    "- Utilizar const para los objetos para que no cambien de tipo\n",
    "- Hacer operaciones con numeros flotantes suele dar errores\n",
    "Para dividir una instrucción de una cadena se usa `\\` (ejemplo: \n",
    "```javascript\n",
    "let x = \"Hello \\ \n",
    "World!\";\n",
    "```"
   ]
  },
  {
   "cell_type": "markdown",
   "metadata": {},
   "source": [
    "# Notas para mi\n",
    "\n",
    "### Funciones de js que considero poco importantes\n",
    "\n",
    "- document.write() (escribir en el documento)\n",
    "- window.print() (imprimir la ventana actual)\n",
    "- Operadores bit a bit\n",
    "- Objetos RegExp y sus metodos exec test() etc\n",
    "- Finally en try catch OSEA QUE CARAJOS\n",
    "- Object.create()\n",
    "\n",
    "Iteracion recorre una cadena de elementos (siempre olvido a que se refiere este concepto)\n",
    "\n",
    "### Cosas que debo estudiar\n",
    "\n",
    "- static\n",
    "- async y await\n",
    "- cookies (suena importate pero no etoy seguro)\n",
    "- Ajax, Ajax PHP, Ajax ASP y xmlHTTPRequest (creo que ya no se utiliza reemplazado por las apis fetch y axios)\n",
    "- Jquery (siento que ya no se utiliza)\n",
    "- Graficos en js [librerias : plotly, chart.js, d3.js, highcharts, google charts]"
   ]
  }
 ],
 "metadata": {
  "kernelspec": {
   "display_name": "Python 3",
   "language": "python",
   "name": "python3"
  },
  "language_info": {
   "codemirror_mode": {
    "name": "ipython",
    "version": 3
   },
   "file_extension": ".py",
   "mimetype": "text/x-python",
   "name": "python",
   "nbconvert_exporter": "python",
   "pygments_lexer": "ipython3",
   "version": "3.13.1"
  }
 },
 "nbformat": 4,
 "nbformat_minor": 2
}
