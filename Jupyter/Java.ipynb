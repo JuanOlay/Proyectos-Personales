{
 "cells": [
  {
   "cell_type": "markdown",
   "metadata": {},
   "source": [
    "# Tutorial Java\n",
    "\n",
    "# Introduccion a Java\n",
    "\n",
    "## ¿Qué es Java?\n",
    "\n",
    "Java es un lenguaje de programación de alto nivel y orientado a objetos, desarrollado por Sun Microsystems en 1995. Java es una tecnología que se utiliza en todo el mundo para desarrollar aplicaciones de software. Java es un lenguaje de programación de propósito general, lo que significa que se puede utilizar para desarrollar aplicaciones de software en una variedad de plataformas, incluyendo computadoras de escritorio, servidores, dispositivos móviles y otros dispositivos electrónicos."
   ]
  },
  {
   "cell_type": "markdown",
   "metadata": {},
   "source": [
    "## Java en Jupyter\n",
    "\n",
    "En jupyter notebook se puede ejecutar codigo de java, para ello se debe instalar la libreria ijava y seleccionarlo como kernel.\n",
    "\n",
    "1. Paso: Instalar `ijava`\n",
    "\n",
    "```bash\n",
    "!pip install ijava\n",
    "```\n",
    "\n",
    "2. Paso: Instalar el kernel de java\n",
    "\n",
    "```bash\n",
    "!python3 -m ijava install\n",
    "```\n",
    "\n",
    "3. Paso: Seleccionar el kernel de java\n",
    "\n",
    "## Sintaxis\n",
    "\n",
    "Cada programa Java debe tener una clase con el mismo nombre del archivo. Durante el proyecto se usara en ocasione solo lo que va dentro de las clase debido a que el kernel de jupyter no permite la creacion de archivos.\n",
    "\n",
    "```java\n",
    "public class NombreClase {\n",
    "    public static void main(String[] args) {\n",
    "        // Codigo\n",
    "    }\n",
    "}\n",
    "```\n",
    "\n",
    "## `System.out.println`\n",
    "\n",
    "System.out.println es una funcion que imprime en consola el contenido que se le pase como argumento.\n",
    "\n",
    "Se puede concatenar con un `+`."
   ]
  },
  {
   "cell_type": "code",
   "execution_count": null,
   "metadata": {
    "vscode": {
     "languageId": "java"
    }
   },
   "outputs": [],
   "source": [
    "System.out.println(\"Ijava fue un dolor de huevas de configurar!\");\n",
    "System.out.println(\"Pero ya esta listo \" + \"para trabajar con el\");\n",
    "// Porcierto los comentario en java son con doble diagonal\n",
    "/*\n",
    "Este es un comentario de varias lineas\n",
    " */"
   ]
  },
  {
   "cell_type": "markdown",
   "metadata": {},
   "source": [
    "System es una clase incorporada en java\n",
    "\n",
    "Podemos usar `System.out.print` la diferencia es que el `println` agrega un salto de linea al final de la impresion."
   ]
  },
  {
   "cell_type": "markdown",
   "metadata": {},
   "source": [
    "# Variables en Java \n",
    "\n",
    "- `String` - Almacena texto, como \"Hola\". Los valores de cadena son Rodeado de comillas dobles\n",
    "- `int` - Almacena números enteros (enteros), sin decimales, como 123 o -123\n",
    "- `float` - Almacena números de coma flotante, con decimales, como 19,99 o -19,99\n",
    "- `char` - Almacena caracteres individuales, como 'A' o 'B'. Los valores Char están entre comillas simples\n",
    "- `boolean` - Almacena valores con dos estados: Verdadero o falso\n",
    "\n",
    "Declaracion de variables:\n",
    "\n",
    "```bash\n",
    "type variable = value;\n",
    "```\t\n",
    "\n",
    "Hechos importantes de los variables en Java:\n",
    "\n",
    "1. Tambien podemos crear variables sin asignarles un valor y luego asignarles un valor.\n",
    "\n",
    "2. Podemos cambiar el valor asignado a una variable en cualquier momento, sino queremos que se pueda cambiar el valor de una variable debemos usar la palabra reservada final.\n",
    "\n",
    "3. Podemos declarar multiples variables en una sola linea."
   ]
  },
  {
   "cell_type": "code",
   "execution_count": null,
   "metadata": {
    "vscode": {
     "languageId": "java"
    }
   },
   "outputs": [],
   "source": [
    "String nombre = \"Juan\";\n",
    "System.out.println(nombre);\n",
    "int edad;\n",
    "edad = 20;\n",
    "System.out.println(edad);\n",
    "float altura = 1.75f;\n",
    "altura = 1.80f;\n",
    "System.out.println(altura);\n",
    "final char letra = 'a';\n",
    "// letra = 'b'; Esto no se puede hacer\n",
    "System.out.println(letra);\n",
    "boolean x = true, y = false, z;\n",
    "System.out.println(x + \" \" + y + \" \" + z);// z no tiene valor asignado por lo que imprimira false"
   ]
  },
  {
   "cell_type": "markdown",
   "metadata": {},
   "source": [
    "## Tipos de datos primitivos\n",
    "\n",
    "| Data Type | Description                                                                 |\n",
    "|-----------|-----------------------------------------------------------------------------|\n",
    "| `byte`    | Stores whole numbers from -128 to 127                                       |\n",
    "| `short`   | Stores whole numbers from -32,768 to 32,767                                 |\n",
    "| `int`     | Stores whole numbers from -2,147,483,648 to 2,147,483,647                   |\n",
    "| `long`    | Stores whole numbers from -9,223,372,036,854,775,808 to 9,223,372,036,854,775,807 |\n",
    "| `float`   | Stores fractional numbers. Sufficient for storing 6 to 7 decimal digits     |\n",
    "| `double`  | Stores fractional numbers. Sufficient for storing 15 to 16 decimal digits   |\n",
    "| `boolean` | Stores `true` or `false` values                                             |\n",
    "| `char`    | Stores a single character/letter or ASCII values                            |\n",
    "\n",
    "## Ambito de las variables\n",
    "\n",
    "- Variables locales: Se declaran dentro de un metodo y solo se pueden usar dentro de ese metodo.\n",
    "- Variables de instancia: Se declaran dentro de una clase pero fuera de un metodo. Se pueden usar en toda la clase.\n",
    "- Variables de clase: Se declaran dentro de una clase pero fuera de un metodo y se declaran con la palabra reservada static. Se pueden usar en toda la clase.\n",
    "\n",
    "Ejemplo:\n",
    "\n",
    "```java\n",
    "public class Main {\n",
    "  public static void main(String[] args) {\n",
    "\n",
    "    // Code here CANNOT use x\n",
    "\n",
    "    { // This is a block\n",
    "\n",
    "      // Code here CANNOT use x\n",
    "\n",
    "      int x = 100;\n",
    "\n",
    "      // Code here CAN use x\n",
    "      System.out.println(x);\n",
    "\n",
    "    } // The block ends here\n",
    "\n",
    "  // Code here CANNOT use x\n",
    "\n",
    "  }\n",
    "}\n",
    "```\n",
    "\n",
    "## Conversion de tipos de datos\n",
    "\n",
    "- Widening Casting (automático) - convertir un tipo de datos más pequeño en uno más grande\n",
    "- Narrowing Casting (manual) - convertir un tipo de datos más grande en uno más pequeño\n",
    "\n",
    "##### Ejemplo de Widening Casting"
   ]
  },
  {
   "cell_type": "code",
   "execution_count": null,
   "metadata": {
    "vscode": {
     "languageId": "java"
    }
   },
   "outputs": [],
   "source": [
    "int myNum = 5;\n",
    "double myDoubleNum = myNum;// El proceso es automatico\n",
    "System.out.println(myDoubleNum);"
   ]
  },
  {
   "cell_type": "markdown",
   "metadata": {},
   "source": [
    "##### Ejemplo de Narrowing Casting"
   ]
  },
  {
   "cell_type": "code",
   "execution_count": null,
   "metadata": {
    "vscode": {
     "languageId": "java"
    }
   },
   "outputs": [],
   "source": [
    "double myDouble = 9.78;\n",
    "int myInt = (int) myDouble; // El proceso es manual\n",
    "System.out.println(myInt);"
   ]
  },
  {
   "cell_type": "markdown",
   "metadata": {},
   "source": [
    "## Operadores\n",
    "\n",
    "### Operadores Aritméticos en Java\n",
    "\n",
    "| Operador | Nombre        | Descripción                                      | Ejemplo   |\n",
    "|----------|---------------|--------------------------------------------------|-----------|\n",
    "| `+`      | Adición       | Suma dos valores                                 | `x + y`   |\n",
    "| `-`      | Sustracción   | Resta un valor de otro                           | `x - y`   |\n",
    "| `*`      | Multiplicación| Multiplica dos valores                           | `x * y`   |\n",
    "| `/`      | División      | Divide un valor por otro                         | `x / y`   |\n",
    "| `%`      | Módulo        | Devuelve el resto de una división                | `x % y`   |\n",
    "| `++`     | Incremento    | Incrementa el valor de una variable en 1         | `++x`     |\n",
    "| `--`     | Decremento    | Decrementa el valor de una variable en 1         | `--x`     |\n",
    "\n",
    "### Operadores de Asignación en Java\n",
    "\n",
    "| Operador | Ejemplo   | Equivalente a | Descripción                          |\n",
    "|----------|-----------|---------------|--------------------------------------|\n",
    "| `=`      | `x = 5`   | `x = 5`       | Asigna el valor 5 a la variable x    |\n",
    "| `+=`     | `x += 3`  | `x = x + 3`   | Suma 3 al valor de x y asigna el resultado a x |\n",
    "| `-=`     | `x -= 3`  | `x = x - 3`   | Resta 3 al valor de x y asigna el resultado a x |\n",
    "| `*=`     | `x *= 3`  | `x = x * 3`   | Multiplica el valor de x por 3 y asigna el resultado a x |\n",
    "| `/=`     | `x /= 3`  | `x = x / 3`   | Divide el valor de x entre 3 y asigna el resultado a x |\n",
    "| `%=`     | `x %= 3`  | `x = x % 3`   | Obtiene el resto de la división de x entre 3 y asigna el resultado a x |\n",
    "| `&=`     | `x &= 3`  | `x = x & 3`   | Realiza una operación AND bit a bit entre x y 3, y asigna el resultado a x |\n",
    "| `\\|=`    | `x \\|= 3` | `x = x \\| 3`  | Realiza una operación OR bit a bit entre x y 3, y asigna el resultado a x |\n",
    "| `^=`     | `x ^= 3`  | `x = x ^ 3`   | Realiza una operación XOR bit a bit entre x y 3, y asigna el resultado a x |\n",
    "| `>>=`    | `x >>= 3` | `x = x >> 3`  | Desplaza los bits de x 3 posiciones a la derecha y asigna el resultado a x |\n",
    "| `<<=`    | `x <<= 3` | `x = x << 3`  | Desplaza los bits de x 3 posiciones a la izquierda y asigna el resultado a x |\n",
    "\n",
    "### Operadores de Comparación en Java\n",
    "\n",
    "| Operador | Nombre            | Ejemplo   | Descripción                                      |\n",
    "|----------|-------------------|-----------|--------------------------------------------------|\n",
    "| `==`     | Igual a           | `x == y`  | Devuelve `true` si x es igual a y                |\n",
    "| `!=`     | No es igual a     | `x != y`  | Devuelve `true` si x no es igual a y             |\n",
    "| `>`      | Mayor que         | `x > y`   | Devuelve `true` si x es mayor que y              |\n",
    "| `<`      | Menor que         | `x < y`   | Devuelve `true` si x es menor que y              |\n",
    "| `>=`     | Mayor o igual que | `x >= y`  | Devuelve `true` si x es mayor o igual que y      |\n",
    "| `<=`     | Menor o igual que | `x <= y`  | Devuelve `true` si x es menor o igual que y      |\n",
    "\n",
    "### Operadores Lógicos en Java\n",
    "\n",
    "| Operador | Nombre | Descripción                                      | Ejemplo   |\n",
    "|----------|--------|--------------------------------------------------|-----------|\n",
    "| `&&`     | Y      | Devuelve `true` si ambas condiciones son `true` | `x < 5 &&  x < 10` |\n",
    "| `\\|\\|`    | O      | Devuelve `true` si al menos una condición es `true` | `x < 5 \\|\\| x < 4` |\n",
    "| `!`      | NO     | Devuelve `true` si la condición es `false` y viceversa | `!(x < 5 && x < 10)` |"
   ]
  },
  {
   "cell_type": "markdown",
   "metadata": {},
   "source": [
    "## Strings en Java\n",
    "\n",
    "- En Java, los Strings son objetos que se utilizan para almacenar múltiples caracteres, como una matriz de caracteres.\n",
    "\n",
    "### Metodos de Strings\n",
    "\n",
    "- `length()` - Devuelve la longitud de la cadena\n",
    "- `toUpperCase()` - Convierte una cadena a mayúsculas\n",
    "- `toLowerCase()` - Convierte una cadena a minúsculas\n",
    "- `indexOf()` - Devuelve la posición de la primera aparición de un subtexto en una cadena\n",
    "- `concat()` - Une dos cadenas\n",
    "\n",
    "### Caracteres especiales en Java\n",
    "\n",
    "| Escape Character | Result | Description       |\n",
    "|------------------|--------|-------------------|\n",
    "| `\\'`             | `'`    | Comilla simple    |\n",
    "| `\\\"`             | `\"`    | Comilla doble     |\n",
    "| `\\\\`             | `\\`    | Barra invertida   |\n",
    "\n",
    "### Secuencias de escape en Java\n",
    "\n",
    "| Código | Resultado          | Descripción                     |\n",
    "|--------|--------------------|---------------------------------|\n",
    "| `\\n`   | Nueva línea        | Inserta un salto de línea       |\n",
    "| `\\r`   | Retorno de carro   | Inserta un retorno de carro     |\n",
    "| `\\t`   | Tabulación         | Inserta un espacio de tabulación|\n",
    "| `\\b`   | Retroceso          | Inserta un retroceso (backspace)|\n",
    "| `\\f`   | Salto de página    | Inserta un salto de página      |"
   ]
  },
  {
   "cell_type": "markdown",
   "metadata": {},
   "source": [
    "## `Math` en Java\n",
    "\n",
    "### Metodos de `Math`\n",
    "\n",
    "- `Math.max(x, y)` - Devuelve el número más grande de x e y\n",
    "- `Math.min(x, y)` - Devuelve el número más pequeño de x e y\n",
    "- `Math.sqrt(x)` - Devuelve la raíz cuadrada de x\n",
    "- `Math.abs(x)` - Devuelve el valor absoluto de x\n",
    "- `Math.random()` - Devuelve un número aleatorio entre 0 y 1"
   ]
  },
  {
   "cell_type": "markdown",
   "metadata": {},
   "source": [
    "## Booleans en Java\n",
    "\n",
    "- Un tipo de datos booleano solo puede tener uno de dos valores: verdadero o falso.\n",
    "\n",
    "##### Expresion Booleana\n",
    "\n",
    "- Una expresión booleana es una expresión que devuelve un valor booleano: verdadero o falso."
   ]
  },
  {
   "cell_type": "code",
   "execution_count": null,
   "metadata": {
    "vscode": {
     "languageId": "java"
    }
   },
   "outputs": [],
   "source": [
    "int x = 10;\n",
    "int y = 9;\n",
    "System.out.println(x > y); // returns true, because 10 is higher than 9"
   ]
  },
  {
   "cell_type": "markdown",
   "metadata": {},
   "source": [
    "# Arrays (Matrices, arreglos) en Java\n",
    "\n",
    "- Un array es una colección de variables del mismo tipo, referenciadas por un único nombre.\n",
    "\n",
    "Sintaixs de un array:\n",
    "\n",
    "```bash\n",
    "type[] arrayName;\n",
    "```\n",
    "\n",
    "Ejemplo:"
   ]
  },
  {
   "cell_type": "code",
   "execution_count": null,
   "metadata": {
    "vscode": {
     "languageId": "java"
    }
   },
   "outputs": [],
   "source": [
    "String[] cars = {\"Volvo\", \"BMW\", \"Ford\", \"Mazda\"};\n",
    "int[] myNum = {10, 20, 30, 40};\n",
    "double[] myDouble = {1.9, 2.9, 3.4, 3.5};\n",
    "char[] myChar = {'H', 'E', 'L', 'L', 'O'};\n",
    "boolean[] myBoolean = {true, false, true};\n",
    "Class[] myClass = {String.class, int.class, double.class, char.class, boolean.class};"
   ]
  },
  {
   "cell_type": "markdown",
   "metadata": {},
   "source": [
    "#### Acceder a un elemento de un array\n",
    "\n",
    "Puede acceder a un elemento de matriz haciendo referencia al número de índice.\n",
    "\n",
    "Ejemplo:"
   ]
  },
  {
   "cell_type": "code",
   "execution_count": null,
   "metadata": {
    "vscode": {
     "languageId": "java"
    }
   },
   "outputs": [],
   "source": [
    "String[] cars = {\"Volvo\", \"BMW\", \"Ford\", \"Mazda\"};\n",
    "System.out.println(cars[0]);"
   ]
  },
  {
   "cell_type": "markdown",
   "metadata": {},
   "source": [
    "#### Cambiar un elemento de un array\n",
    "\n",
    "Puede cambiar el valor de un elemento de matriz haciendo referencia al número de índice.\n",
    "\n",
    "Ejemplo:"
   ]
  },
  {
   "cell_type": "code",
   "execution_count": null,
   "metadata": {
    "vscode": {
     "languageId": "java"
    }
   },
   "outputs": [],
   "source": [
    "String [] cars = {\"Volvo\", \"BMW\", \"Ford\", \"Mazda\"};\n",
    "cars[0] = \"Opel\";\n",
    "System.out.println(cars[0]);"
   ]
  },
  {
   "cell_type": "markdown",
   "metadata": {},
   "source": [
    "#### Herramienta `length`\n",
    "\n",
    "La propiedad length de un array puede ser utilizada para determinar el tamaño de la matriz.\n",
    "\n",
    "Ejemplo:"
   ]
  },
  {
   "cell_type": "code",
   "execution_count": null,
   "metadata": {
    "vscode": {
     "languageId": "java"
    }
   },
   "outputs": [],
   "source": [
    "String[] cars = {\"Volvo\", \"BMW\", \"Ford\", \"Mazda\"};\n",
    "System.out.println(cars.length);"
   ]
  },
  {
   "cell_type": "markdown",
   "metadata": {},
   "source": [
    "#### Array loops\n",
    "\n",
    "##### `For` Loop\n",
    "\n",
    "Ejemplo:"
   ]
  },
  {
   "cell_type": "code",
   "execution_count": null,
   "metadata": {
    "vscode": {
     "languageId": "java"
    }
   },
   "outputs": [],
   "source": [
    "String[] cars = {\"Volvo\", \"BMW\", \"Ford\", \"Mazda\"};\n",
    "\n",
    "// Bucle con for tradicional\n",
    "System.out.println(\"Bucle con for:\");\n",
    "for (int i = 0; i < cars.length; i++) {\n",
    "    System.out.println((i + 1) + \". \" + cars[i]);\n",
    "}\n",
    "\n",
    "// Bucle con for-each\n",
    "System.out.println(\"Bucle con for each:\");\n",
    "int contador = 1; // Necesitamos un contador externo para numerar los elementos\n",
    "for (String car : cars) {\n",
    "    System.out.println(contador + \". \" + car);\n",
    "    contador++; // Incrementamos el contador\n",
    "}"
   ]
  },
  {
   "cell_type": "markdown",
   "metadata": {},
   "source": [
    "### Arrays Multidimensionales\n",
    "\n",
    "- Un array multidimensional es un array de arrays.\n",
    "\n",
    "Sintaxis:\n",
    "\n",
    "```bash\n",
    "type[][] arrayName;\n",
    "```\n",
    "\n",
    "Ejemplo:"
   ]
  },
  {
   "cell_type": "code",
   "execution_count": null,
   "metadata": {
    "vscode": {
     "languageId": "java"
    }
   },
   "outputs": [],
   "source": [
    "int[][] numeros = { {1, 2, 3, 4}, {5, 6, 7} };\n",
    "System.out.println(numeros[1][2]);\n",
    "numeros[1][2] = 9;\n",
    "System.out.println(numeros[1][2]);"
   ]
  },
  {
   "cell_type": "markdown",
   "metadata": {},
   "source": [
    "#### Loops en arrays multidimensionales\n",
    "\n",
    "Ejemplo:"
   ]
  },
  {
   "cell_type": "code",
   "execution_count": null,
   "metadata": {
    "vscode": {
     "languageId": "java"
    }
   },
   "outputs": [],
   "source": [
    "System.out.println(\"Bucle con for:\");\n",
    "int[][] numeros = { {1, 2, 3, 4}, {5, 6, 7} };\n",
    "for (int i = 0; i < numeros.length; ++i) {\n",
    "  for (int j = 0; j < numeros[i].length; ++j) {\n",
    "    System.out.println(numeros[i][j]);\n",
    "  }\n",
    "}\n",
    "System.out.println(\"Bucle con for each:\");\n",
    "int[][] numeros = { {1, 2, 3, 4}, {5, 6, 7} };\n",
    "for (int[] row : numeros) {\n",
    "  for (int f : row) {\n",
    "    System.out.println(f);\n",
    "  }\n",
    "}\n",
    "System.out.println(\"Bucle con for each en forma de matriz:\");\n",
    "int[][] numeros = { {1, 2, 3, 4}, {5, 6, 7, 8} };\n",
    "for (int[] row : numeros) {\n",
    "    for (int g : row) {\n",
    "        System.out.print(g + \" \"); // Imprime cada elemento de la fila seguido de un espacio\n",
    "    }\n",
    "    System.out.println(); // Salta de línea al final de cada fila\n",
    "}\n",
    "System.out.println(\"Bucle con for each (con corchetes):\");\n",
    "for (int[] row : numeros) { // Se itera con un array \n",
    "    System.out.print(\"[\"); // Abre el corchete de la fila\n",
    "    for (int i = 0; i < row.length; i++) {\n",
    "        System.out.print(row[i]); // Imprime el elemento actual\n",
    "        if (i < row.length - 1) {\n",
    "            System.out.print(\", \"); // Agrega una coma y un espacio entre elementos\n",
    "        }\n",
    "    }\n",
    "    System.out.println(\"]\"); // Cierra el corchete de la fila\n",
    "}"
   ]
  },
  {
   "cell_type": "markdown",
   "metadata": {},
   "source": [
    "# Funciones en Java\n",
    "\n",
    "### Estructuras condicionales\n",
    "\n",
    "#### `If...Else if...Else` en Java\n",
    "\n",
    "En Java, la instrucción `if` se usa para tomar decisiones basadas en condiciones. Puedes extender esta lógica utilizando `else if` para evaluar múltiples condiciones y `else` para manejar el caso por defecto cuando ninguna condición se cumple.\n",
    "\n",
    "Sintaxis:\n",
    "\n",
    "```java\n",
    "if (condición1) {\n",
    "  // Código a ejecutar si condición1 es verdadera\n",
    "} else if (condición2) {\n",
    "  // Código a ejecutar si condición2 es verdadera\n",
    "} else if (condición3) {\n",
    "  // Código a ejecutar si condición3 es verdadera\n",
    "} else {\n",
    "  // Código a ejecutar si ninguna de las condiciones anteriores es verdadera\n",
    "}\n",
    "\n",
    "Ejemplo:"
   ]
  },
  {
   "cell_type": "code",
   "execution_count": null,
   "metadata": {
    "vscode": {
     "languageId": "java"
    }
   },
   "outputs": [],
   "source": [
    "int x = 10;\n",
    "int y = 9;\n",
    "if (x > y) {\n",
    "  System.out.println(\"x is greater than y\");\n",
    "} else if (x == y) {\n",
    "  System.out.println(\"x is equal to y\");\n",
    "} else {\n",
    "  System.out.println(\"x is less than y\");\n",
    "}"
   ]
  },
  {
   "cell_type": "markdown",
   "metadata": {},
   "source": [
    "##### Operadores ternarios\n",
    "\n",
    "En Java, el operador ternario `?` se puede usar para simplificar las instrucciones `if...else` en una sola línea.\n",
    "\n",
    "Sintaxis:\n",
    "\n",
    "```java\n",
    "variable = (condición) ? expresión1 : expresión2;\n",
    "``` \n",
    "\n",
    "Ejemplo:"
   ]
  },
  {
   "cell_type": "code",
   "execution_count": null,
   "metadata": {
    "vscode": {
     "languageId": "java"
    }
   },
   "outputs": [],
   "source": [
    "int x = 17;\n",
    "String result = (x >= 18) ? \"Mayor de edad\" : \"Menor de edad\";\n",
    "System.out.println(result);\n"
   ]
  },
  {
   "cell_type": "markdown",
   "metadata": {},
   "source": [
    "#### `Switch` en Java\n",
    "\n",
    "En Java, la instrucción `switch` se usa para seleccionar una de las muchas opciones.\n",
    "\n",
    "Sintaxis:\n",
    "\n",
    "```java\n",
    "switch (expresión) {\n",
    "  case valor1:\n",
    "    // Código a ejecutar si la expresión es igual a valor1\n",
    "    break;\n",
    "  case valor2:\n",
    "    // Código a ejecutar si la expresión es igual a valor2\n",
    "    break;\n",
    "  ...\n",
    "  default:\n",
    "    // Código a ejecutar si la expresión no es igual a ninguno de los valores\n",
    "}\n",
    "```\n",
    "\n",
    "Ejemplo:"
   ]
  },
  {
   "cell_type": "code",
   "execution_count": null,
   "metadata": {
    "vscode": {
     "languageId": "java"
    }
   },
   "outputs": [],
   "source": [
    "int day = 4;\n",
    "switch (day) {\n",
    "  case 1:\n",
    "    System.out.println(\"Monday\");\n",
    "    break;\n",
    "  case 2:\n",
    "    System.out.println(\"Tuesday\");\n",
    "    break;\n",
    "  case 3:\n",
    "    System.out.println(\"Wednesday\");\n",
    "    break;\n",
    "  case 4:\n",
    "    System.out.println(\"Thursday\");\n",
    "    break;\n",
    "  case 5:\n",
    "    System.out.println(\"Friday\");\n",
    "    break;\n",
    "  case 6:\n",
    "    System.out.println(\"Saturday\");\n",
    "    break;\n",
    "  case 7:\n",
    "    System.out.println(\"Sunday\");\n",
    "    break;\n",
    "}"
   ]
  },
  {
   "cell_type": "markdown",
   "metadata": {},
   "source": [
    "### Bucles en Java\n",
    "\n",
    "#### `While` Loop en Java\n",
    "\n",
    "En Java, el bucle `while` se usa para ejecutar un bloque de código repetidamente mientras se cumpla una condición.\n",
    "\n",
    "Sintaxis:\n",
    "\n",
    "```java\n",
    "while (condición) {\n",
    "  // Código a ejecutar mientras la condición sea verdadera\n",
    "}\n",
    "```\n",
    "\n",
    "Ejemplo:"
   ]
  },
  {
   "cell_type": "code",
   "execution_count": null,
   "metadata": {
    "vscode": {
     "languageId": "java"
    }
   },
   "outputs": [],
   "source": [
    "int i = 0;\n",
    "while (i < 5) {\n",
    "  System.out.println(i);\n",
    "  i++;\n",
    "}"
   ]
  },
  {
   "cell_type": "markdown",
   "metadata": {},
   "source": [
    "#### `Do...While` Loop en Java\n",
    "\n",
    "En Java, el bucle `do...while` es una variante del bucle `while`. Este bucle ejecuta un bloque de código al menos una vez y luego repetidamente mientras se cumpla una condición.\n",
    "\n",
    "Sintaxis:\n",
    "\n",
    "```java\n",
    "do {\n",
    "  // Código a ejecutar\n",
    "} while (condición);\n",
    "```\n",
    "\n",
    "Ejemplo:"
   ]
  },
  {
   "cell_type": "code",
   "execution_count": null,
   "metadata": {
    "vscode": {
     "languageId": "java"
    }
   },
   "outputs": [],
   "source": [
    "int i = 0;\n",
    "do {\n",
    "  System.out.println(i);\n",
    "  i++;\n",
    "} while (i < 5);"
   ]
  },
  {
   "cell_type": "markdown",
   "metadata": {},
   "source": [
    "#### `For` Loop en Java\n",
    "\n",
    "En Java, el bucle `for` se usa para ejecutar un bloque de código un número específico de veces.\n",
    "\n",
    "Sintaxis:\n",
    "\n",
    "```java\n",
    "for (inicialización; condición; incremento) {\n",
    "  // Código a ejecutar\n",
    "}\n",
    "```\n",
    "\n",
    "Ejemplo:"
   ]
  },
  {
   "cell_type": "code",
   "execution_count": null,
   "metadata": {
    "vscode": {
     "languageId": "java"
    }
   },
   "outputs": [],
   "source": [
    "for (int i = 0; i < 5; i++) {\n",
    "    System.out.println(i);\n",
    "  }"
   ]
  },
  {
   "cell_type": "markdown",
   "metadata": {},
   "source": [
    "##### Bucles anidados\n",
    "\n",
    "En Java, los bucles anidados se pueden usar para ejecutar un bucle dentro de otro bucle.\n",
    "\n",
    "Ejemplo:"
   ]
  },
  {
   "cell_type": "code",
   "execution_count": null,
   "metadata": {
    "vscode": {
     "languageId": "java"
    }
   },
   "outputs": [],
   "source": [
    "// Outer loop\n",
    "for (int i = 1; i <= 2; i++) {\n",
    "    System.out.println(\"Outer: \" + i); // Executes 2 times\n",
    "    \n",
    "    // Inner loop\n",
    "    for (int j = 1; j <= 3; j++) {\n",
    "      System.out.println(\" Inner: \" + j); // Executes 6 times (2 * 3)\n",
    "    }\n",
    "  } "
   ]
  },
  {
   "cell_type": "markdown",
   "metadata": {},
   "source": [
    "#### `For Each` Loop en Java\n",
    "\n",
    "En Java, el bucle `for each` se usa para recorrer una matriz o una colección.\n",
    "\n",
    "Sintaxis:\n",
    "\n",
    "```java\n",
    "for (tipo variable : matriz) {\n",
    "  // Código a ejecutar\n",
    "}\n",
    "```\n",
    "\n",
    "Ejemplo:"
   ]
  },
  {
   "cell_type": "code",
   "execution_count": null,
   "metadata": {
    "vscode": {
     "languageId": "java"
    }
   },
   "outputs": [],
   "source": [
    "String[] cars = {\"Volvo\", \"BMW\", \"Ford\", \"Mazda\"};\n",
    "for (String i : cars) {\n",
    "  System.out.println(i);\n",
    "}"
   ]
  },
  {
   "cell_type": "markdown",
   "metadata": {},
   "source": [
    "### Palabras clave `break`, `continue` y `default`\n",
    "\n",
    "- `break` - Termina el ciclo actual y se mueve al siguiente\n",
    "- `continue` - Se salta una iteración y continúa con la siguiente\n",
    "- `default` - Se ejecuta si no hay coincidencias en los casos\n",
    "\n",
    "Ejemplos:"
   ]
  },
  {
   "cell_type": "code",
   "execution_count": null,
   "metadata": {
    "vscode": {
     "languageId": "java"
    }
   },
   "outputs": [],
   "source": [
    "for (int i = 0; i < 10; i++) {\n",
    "    switch (i) {\n",
    "        case 10:\n",
    "            System.out.println(\"Error: llegó a 10\");\n",
    "            break;\n",
    "        default:\n",
    "            if (i == 4) {\n",
    "                continue; // Salta la iteración actual si i es 4\n",
    "            }\n",
    "            System.out.println(i); // Imprime el valor de i\n",
    "    }\n",
    "    if (i == 6) {\n",
    "        break; // Sale del bucle for cuando i es 6\n",
    "    }\n",
    "}\n",
    "/* \n",
    "Este ejemplo es completamente inpractico solo es para poder usar todas las palabras reservadas en un solo ejemplo\n",
    " */"
   ]
  },
  {
   "cell_type": "markdown",
   "metadata": {},
   "source": [
    "# Metodos en Java\n",
    "\n",
    "Un metodo es un bloque de codigo que se ejecuta cuando se llama.\n",
    "\n",
    "#### Crear un metodo en Java\n",
    "\n",
    "Tiene que declararse dentro de una clase.\n",
    "\n",
    "Sintaxis:\n",
    "\n",
    "```java\n",
    "static void myMethod() {\n",
    "  // Código a ejecutar\n",
    "}\n",
    "```\n",
    "\n",
    "#### Llamar un metodo en Java\n",
    "\n",
    "Para llamar un metodo en Java se debe escribir el nombre del metodo seguido de parentesis.\n",
    "\n",
    "Sintaxis:\n",
    "\n",
    "```java\t\n",
    "myMethod();\n",
    "```\n",
    "\n",
    "#### Parametros en un metodo\n",
    "\n",
    "Los parametros son valores que se pueden pasar a un metodo.\n",
    "\n",
    "Sintaxis:\n",
    "\n",
    "```java\n",
    "static void myMethod(String fname) {\n",
    "  // Código a ejecutar\n",
    "}\n",
    "```\n",
    "\n",
    "Ejemplo:"
   ]
  },
  {
   "cell_type": "code",
   "execution_count": null,
   "metadata": {
    "vscode": {
     "languageId": "java"
    }
   },
   "outputs": [],
   "source": [
    "\n",
    "    static void myMethod(String fname) {\n",
    "      System.out.println(fname + \" Refsnes\");\n",
    "    }\n",
    "      myMethod(\"Liam\");\n",
    "      myMethod(\"Jenny\");\n",
    "      myMethod(\"Anja\");\n"
   ]
  },
  {
   "cell_type": "markdown",
   "metadata": {},
   "source": [
    "En un  ejemplo real de un archivo java se veria asi:\n",
    "\n",
    "```java\n",
    "// Declaración de la clase principal llamada \"Main\".\n",
    "// En Java, el nombre del archivo debe coincidir con el nombre de la clase pública.\n",
    "public class Main {\n",
    "\n",
    "    // Declaración de un método estático llamado \"myMethod\".\n",
    "    // - \"static\": Significa que este método pertenece a la clase y no a una instancia específica.\n",
    "    // - \"void\": Indica que el método no devuelve ningún valor.\n",
    "    // - \"myMethod\": Es el nombre del método.\n",
    "    // - \"(String fname)\": El método recibe un parámetro de tipo String llamado \"fname\".\n",
    "    static void myMethod(String fname) {\n",
    "        // Imprime en la consola el valor de \"fname\" concatenado con \" Refsnes\".\n",
    "        // Por ejemplo, si fname es \"Liam\", se imprimirá \"Liam Refsnes\".\n",
    "        System.out.println(fname + \" Refsnes\");\n",
    "    }\n",
    "\n",
    "    // Método principal (main). Es el punto de entrada de cualquier programa en Java(osea que se va reproducir automaticamente).\n",
    "    // - \"public\": Indica que el método es accesible desde fuera de la clase.\n",
    "    // - \"static\": Significa que el método pertenece a la clase y no a una instancia.\n",
    "    // - \"void\": Indica que el método no devuelve ningún valor.\n",
    "    // - \"main\": Es el nombre del método. Debe llamarse exactamente \"main\" para que Java lo reconozca como el punto de entrada.\n",
    "    // - \"(String[] args)\": Recibe un arreglo de Strings como argumento. Estos son los argumentos que se pasan al programa desde la línea de comandos.\n",
    "    public static void main(String[] args) {\n",
    "        // Llama al método \"myMethod\" y le pasa el argumento \"Liam\".\n",
    "        // Esto imprimirá \"Liam Refsnes\" en la consola.\n",
    "        myMethod(\"Liam\");\n",
    "\n",
    "        // Llama al método \"myMethod\" y le pasa el argumento \"Jenny\".\n",
    "        // Esto imprimirá \"Jenny Refsnes\" en la consola.\n",
    "        myMethod(\"Jenny\");\n",
    "\n",
    "        // Llama al método \"myMethod\" y le pasa el argumento \"Anja\".\n",
    "        // Esto imprimirá \"Anja Refsnes\" en la consola.\n",
    "        myMethod(\"Anja\");\n",
    "    }\n",
    "}\n",
    "```\n",
    "\n",
    "#### Retorno de un metodo\n",
    "\n",
    "Si desea que el método devuelva un valor, puede usar un tipo de datos en lugar de void, que es el tipo de datos que no devuelve nada, y usar la palabra clave return para devolver un valor.\n",
    "\n",
    "Sintaxis:\n",
    "\n",
    "```java\n",
    "static type myMethod() {\n",
    "  // Código a ejecutar\n",
    "  return value;\n",
    "}\n",
    "```"
   ]
  },
  {
   "cell_type": "code",
   "execution_count": null,
   "metadata": {
    "vscode": {
     "languageId": "java"
    }
   },
   "outputs": [],
   "source": [
    "static int myMethod(int x, int y) {\n",
    "  return x + y;\n",
    "}\n",
    "System.out.println(myMethod(5, 3));"
   ]
  },
  {
   "cell_type": "markdown",
   "metadata": {},
   "source": [
    "#### Overloading de metodos\n",
    "\n",
    "El overloading de metodos permite tener varios metodos con el mismo nombre pero con diferentes parametros.\n",
    "\n",
    "Ejemplo:"
   ]
  },
  {
   "cell_type": "code",
   "execution_count": null,
   "metadata": {
    "vscode": {
     "languageId": "java"
    }
   },
   "outputs": [],
   "source": [
    "static int plusMethod(int x, int y) {\n",
    "    return x + y;\n",
    "  }\n",
    "  \n",
    "static double plusMethod(double x, double y) {\n",
    "    return x + y;\n",
    "  }\n",
    "  \n",
    "int myNum1 = plusMethod(8, 5);\n",
    "double myNum2 = plusMethod(4.3, 6.26);\n",
    "System.out.println(\"int: \" + myNum1);\n",
    "System.out.println(\"double: \" + myNum2);"
   ]
  },
  {
   "cell_type": "markdown",
   "metadata": {},
   "source": [
    "#### Recursividad\n",
    "\n",
    "La recursividad en Java es la técnica de llamar a un método a sí mismo.\n",
    "\n",
    "Ejemplo:"
   ]
  },
  {
   "cell_type": "code",
   "execution_count": null,
   "metadata": {
    "vscode": {
     "languageId": "java"
    }
   },
   "outputs": [],
   "source": [
    "public static int sum(int k) {\n",
    "    if (k > 0) {\n",
    "        return k + sum(k - 1);\n",
    "      } else {\n",
    "        return 0;\n",
    "      }\n",
    "    }\n",
    "\n",
    "int result = sum(10);\n",
    "System.out.println(result);"
   ]
  },
  {
   "cell_type": "markdown",
   "metadata": {},
   "source": [
    "Ejemplo explicado\n",
    "Cuando se llama a la función sum(), agrega un parámetro a la suma de todos los números más pequeños than y devuelve el resultado. Cuando k se convierte en 0, la función simplemente devuelve 0. Cuando Al ejecutarse, el programa sigue estos pasos:\n",
    "\n",
    "10 + suma(9)\n",
    "10 + ( 9 + suma(8) )\n",
    "10 + ( 9 + ( 8 + suma(7) ) )\n",
    "...\n",
    "10 + 9 + 8 + 7 + 6 + 5 + 4 + 3 + 2 + 1 + suma(0)\n",
    "10 + 9 + 8 + 7 + 6 + 5 + 4 + 3 + 2 + 1 + 0\n",
    "\n",
    "Segundo Ejemplo:"
   ]
  },
  {
   "cell_type": "code",
   "execution_count": null,
   "metadata": {
    "vscode": {
     "languageId": "java"
    }
   },
   "outputs": [],
   "source": [
    "public static int sum(int start, int end) {\n",
    "    if (end > start) {\n",
    "        return end + sum(start, end - 1);\n",
    "      } else {\n",
    "        return end;\n",
    "      }\n",
    "    }\n",
    "int result = sum(5, 10);\n",
    "System.out.println(result);"
   ]
  },
  {
   "cell_type": "markdown",
   "metadata": {},
   "source": [
    "# Clases y Objetos en Java\n",
    "\n",
    "## Clases\n",
    "\n",
    "- En Java, una clase es una plantilla para objetos, y un objeto es una instancia de una clase.\n",
    "\n",
    "### Crear una clase en Java\n",
    "\n",
    "Sintaxis:\n",
    "\n",
    "```java\n",
    "class NombreDeLaClase {\n",
    "    // Variables (campos o atributos)\n",
    "    tipo nombreVariable;\n",
    "\n",
    "    // Métodos\n",
    "    tipo nombreMetodo(parametros) {\n",
    "        // Cuerpo del método\n",
    "    }\n",
    "}\n",
    "```\n",
    "\n",
    "### Herencia (superclase y subclase)\n",
    "\n",
    "- La herencia en Java es un mecanismo en el que una clase hereda campos y métodos de otra clase.Se usa la palabra clave extends para heredar de una clase.\n",
    "\n",
    "Sintaxis:\n",
    "\n",
    "```java\n",
    "class SubClase extends SuperClase {\n",
    "    // Cuerpo de la subclase\n",
    "}\n",
    "```\n",
    "\n",
    "Ejemplo:"
   ]
  },
  {
   "cell_type": "code",
   "execution_count": null,
   "metadata": {
    "vscode": {
     "languageId": "java"
    }
   },
   "outputs": [],
   "source": [
    "class Vehicle {\n",
    "    protected String brand = \"Ford\";        // Vehicle attribute\n",
    "    public void honk() {                    // Vehicle method\n",
    "      System.out.println(\"Tuut, tuut!\");\n",
    "    }\n",
    "  }\n",
    "  \n",
    "  class Car extends Vehicle {\n",
    "    private String modelName = \"Mustang\";    // Car attribute\n",
    "    public static void main(String[] args) {\n",
    "  \n",
    "      // Create a myCar object\n",
    "      Car myCar = new Car();\n",
    "  \n",
    "      // Call the honk() method (from the Vehicle class) on the myCar object\n",
    "      myCar.honk();\n",
    "  \n",
    "      // Display the value of the brand attribute (from the Vehicle class) and the value of the modelName from the Car class\n",
    "      System.out.println(myCar.brand + \" \" + myCar.modelName);\n",
    "    }\n",
    "  }"
   ]
  },
  {
   "cell_type": "markdown",
   "metadata": {},
   "source": [
    "### Clases internas (inner classes)\n",
    "\n",
    "- En Java, una clase interna es una clase definida dentro de otra clase.\n",
    "\n",
    "Sintaxis:\n",
    "\n",
    "```java\n",
    "class ClaseExterna {\n",
    "    // Cuerpo de la clase externa\n",
    "\n",
    "    class ClaseInterna {\n",
    "        // Cuerpo de la clase interna\n",
    "    }\n",
    "}\n",
    "```\n",
    "\n",
    "Ejemplos:"
   ]
  },
  {
   "cell_type": "code",
   "execution_count": null,
   "metadata": {
    "vscode": {
     "languageId": "java"
    }
   },
   "outputs": [],
   "source": [
    "class OuterClass {\n",
    "    int x = 10;\n",
    "  \n",
    "    class InnerClass {\n",
    "      int y = 5;\n",
    "    }\n",
    "  }\n",
    "\n",
    "OuterClass myOuter = new OuterClass();\n",
    "OuterClass.InnerClass myInner = myOuter.new InnerClass();\n",
    "System.out.println(myInner.y + myOuter.x);"
   ]
  },
  {
   "cell_type": "code",
   "execution_count": null,
   "metadata": {
    "vscode": {
     "languageId": "java"
    }
   },
   "outputs": [],
   "source": [
    "class OuterClass {\n",
    "    int x = 10;\n",
    "  \n",
    "    static class InnerClass {\n",
    "      static int y = 5;\n",
    "    }\n",
    "  }\n",
    "\n",
    "OuterClass.InnerClass myInner = new OuterClass.InnerClass();\n",
    "System.out.println(myInner.y + OuterClass.InnerClass.y);"
   ]
  },
  {
   "cell_type": "code",
   "execution_count": null,
   "metadata": {
    "vscode": {
     "languageId": "java"
    }
   },
   "outputs": [],
   "source": [
    "class OuterClass {\n",
    "    int x = 10;\n",
    "  \n",
    "    class InnerClass {\n",
    "      public int myInnerMethod() {\n",
    "        return x;\n",
    "      }\n",
    "    }\n",
    "  }\n",
    "  \n",
    "\n",
    "OuterClass myOuter = new OuterClass();\n",
    "OuterClass.InnerClass myInner = myOuter.new InnerClass();\n",
    "System.out.println(myInner.myInnerMethod());"
   ]
  },
  {
   "cell_type": "markdown",
   "metadata": {},
   "source": [
    "### Clases y metodos abstractas\n",
    "\n",
    "- En Java, una clase abstracta es una clase que no se puede instanciar (crear un objeto de).\n",
    "- En Java, los métodos abstractos no tienen un cuerpo y deben implementarse en subclases.\n",
    "\n",
    "Sintaxis:\n",
    "\n",
    "```java\n",
    "abstract class NombreClase {\n",
    "    // Cuerpo de la clase\n",
    "    abstract void nombreMetodo();\n",
    "}\n",
    "```\n",
    "\n",
    "Es util cuando se quiere que una clase sea una plantilla para otras clases."
   ]
  },
  {
   "cell_type": "markdown",
   "metadata": {},
   "source": [
    "## Interfaces (extension de `abstract`)\n",
    "\n",
    "Otra forma de lograr la abstracción en Java, es con interfaces.\n",
    "\n",
    "Ejemplo:\n",
    "\n",
    "```java\n",
    "// interface\n",
    "interface Animal {\n",
    "  public void animalSound(); // interface method (does not have a body)\n",
    "  public void run(); // interface method (does not have a body)\n",
    "}\n",
    "```\n",
    "\n",
    "Para acceder a los metodos de una interfaz se debe usar la palabra reservada implements.\n",
    "\n",
    "Ejemplo:\n",
    "\n",
    "```java\n",
    "// Pig \"implements\" the Animal interface\n",
    "class Pig implements Animal {\n",
    "  public void animalSound() {\n",
    "    // The body of animalSound() is provided here\n",
    "    System.out.println(\"The pig says: wee wee\");\n",
    "  }\n",
    "  public void run() {\n",
    "    // The body of run() is provided here\n",
    "    System.out.println(\"The pig is running\");\n",
    "  }\n",
    "}\n",
    "```\n",
    "\n",
    "Se pueden implementar varias interfaces.\n",
    "\n",
    "Ejemplo:\n",
    "\n",
    "```java\n",
    "// interface\n",
    "interface FirstInterface {\n",
    "  public void myMethod(); // interface method\n",
    "}\n",
    "interface SecondInterface {\n",
    "  public void myOtherMethod(); // interface method\n",
    "}\n",
    "// DemoClass \"implements\" FirstInterface and SecondInterface\n",
    "class DemoClass implements FirstInterface, SecondInterface {\n",
    "  public void myMethod() {\n",
    "    System.out.println(\"Some text..\");\n",
    "  }\n",
    "  public void myOtherMethod() {\n",
    "    System.out.println(\"Some other text...\");\n",
    "  }\n",
    "}\n",
    "```"
   ]
  },
  {
   "cell_type": "markdown",
   "metadata": {},
   "source": [
    "## Objetos\n",
    "\n",
    "- Un objeto es una instancia de una clase.\n",
    "\n",
    "### Crear un objeto en Java\n",
    "\n",
    "Sintaxis:\n",
    "\n",
    "```java\n",
    "NombreDeLaClase nombreObjeto = new NombreDeLaClase();\n",
    "```\n",
    " \n",
    "Acceso y modificacíon de atributos\n",
    "\n",
    "Ejemplo:"
   ]
  },
  {
   "cell_type": "code",
   "execution_count": null,
   "metadata": {
    "vscode": {
     "languageId": "java"
    }
   },
   "outputs": [],
   "source": [
    "public class Main {\n",
    "    int x = 5;\n",
    "}\n",
    "\n",
    "Main myObj = new Main();\n",
    "System.out.println(myObj.x);\n",
    "myObj.x = 25;\n",
    "System.out.println(myObj.x);"
   ]
  },
  {
   "cell_type": "markdown",
   "metadata": {},
   "source": [
    "Podemos usar la palabra reservada final para evitar que un atributo se pueda modificar.\n",
    "\n",
    "## Constructores en Java\n",
    "\n",
    "- Un constructor en Java es un bloque de código similar a un método que se llama cuando se crea una instancia de una clase.\n",
    "\n",
    "### Crear un constructor en Java\n",
    "\n",
    "Sintaxis:\n",
    "\n",
    "```java\n",
    "class NombreDeLaClase {\n",
    "    // Variables (campos o atributos)\n",
    "\n",
    "    // Constructor\n",
    "    NombreDeLaClase(parametros) {// Tenga en cuenta que el nombre del constructor debe coincidir con el nombre de la clase y no puede tener un tipo de valor devuelto\n",
    "        // Cuerpo del constructor\n",
    "    }\n",
    "}\n",
    "```"
   ]
  },
  {
   "cell_type": "code",
   "execution_count": null,
   "metadata": {
    "vscode": {
     "languageId": "java"
    }
   },
   "outputs": [],
   "source": [
    "// Create a Main class\n",
    "public class Main {\n",
    "    int x;  // Create a class attribute\n",
    "  \n",
    "    // Create a class constructor for the Main class\n",
    "    public Main() {\n",
    "      x = 5;  // Set the initial value for the class attribute x\n",
    "    }\n",
    "}\n",
    "\n",
    "Main myObj = new Main(); // Create an object of class Main (This will call the constructor)\n",
    "System.out.println(myObj.x); // Print the value of x\n",
    "  // Outputs 5  "
   ]
  },
  {
   "cell_type": "markdown",
   "metadata": {},
   "source": [
    "# Modificadores de acceso en Java\n",
    "\n",
    "### Modificadores de Acceso\n",
    "\n",
    "- Para Clases\n",
    "\n",
    "| Modificador | Descripción                                                                 |\n",
    "|-------------|-----------------------------------------------------------------------------|\n",
    "| `public`    | La clase es accesible desde cualquier otra clase.                           |\n",
    "| `default`   | La clase solo es accesible por clases dentro del mismo paquete. Este es el modificador por defecto cuando no se especifica uno. |\n",
    "\n",
    "- Para Atributos, Métodos y Constructores   \n",
    "\n",
    "| Modificador | Descripción                                                                 |\n",
    "|-------------|-----------------------------------------------------------------------------|\n",
    "| `public`    | El código es accesible para todas las clases.                               |\n",
    "| `private`   | El código solo es accesible dentro de la clase declarada.                   |\n",
    "| `default`   | El código solo es accesible dentro del mismo paquete. Este es el modificador por defecto cuando no se especifica uno. |\n",
    "| `protected` | El código es accesible dentro del mismo paquete y en subclases.             |\n",
    "\n",
    "### Modificadores de No Acceso\n",
    "\n",
    "- Para Clases\n",
    "\n",
    "| Modificador | Descripción                                                                 |\n",
    "|-------------|-----------------------------------------------------------------------------|\n",
    "| `final`     | La clase no puede ser heredada por otras clases.                            |\n",
    "| `abstract`  | La clase no puede ser utilizada para crear objetos. Para acceder a una clase abstracta, debe ser heredada por otra clase. |\n",
    "\n",
    "- Para Atributos y Métodos\n",
    "\n",
    "| Modificador   | Descripción                                                                 |\n",
    "|---------------|-----------------------------------------------------------------------------|\n",
    "| `final`       | Los atributos y métodos no pueden ser sobrescritos o modificados.           |\n",
    "| `static`      | Los atributos y métodos pertenecen a la clase, no a un objeto específico.   |\n",
    "| `abstract`    | Solo puede usarse en una clase abstracta y solo en métodos. El método no tiene un cuerpo (por ejemplo, `abstract void run();`). El cuerpo lo proporciona la subclase (heredada). |\n",
    "| `transient`   | Los atributos y métodos se omiten al serializar el objeto que los contiene. |\n",
    "| `synchronized`| Los métodos solo pueden ser accedidos por un hilo a la vez.                 |\n",
    "| `volatile`    | El valor de un atributo no se almacena en caché localmente y siempre se lee desde la \"memoria principal\". |"
   ]
  },
  {
   "cell_type": "markdown",
   "metadata": {},
   "source": [
    "# Encapsulación en Java\n",
    "\n",
    "El significado de la encapsulación es asegurarse de que los datos \"sensibles\" estén ocultos de los usuarios. Para lograrlo, debe:\n",
    "\n",
    "- Declarar variables/atributos de clase como private\n",
    "- Proporcionar métodos `get` y `set` públicos para acceder y actualizar el valor de una variableprivate\n",
    "\n",
    "## `get` y `set`\n",
    "\n",
    "- Los métodos `get` y `set` se utilizan para obtener y establecer el valor de una variable, respectivamente.\n",
    "\n",
    "Sintaxis:\n",
    "\n",
    "```java\n",
    "class NombreDeLaClase {\n",
    "    private tipo nombreVariable;\n",
    "\n",
    "    // Getter\n",
    "    public tipo getNombreVariable() {\n",
    "        return nombreVariable;\n",
    "    }\n",
    "\n",
    "    // Setter\n",
    "    public void setNombreVariable(tipo nuevoValor) {\n",
    "        this.nombreVariable = nuevoValor;\n",
    "    }\n",
    "}\n",
    "``` "
   ]
  },
  {
   "cell_type": "markdown",
   "metadata": {},
   "source": [
    "# Paquetes en Java\n",
    "\n",
    "## Paquetes Incorporados\n",
    "\n",
    "- Java tiene un conjunto de paquetes incorporados que proporcionan clases y métodos para tareas comunes, como manipulación de archivos, entrada/salida, redes y mucho más.\n",
    "\n",
    "Importar un paquete\n",
    "\n",
    "```java\n",
    "import package.name.Class;   // Import a single class\n",
    "import package.name.*;   // Import the whole package\n",
    "```"
   ]
  },
  {
   "cell_type": "markdown",
   "metadata": {},
   "source": [
    "# Clases utiles para empezar en Java\n",
    "\n",
    "## Utilidades (`Scanner` ,`iterator` etc)\n",
    "\n",
    "### Entrada de java (Objetos de `Scanner`)\n",
    "\n",
    "- En Java, la entrada de datos se puede realizar con la clase `Scanner`.\n",
    "\n",
    "Ejemplo:\n",
    "\n",
    "```java\n",
    "import java.util.Scanner;  // Import the Scanner class\n",
    "\n",
    "class Main {\n",
    "  public static void main(String[] args) {\n",
    "    Scanner myObj = new Scanner(System.in);  // Create a Scanner object, Se usa System.in para leer la entrada del usuario, de otra manera se puede usar un archivo o una URL(escribiendo la ruta del archivo, o la URL o el nombre del objeto o texto)\n",
    "    System.out.println(\"Enter username\");\n",
    "\n",
    "    String userName = myObj.nextLine();  // Read user input\n",
    "    System.out.println(\"Username is: \" + userName);  // Output user input\n",
    "  }\n",
    "}\n",
    "```\n",
    "\n",
    "#### Tipos de datos de entrada\n",
    "\n",
    "| Método         | Descripción                                  |\n",
    "|----------------|----------------------------------------------|\n",
    "| `nextBoolean()`| Lee un valor booleano (`boolean`) del usuario.|\n",
    "| `nextByte()`   | Lee un valor byte (`byte`) del usuario.       |\n",
    "| `nextDouble()` | Lee un valor double (`double`) del usuario.   |\n",
    "| `nextFloat()`  | Lee un valor float (`float`) del usuario.     |\n",
    "| `nextInt()`    | Lee un valor entero (`int`) del usuario.      |\n",
    "| `nextLine()`   | Lee una cadena de texto (`String`) del usuario.|\n",
    "| `nextLong()`   | Lee un valor long (`long`) del usuario.       |\n",
    "| `nextShort()`  | Lee un valor short (`short`) del usuario.     |"
   ]
  },
  {
   "cell_type": "code",
   "execution_count": null,
   "metadata": {
    "vscode": {
     "languageId": "java"
    }
   },
   "outputs": [],
   "source": [
    "import java.util.Scanner;  // Import the Scanner class\n",
    "\n",
    "Scanner myObj = new Scanner(System.in);  // Create a Scanner object\n",
    "System.out.println(\"Enter username\");\n",
    "\n",
    "String userName = myObj.nextLine();  // Read user input\n",
    "System.out.println(\"Username is: \" + userName);  // Output user input"
   ]
  },
  {
   "cell_type": "markdown",
   "metadata": {},
   "source": [
    "### `Iterator` en java\n",
    "\n",
    "- En Java, la interfaz `Iterator` se utiliza para recorrer colecciones como `ArrayList`, `LinkedList`, `HashSet`, etc.\n",
    "\n",
    "Ejemplo:"
   ]
  },
  {
   "cell_type": "code",
   "execution_count": null,
   "metadata": {
    "vscode": {
     "languageId": "java"
    }
   },
   "outputs": [],
   "source": [
    "import java.util.ArrayList;  // Import the ArrayList class\n",
    "import java.util.Iterator;  // Import the Iterator class\n",
    "\n",
    "ArrayList<Integer> cars = new ArrayList<Integer>();  // Create an ArrayList object\n",
    "cars.add(8);\n",
    "cars.add(2);\n",
    "cars.add(3);\n",
    "cars.add(14);\n",
    "cars.add(12);\n",
    "\n",
    "Iterator<Integer> it = cars.iterator();\n",
    "\n",
    "// Print the first item\n",
    "System.out.println(\"El metodo next() devuelve el elemento actual y avanza al siguiente: \" + it.next());\n",
    "\n",
    "// Print all items\n",
    "System.out.println(\"El metodo hasNext() devuelve true si hay mas elementos en la lista:\");\n",
    "System.out.println(\"Hay mas elementos en la lista: \" + it.hasNext());\n",
    "while(it.hasNext()) {\n",
    "    System.out.println(\"Elemento actual: \" + it.next());\n",
    "}\n",
    "\n",
    "// Volvemos a obtener el iterador antes de eliminar elementos\n",
    "it = cars.iterator();\n",
    "\n",
    "System.out.println(\"El metodo remove() elimina el elemento actual:\");\n",
    "while(it.hasNext()) {\n",
    "    Integer i = it.next();\n",
    "    if(i < 10) {\n",
    "        System.out.println(\"Se eliminara el elemento: \" + i + \" porque es menor a 10\");\n",
    "        it.remove();\n",
    "    }\n",
    "}\n",
    "System.out.println(\"Elementos restantes en la lista: \" + cars);"
   ]
  },
  {
   "cell_type": "markdown",
   "metadata": {},
   "source": [
    "## Manejo de datos\n",
    "\n",
    "### `Enum` en java\n",
    "\n",
    "- Un enum es una clase especial que representa un grupo de constantes (variables que no cambian).\n",
    "- Puede contener variables, métodos, constructores, etc.\n",
    "\n",
    "Ejemplo:\n",
    "\n",
    "```java\n",
    "// Definimos un enum llamado \"DiaSemana\" que representa los días de la semana.\n",
    "// Cada constante del enum tiene un atributo \"descripcion\" asociado.\n",
    "enum DiaSemana {\n",
    "    // Definimos las constantes del enum, cada una con su descripción correspondiente.\n",
    "    LUNES(\"Inicio de la semana\"),       // LUNES es una constante con su descripción\n",
    "    MARTES(\"Día productivo\"),            // MARTES es otra constante con su descripción\n",
    "    MIÉRCOLES(\"Mitad de la semana\"),     // MIÉRCOLES es otra constante con su descripción\n",
    "    JUEVES(\"Casi viernes\"),              // JUEVES es otra constante con su descripción\n",
    "    VIERNES(\"¡Fin de la semana laboral!\"), // VIERNES es otra constante con su descripción\n",
    "    SÁBADO(\"Día de descanso\"),           // SÁBADO es otra constante con su descripción\n",
    "    DOMINGO(\"Día familiar\");             // DOMINGO es otra constante con su descripción\n",
    "\n",
    "    // Atributo privado para almacenar la descripción de cada día.\n",
    "    private String descripcion;\n",
    "\n",
    "    // Constructor del enum. Este constructor se llama automáticamente cuando se definen las constantes.\n",
    "    // Recibe la descripción como parámetro y la asigna al atributo \"descripcion\".\n",
    "    DiaSemana(String descripcion) {\n",
    "        this.descripcion = descripcion;\n",
    "    }\n",
    "\n",
    "    // Método público para obtener la descripción de un día.\n",
    "    public String getDescripcion() {\n",
    "        return descripcion;\n",
    "    }\n",
    "}\n",
    "\n",
    "// Clase principal que contiene el método \"main\" para ejecutar el programa.\n",
    "public class Main {\n",
    "    public static void main(String[] args) {\n",
    "        // Creamos una variable \"hoy\" de tipo \"DiaSemana\" y la inicializamos con la constante VIERNES.\n",
    "        DiaSemana hoy = DiaSemana.VIERNES;\n",
    "\n",
    "        // Imprimimos la descripción del día almacenado en la variable \"hoy\".\n",
    "        // Como \"hoy\" es VIERNES, se llamará al método getDescripcion() de VIERNES.\n",
    "        System.out.println(hoy.getDescripcion()); // Output: \"¡Fin de la semana laboral!\"\n",
    "    }\n",
    "}\n",
    "```"
   ]
  },
  {
   "cell_type": "markdown",
   "metadata": {},
   "source": [
    "### `Arraylist` en Java\n",
    "\n",
    "- En Java, la clase `ArrayList` se utiliza para almacenar elementos. Es parte del paquete `java.util`.\n",
    "\n",
    "-Ejemplo:"
   ]
  },
  {
   "cell_type": "code",
   "execution_count": null,
   "metadata": {
    "vscode": {
     "languageId": "java"
    }
   },
   "outputs": [],
   "source": [
    "import java.util.ArrayList;  // Importar la clase ArrayList\n",
    "import java.util.Collections; // Importar la clase Collections para usar el método sort()\n",
    "\n",
    "\n",
    "// Crear un ArrayList de tipo String\n",
    "ArrayList<String> cars = new ArrayList<String>();\n",
    "\n",
    "// Agregar elementos al ArrayList\n",
    "cars.add(\"Volvo\");\n",
    "cars.add(\"BMW\");\n",
    "cars.add(\"Ford\");\n",
    "cars.add(\"Mazda\");\n",
    "\n",
    "// Imprimir el ArrayList completo\n",
    "System.out.println(\"ArrayList original: \" + cars);\n",
    "\n",
    "// Acceder a un elemento específico usando el método get()\n",
    "System.out.println(\"Primer elemento: \" + cars.get(0));// get() devuelve un elemento específico del ArrayList\n",
    "\n",
    "// Ordenar el ArrayList alfabéticamente\n",
    "Collections.sort(cars); // El método sort() de Collections ordena el ArrayList\n",
    "System.out.println(\"ArrayList ordenado: \" + cars);\n",
    "\n",
    "// Invertir el orden del ArrayList usando el método reverse()\n",
    "Collections.sort(cars, Collections.reverseOrder()); // Ordena el ArrayList en orden inverso\n",
    "System.out.println(\"ArrayList en orden inverso: \" + cars);\n",
    "\n",
    "// Modificar un elemento usando el método set()\n",
    "cars.set(0, \"Opel\"); // Cambia \"Volvo\" por \"Opel\" (el primer elemento después de ordenar)\n",
    "System.out.println(\"Primer elemento modificado: \" + cars.get(0));\n",
    "\n",
    "// Eliminar un elemento usando el método remove()\n",
    "cars.remove(0); // Elimina el primer elemento (\"Opel\")\n",
    "System.out.println(\"ArrayList después de eliminar el primer elemento: \" + cars);\n",
    "\n",
    "// Obtener el tamaño del ArrayList usando el método size()\n",
    "System.out.println(\"Tamaño del ArrayList: \" + cars.size());\n",
    "\n",
    "// Eliminar todos los elementos del ArrayList usando el método clear()\n",
    "cars.clear();\n",
    "System.out.println(\"ArrayList después de clear(): \" + cars);\n",
    "\n",
    "// Verificar el tamaño del ArrayList después de clear()\n",
    "System.out.println(\"Tamaño del ArrayList después de clear(): \" + cars.size());"
   ]
  },
  {
   "cell_type": "markdown",
   "metadata": {},
   "source": [
    "### `LinkedList` en Java\n",
    "\n",
    "- En Java, la clase `LinkedList` se utiliza para almacenar elementos. Es parte del paquete `java.util`.\n",
    "- La diferencia entre `ArrayList` y `LinkedList` en Java, es que el `ArrayList` almacena elementos en una matriz, mientras que el `LinkedList` almacena elementos en una lista doblemente enlazada.\n",
    "- Tiene los mismos metodos que `ArrayList` porque implementa la interfaz List.\n",
    "\n",
    "Ejemplo:\n",
    "\n",
    "```java\n",
    "import java.util.LinkedList;  // Import the LinkedList class\n",
    "\n",
    "public class Main {\n",
    "  public static void main(String[] args) {\n",
    "    LinkedList<String> cars = new LinkedList<String>();  // Create a LinkedList object\n",
    "    cars.add(\"Volvo\");  // Add an item to the LinkedList\n",
    "    cars.add(\"BMW\");\n",
    "    cars.add(\"Ford\");\n",
    "    cars.add(\"Mazda\");\n",
    "    System.out.println(cars);  // Print the LinkedList\n",
    "  }\n",
    "}\n",
    "```\n",
    "\n",
    "#### Metodos de `LinkedList`\n",
    "\n",
    "| Método           | Descripción                                                                 |\n",
    "|------------------|-----------------------------------------------------------------------------|\n",
    "| `addFirst()`     | Añade un elemento al principio de la lista.                                |\n",
    "| `addLast()`      | Añade un elemento al final de la lista.                                    |\n",
    "| `removeFirst()`  | Elimina el primer elemento de la lista.                                    |\n",
    "| `removeLast()`   | Elimina el último elemento de la lista.                                    |\n",
    "| `getFirst()`     | Devuelve el primer elemento de la lista.                                   |\n",
    "| `getLast()`      | Devuelve el último elemento de la lista.                                   |\n",
    "| `removeFirstOccurrence()` | Elimina la primera aparición de un elemento de la lista.            |\n",
    "| `removeLastOccurrence()`  | Elimina la última aparición de un elemento de la lista.              |"
   ]
  },
  {
   "cell_type": "markdown",
   "metadata": {},
   "source": [
    " ### `HashMap` en Java\n",
    "\n",
    "- En Java, la clase `HashMap` se utiliza para almacenar elementos. Es parte del paquete `java.util`.\n",
    "- Un `HashMap` almacena elementos en pares clave/valor.\n",
    "\n",
    "Ejemplo:"
   ]
  },
  {
   "cell_type": "code",
   "execution_count": null,
   "metadata": {
    "vscode": {
     "languageId": "java"
    }
   },
   "outputs": [],
   "source": [
    "// Importar las clases necesarias\n",
    "import java.util.HashMap;\n",
    "import java.util.Map;\n",
    "\n",
    "// Crear un HashMap con clave de tipo Integer y valor de tipo String\n",
    "HashMap<Integer, String> cars = new HashMap<>();\n",
    "\n",
    "// Agregar elementos al HashMap\n",
    "cars.put(1, \"Volvo\");   // 1 es la clave, \"Volvo\" es el valor\n",
    "cars.put(2, \"BMW\");\n",
    "cars.put(3, \"Ford\");\n",
    "cars.put(4, \"Mazda\");\n",
    "\n",
    "// Imprimir el HashMap completo\n",
    "System.out.println(\"HashMap original: \" + cars);\n",
    "\n",
    "// Acceder a un valor usando su clave\n",
    "System.out.println(\"Valor asociado a la clave 1: \" + cars.get(1));\n",
    "\n",
    "// Modificar un valor usando su clave\n",
    "cars.put(1, \"Opel\");  // Cambia el valor asociado a la clave 1 de \"Volvo\" a \"Opel\"\n",
    "System.out.println(\"Valor modificado asociado a la clave 1: \" + cars.get(1));\n",
    "\n",
    "// Eliminar un elemento usando su clave\n",
    "cars.remove(3);  // Elimina el par clave-valor con clave 3\n",
    "System.out.println(\"HashMap después de eliminar la clave 3: \" + cars);\n",
    "\n",
    "// Verificar si una clave existe en el HashMap\n",
    "System.out.println(\"¿Existe la clave 2? \" + cars.containsKey(2)); // true\n",
    "System.out.println(\"¿Existe la clave 5? \" + cars.containsKey(5)); // false\n",
    "\n",
    "// Verificar si un valor existe en el HashMap\n",
    "System.out.println(\"¿Existe el valor 'BMW'? \" + cars.containsValue(\"BMW\")); // true\n",
    "System.out.println(\"¿Existe el valor 'Toyota'? \" + cars.containsValue(\"Toyota\")); // false\n",
    "\n",
    "// Obtener el tamaño del HashMap\n",
    "System.out.println(\"Tamaño del HashMap: \" + cars.size());\n",
    "\n",
    "// Recorrer el HashMap usando un bucle for-each\n",
    "System.out.println(\"Recorriendo el HashMap:\");\n",
    "for (Map.Entry<Integer, String> entry : cars.entrySet()) {\n",
    "    System.out.println(\"Clave: \" + entry.getKey() + \", Valor: \" + entry.getValue());\n",
    "}\n",
    "\n",
    "// Eliminar todos los elementos del HashMap\n",
    "cars.clear();\n",
    "System.out.println(\"HashMap después de clear(): \" + cars);\n",
    "\n",
    "// Verificar el tamaño después de clear()\n",
    "System.out.println(\"Tamaño del HashMap después de clear(): \" + cars.size());"
   ]
  },
  {
   "cell_type": "markdown",
   "metadata": {},
   "source": [
    "### `Hashset` en Java\n",
    "\n",
    "- En Java, la clase HashSet se utiliza para almacenar elementos. Es parte del paquete `java.util`.\n",
    "- Un `HashSet` almacena elementos únicos.\n",
    "\n",
    "Ejemplo:"
   ]
  },
  {
   "cell_type": "code",
   "execution_count": null,
   "metadata": {
    "vscode": {
     "languageId": "java"
    }
   },
   "outputs": [],
   "source": [
    "// Importar la clase HashSet\n",
    "import java.util.HashSet;\n",
    "\n",
    "// Crear un HashSet de tipo String\n",
    "HashSet<String> cars = new HashSet<>();\n",
    "\n",
    "// Agregar elementos al HashSet\n",
    "cars.add(\"Volvo\");\n",
    "cars.add(\"BMW\");\n",
    "cars.add(\"Ford\");\n",
    "cars.add(\"Mazda\");\n",
    "\n",
    "// Imprimir el HashSet completo\n",
    "System.out.println(\"HashSet original: \" + cars);\n",
    "\n",
    "// Verificar si un elemento existe en el HashSet\n",
    "System.out.println(\"¿Existe 'BMW' en el HashSet? \" + cars.contains(\"BMW\")); // true\n",
    "System.out.println(\"¿Existe 'Toyota' en el HashSet? \" + cars.contains(\"Toyota\")); // false\n",
    "\n",
    "// Eliminar un elemento del HashSet\n",
    "cars.remove(\"Ford\");\n",
    "System.out.println(\"HashSet después de eliminar 'Ford': \" + cars);\n",
    "\n",
    "// Obtener el tamaño del HashSet\n",
    "System.out.println(\"Tamaño del HashSet: \" + cars.size());\n",
    "\n",
    "// Recorrer el HashSet usando un bucle for-each\n",
    "System.out.println(\"Recorriendo el HashSet:\");\n",
    "for (String car : cars) {\n",
    "    System.out.println(\"Elemento: \" + car);\n",
    "}\n",
    "\n",
    "// Eliminar todos los elementos del HashSet\n",
    "cars.clear();\n",
    "System.out.println(\"HashSet después de clear(): \" + cars);\n",
    "\n",
    "// Verificar el tamaño después de clear()\n",
    "System.out.println(\"Tamaño del HashSet después de clear(): \" + cars.size());"
   ]
  },
  {
   "cell_type": "markdown",
   "metadata": {},
   "source": [
    "## Fechas en Java\n",
    "\n",
    "- En Java, la clase `Date` se utiliza para trabajar con fechas y horas.\n",
    "Se puede importar con la siguiente linea:\n",
    "\n",
    "```java\n",
    "import java.time\n",
    "```\n",
    "\n",
    "### Clases de el paquete `java.time`\n",
    "\n",
    "| Clase               | Descripción                                                                 |\n",
    "|---------------------|-----------------------------------------------------------------------------|\n",
    "| `LocalDate`         | Representa una fecha (año, mes, día) en formato `yyyy-MM-dd`.               |\n",
    "| `LocalTime`         | Representa una hora (hora, minuto, segundo y nanosegundos) en formato `HH-mm-ss-ns`. |\n",
    "| `LocalDateTime`     | Representa una fecha y hora combinadas en formato `yyyy-MM-dd-HH-mm-ss-ns`. |\n",
    "| `DateTimeFormatter` | Formateador para mostrar y analizar objetos de fecha y hora.                |\n",
    "\n",
    "### Metodos de `time`\n",
    "\n",
    "- Los objetos de fecha y hora en Java comparten la mayoría de los métodos. Esto se debe a que `LocalDate`, `LocalTime` y `LocalDateTime` son subclases de la clase time\n",
    "\n",
    "| Método           | Descripción                                                                 |\n",
    "|------------------|-----------------------------------------------------------------------------|\n",
    "| `now()`          | Devuelve la fecha actual.                                                   |\n",
    "| `of(y, m, d)`    | Devuelve una fecha con el año `y`, mes `m` y día `d`.                      |\n",
    "| `getDayOfWeek()` | Devuelve el día de la semana.                                               |\n",
    "| `getDayOfMonth()`| Devuelve el día del mes.                                                    |\n",
    "| `getMonthValue()`| Devuelve el mes como un valor numérico.                                     |\n",
    "| `getYear()`      | Devuelve el año.                                                            |\n",
    "| `plusDays(n)`    | Añade `n` días a la fecha.                                                  |\n",
    "| `minusDays(n)`   | Resta `n` días a la fecha.                                                  |\n",
    "| `isLeapYear()`   | Comprueba si el año es bisiesto.                                            |\n",
    "| `isEqual(other)` | Comprueba si dos fechas son iguales.                                        |\n",
    "| `isBefore(other)`| Comprueba si una fecha es anterior a otra.                                  |\n",
    "| `isAfter(other)` | Comprueba si una fecha es posterior a otra.                                 |"
   ]
  },
  {
   "cell_type": "markdown",
   "metadata": {},
   "source": [
    "## Clases Wrapper en Java\n",
    "\n",
    "- En Java, las clases wrapper proporcionan un mecanismo para convertir tipos de datos primitivos en objetos.\n",
    "\n",
    "### Clases Wrapper\n",
    "\n",
    "| **Primitive Data Type** | **Wrapper Class** |\n",
    "|------------------------|------------------|\n",
    "| `byte`                | `Byte`           |\n",
    "| `short`               | `Short`          |\n",
    "| `int`                 | `Integer`        |\n",
    "| `long`                | `Long`           |\n",
    "| `float`               | `Float`          |\n",
    "| `double`              | `Double`         |\n",
    "| `boolean`             | `Boolean`        |\n",
    "| `char`                | `Character`      |\n",
    "\n",
    "### Metodos de las clases Wrapper\n",
    "\n",
    "| **Método**          | **Convierte el objeto en...** | **Ejemplo de uso** |\n",
    "|---------------------|----------------------------|------------------|\n",
    "| `intValue()`       | `int`                      | `Integer obj = 5; int num = obj.intValue();` |\n",
    "| `byteValue()`      | `byte`                     | `Integer obj = 5; byte b = obj.byteValue();` |\n",
    "| `shortValue()`     | `short`                    | `Integer obj = 5; short s = obj.shortValue();` |\n",
    "| `longValue()`      | `long`                     | `Integer obj = 5; long l = obj.longValue();` |\n",
    "| `floatValue()`     | `float`                    | `Double obj = 5.5; float f = obj.floatValue();` |\n",
    "| `doubleValue()`    | `double`                   | `Integer obj = 5; double d = obj.doubleValue();` |\n",
    "| `charValue()`      | `char`                     | `Character obj = 'A'; char c = obj.charValue();` |\n",
    "| `booleanValue()`   | `boolean`                  | `Boolean obj = true; boolean b = obj.booleanValue();` |"
   ]
  },
  {
   "cell_type": "code",
   "execution_count": null,
   "metadata": {
    "vscode": {
     "languageId": "java"
    }
   },
   "outputs": [],
   "source": [
    "Integer myInt = 10000;\n",
    "String myString = myInt.toString();\n",
    "System.out.println(myString.length());"
   ]
  },
  {
   "cell_type": "markdown",
   "metadata": {},
   "source": [
    "# Java avanzado\n",
    "\n",
    "## Excepciones en Java\n",
    "\n",
    "- En Java, una excepción es un evento que interrumpe el flujo normal de un programa.\n",
    "\n",
    "### `Try...Catch` en Java\n",
    "\n",
    "- En Java, la instrucción `try` se utiliza para probar un bloque de código.\n",
    "- La instrucción `catch` se utiliza para manejar la excepción.\n",
    "- La instrucción `finally` se utiliza para ejecutar el código después de que se haya producido una excepción, independientemente de si se ha producido una excepción o no.\n",
    "\n",
    "Sintaxis:\n",
    "\n",
    "```java\n",
    "try {\n",
    "  // Código a probar\n",
    "} catch (Exception e) {\n",
    "  // Código a ejecutar si se produce una excepción\n",
    "} finally { // Opcional\n",
    "  // Código a ejecutar después de que se haya producido una excepción\n",
    "}\n",
    "```\n",
    "\n",
    "Ejemplo:"
   ]
  },
  {
   "cell_type": "code",
   "execution_count": null,
   "metadata": {
    "vscode": {
     "languageId": "java"
    }
   },
   "outputs": [],
   "source": [
    "int[] numeros = {1, 2, 3};\n",
    "try {\n",
    "  System.out.println(numeros[10]);\n",
    "} catch (Exception e) {\n",
    "  System.out.println(\"Algo salió mal\");\n",
    "} finally {\n",
    "  System.out.println(\"El bloque try-catch ha finalizado\");\n",
    "}"
   ]
  },
  {
   "cell_type": "markdown",
   "metadata": {},
   "source": [
    "### Excepciones personalizadas(`throw`)\n",
    "\n",
    "- En Java, la palabra clave `throw` se utiliza para lanzar una excepción.\n",
    "\n",
    "### Excepciones Personalizadas (`throw`)\n",
    "\n",
    "En Java, la palabra clave `throw` se utiliza para lanzar una excepción de manera explícita dentro de un método o bloque de código.\n",
    "\n",
    "#### Tipos de Excepciones en Java\n",
    "\n",
    "| **Tipo de Excepción**      | **Descripción** |\n",
    "|---------------------------|----------------|\n",
    "| `ArithmeticException`     | Ocurre cuando hay un error en una operación aritmética, como la división por cero. |\n",
    "| `NullPointerException`    | Se lanza cuando se intenta acceder a un objeto que es `null`. |\n",
    "| `ArrayIndexOutOfBoundsException` | Se lanza cuando se accede a un índice fuera del rango de un array. |\n",
    "| `IllegalArgumentException` | Se usa cuando un método recibe un argumento no válido. |\n",
    "| `IOException`             | Ocurre cuando hay un error en operaciones de entrada/salida (como leer archivos). |\n",
    "| `FileNotFoundException`   | Se lanza cuando no se encuentra un archivo específico. |\n",
    "| `CustomException`         | Excepción personalizada creada por el usuario para casos específicos. |\n",
    "\n",
    "##### Ejemplo de Excepción Personalizada:"
   ]
  },
  {
   "cell_type": "code",
   "execution_count": null,
   "metadata": {
    "vscode": {
     "languageId": "java"
    }
   },
   "outputs": [],
   "source": [
    "// ArithmeticException: División por cero\n",
    "void divisionPorCero() {\n",
    "    int resultado = 10 / 0;  // Esto lanza ArithmeticException\n",
    "}\n",
    "\n",
    "// NullPointerException: Intento de usar un objeto nulo\n",
    "void accesoANulo() {\n",
    "    String texto = null;\n",
    "    int longitud = texto.length();  // Esto lanza NullPointerException\n",
    "}\n",
    "\n",
    "// ArrayIndexOutOfBoundsException: Índice fuera de rango\n",
    "void accesoArrayFueraDeRango() {\n",
    "    int[] numeros = {1, 2, 3};\n",
    "    int numero = numeros[5];  // Esto lanza ArrayIndexOutOfBoundsException\n",
    "}\n",
    "\n",
    "// IllegalArgumentException: Argumento inválido en un método\n",
    "void establecerEdad(int edad) {\n",
    "    if (edad < 0) {\n",
    "        throw new IllegalArgumentException(\"La edad no puede ser negativa.\");\n",
    "    }\n",
    "}\n",
    "\n",
    "// IOException: Error de entrada/salida\n",
    "import java.io.*;\n",
    "\n",
    "void leerArchivo() throws IOException {\n",
    "    FileReader archivo = new FileReader(\"archivo_inexistente.txt\"); // FileNotFoundException\n",
    "    BufferedReader lector = new BufferedReader(archivo);\n",
    "    String linea = lector.readLine();\n",
    "}\n",
    "\n",
    "// Excepción Personalizada\n",
    "class MiExcepcion extends Exception {\n",
    "    public MiExcepcion(String mensaje) {\n",
    "        super(mensaje);\n",
    "    }\n",
    "}\n",
    "\n",
    "void validarEdad(int edad) throws MiExcepcion {\n",
    "    if (edad < 18) {\n",
    "        throw new MiExcepcion(\"Debes ser mayor de edad.\");\n",
    "    }\n",
    "}\n",
    "\n",
    "// Manejo de excepciones en bloque try-catch\n",
    "try {\n",
    "    divisionPorCero();\n",
    "} catch (ArithmeticException e) {\n",
    "    System.out.println(\"Error: \" + e.getMessage());\n",
    "}\n",
    "\n",
    "try {\n",
    "    accesoANulo();\n",
    "} catch (NullPointerException e) {\n",
    "    System.out.println(\"Error: \" + e.getMessage());\n",
    "}\n",
    "\n",
    "try {\n",
    "    accesoArrayFueraDeRango();\n",
    "} catch (ArrayIndexOutOfBoundsException e) {\n",
    "    System.out.println(\"Error: \" + e.getMessage());\n",
    "}\n",
    "\n",
    "try {\n",
    "    establecerEdad(-5);\n",
    "} catch (IllegalArgumentException e) {\n",
    "    System.out.println(\"Error: \" + e.getMessage());\n",
    "}\n",
    "\n",
    "try {\n",
    "    leerArchivo();\n",
    "} catch (IOException e) {\n",
    "    System.out.println(\"Error de archivo: \" + e.getMessage());\n",
    "}\n",
    "\n",
    "try {\n",
    "    validarEdad(16);\n",
    "} catch (MiExcepcion e) {\n",
    "    System.out.println(\"Excepción personalizada: \" + e.getMessage());\n",
    "}"
   ]
  },
  {
   "cell_type": "markdown",
   "metadata": {},
   "source": [
    "## `RegEx` en Java\n",
    "\n",
    "- En Java, las expresiones regulares (`RegEx`) se utilizan para buscar y manipular cadenas.\n",
    "\n",
    "| **Clase**             | **Descripción** |\n",
    "|----------------------|----------------|\n",
    "| `Pattern`           | Representa el patrón de la expresión regular. |\n",
    "| `Matcher`           | Se usa para buscar coincidencias en un texto. |\n",
    "| `PatternSyntaxException` | Se lanza cuando hay un error en la sintaxis del patrón. |\n",
    "\n",
    "Ejemplo:"
   ]
  },
  {
   "cell_type": "code",
   "execution_count": null,
   "metadata": {
    "vscode": {
     "languageId": "java"
    }
   },
   "outputs": [],
   "source": [
    "import java.util.regex.*;\n",
    "\n",
    "String texto = \"Mi correo es usuario@example.com y mi número es 123-456-7890.\";\n",
    "\n",
    "// Definir un patrón para detectar correos electrónicos\n",
    "String patronCorreo = \"[a-zA-Z0-9._%+-]+@[a-zA-Z0-9.-]+\\\\.[a-zA-Z]{2,}\";\n",
    "\n",
    "// Compilar el patrón\n",
    "Pattern pattern = Pattern.compile(patronCorreo);\n",
    "Matcher matcher = pattern.matcher(texto);\n",
    "\n",
    "// Buscar coincidencias\n",
    "if (matcher.find()) {\n",
    "    System.out.println(\"Correo encontrado: \" + matcher.group());\n",
    "}"
   ]
  },
  {
   "cell_type": "markdown",
   "metadata": {},
   "source": [
    "### Metodos de `Matcher`\n",
    "\n",
    "| **Método**      | **Descripción** |\n",
    "|---------------|----------------|\n",
    "| `find()`      | Busca la siguiente coincidencia en el texto. |\n",
    "| `matches()`   | Verifica si todo el texto coincide con el patrón. |\n",
    "| `group()`     | Devuelve la última coincidencia encontrada. |\n",
    "| `start()`     | Devuelve la posición de inicio de la coincidencia. |\n",
    "| `end()`       | Devuelve la posición final de la coincidencia. |\n",
    "| `replaceAll()` | Reemplaza todas las coincidencias por un nuevo valor. |\n",
    "\n",
    "\n",
    "### Patrones de `RegEx`\n",
    "\n",
    "| **Expresión** | **Descripción** |\n",
    "|--------------|----------------|\n",
    "| `[abc]`      | Encuentra un carácter que sea **uno** de los especificados dentro de los corchetes (`a`, `b` o `c`). |\n",
    "| `[^abc]`     | Encuentra un carácter que **NO** esté dentro de los corchetes (cualquier carácter excepto `a`, `b` o `c`). |\n",
    "| `[0-9]`      | Encuentra **un** número en el rango de `0` a `9`. |\n",
    "\n",
    "### Meta Caracteres\n",
    "\n",
    "| **Metacaracter** | **Descripción** |\n",
    "|-----------------|----------------|\n",
    "| `\\|`  | Encuentra una coincidencia con **cualquiera** de los patrones separados por `\\|`, por ejemplo: `cat\\|dog\\|fish`. |\n",
    "| `.`  | Encuentra **cualquier carácter**, excepto un salto de línea. |\n",
    "| `^`  | Encuentra una coincidencia **al inicio** de la cadena, por ejemplo: `^Hello` (busca \"Hello\" al principio del texto). |\n",
    "| `$`  | Encuentra una coincidencia **al final** de la cadena, por ejemplo: `World$` (busca \"World\" al final del texto). |\n",
    "| `\\d` | Encuentra **un dígito** (`0-9`). |\n",
    "| `\\s` | Encuentra **un carácter de espacio en blanco** (espacios, tabulaciones, saltos de línea). |\n",
    "| `\\b` | Encuentra una coincidencia al **inicio o final** de una palabra, por ejemplo: `\\bWORD` (inicio) o `WORD\\b` (final). |\n",
    "| `\\uxxxx` | Encuentra el **carácter Unicode** especificado por el número hexadecimal `xxxx`. |\n",
    "\n",
    "### Cuantificadores\n",
    "\n",
    "| **Cuantificador** | **Descripción** |\n",
    "|------------------|----------------|\n",
    "| `n+`  | Coincide con cualquier cadena que contenga **al menos un** `n`. |\n",
    "| `n*`  | Coincide con cualquier cadena que contenga **cero o más** ocurrencias de `n`. |\n",
    "| `n?`  | Coincide con cualquier cadena que contenga **cero o una** ocurrencia de `n`. |\n",
    "| `n{x}`  | Coincide con cualquier cadena que contenga una **secuencia exacta** de `x` veces `n`. |\n",
    "| `n{x,y}`  | Coincide con cualquier cadena que contenga una **secuencia de `x` a `y` veces** `n`. |\n",
    "| `n{x,}`  | Coincide con cualquier cadena que contenga una **secuencia de al menos `x` veces** `n`. |"
   ]
  },
  {
   "cell_type": "markdown",
   "metadata": {},
   "source": [
    "## Java Threads\n",
    "\n",
    "- En Java, un hilo es la unidad de ejecución de un programa.\n",
    "- Un hilo es como un subproceso separado que se ejecuta en paralelo con otros subprocesos en un programa.\n",
    "\n",
    "### Crear un Hilo en Java\n",
    "\n",
    "- En Java, un hilo se puede crear extendiendo la clase `Thread` y sobrescribiendo el método `run()`.\n",
    "- El método `run()` contiene el código que se ejecutará en el hilo.\n",
    "\n",
    "Ejemplo:"
   ]
  },
  {
   "cell_type": "code",
   "execution_count": null,
   "metadata": {
    "vscode": {
     "languageId": "java"
    }
   },
   "outputs": [],
   "source": [
    "public class Main extends Thread {\n",
    "    public void run() {\n",
    "      System.out.println(\"This code is running in a thread\");\n",
    "    }\n",
    "  }"
   ]
  },
  {
   "cell_type": "markdown",
   "metadata": {},
   "source": [
    "Otra forma de crear un hilo en Java es implementando la interfaz `Runnable`."
   ]
  },
  {
   "cell_type": "code",
   "execution_count": null,
   "metadata": {
    "vscode": {
     "languageId": "java"
    }
   },
   "outputs": [],
   "source": [
    "public class Main implements Runnable {\n",
    "    public void run() {\n",
    "      System.out.println(\"This code is running in a thread\");\n",
    "    }\n",
    "  }"
   ]
  },
  {
   "cell_type": "markdown",
   "metadata": {},
   "source": [
    "### Ejecutar un Hilo en Java\n",
    "\n",
    "- En Java, un hilo se puede ejecutar llamando al método `start()`.\n",
    "- El método `start()` llama al método `run()` del hilo.\n",
    "\n",
    "Ejemplo:"
   ]
  },
  {
   "cell_type": "code",
   "execution_count": null,
   "metadata": {
    "vscode": {
     "languageId": "java"
    }
   },
   "outputs": [],
   "source": [
    "// Implementación de Thread\n",
    "class HiloThread extends Thread {\n",
    "    public void run() {\n",
    "        System.out.println(\"Este código se está ejecutando en un hilo (Thread).\");\n",
    "    }\n",
    "}\n",
    "\n",
    "// Implementación de Runnable\n",
    "class HiloRunnable implements Runnable {\n",
    "    public void run() {\n",
    "        System.out.println(\"Este código se está ejecutando en un hilo (Runnable).\");\n",
    "    }\n",
    "}\n",
    "\n",
    "// Crear e iniciar hilos\n",
    "HiloThread hilo1 = new HiloThread();\n",
    "hilo1.start();\n",
    "\n",
    "HiloRunnable obj = new HiloRunnable();\n",
    "Thread hilo2 = new Thread(obj);\n",
    "hilo2.start();\n",
    "\n",
    "System.out.println(\"Este código está fuera del hilo.\");"
   ]
  },
  {
   "cell_type": "markdown",
   "metadata": {},
   "source": [
    "### Problemas de simultaneidad\n",
    "\n",
    "-En Java, la simultaneidad se refiere a la ejecución de múltiples hilos al mismo tiempo.\n",
    "- Los problemas de simultaneidad pueden ocurrir cuando varios hilos intentan acceder a los mismos recursos compartidos.\n",
    "\n",
    "Para evitar problemas de simultaneidad, se pueden utilizar métodos sincronizados o `isAlive()`.\n",
    "\n",
    "#### Ejemplo con `synchronized`:"
   ]
  },
  {
   "cell_type": "code",
   "execution_count": null,
   "metadata": {
    "vscode": {
     "languageId": "java"
    }
   },
   "outputs": [],
   "source": [
    "class ContadorSeguro extends Thread {\n",
    "    public static int amount = 0;\n",
    "\n",
    "    public synchronized void incrementar() {\n",
    "        amount++;\n",
    "    }\n",
    "\n",
    "    public void run() {\n",
    "        for (int i = 0; i < 1000; i++) {\n",
    "            incrementar(); // Incremento sincronizado\n",
    "        }\n",
    "    }\n",
    "}\n",
    "\n",
    "ContadorSeguro thread1 = new ContadorSeguro();\n",
    "ContadorSeguro thread2 = new ContadorSeguro();\n",
    "thread1.start();\n",
    "thread2.start();\n",
    "thread1.join();\n",
    "thread2.join();\n",
    "\n",
    "System.out.println(\"Valor final de amount: \" + ContadorSeguro.amount);"
   ]
  },
  {
   "cell_type": "markdown",
   "metadata": {},
   "source": [
    "#### Ejemplo con `isAlive()`:"
   ]
  },
  {
   "cell_type": "code",
   "execution_count": null,
   "metadata": {
    "vscode": {
     "languageId": "java"
    }
   },
   "outputs": [],
   "source": [
    "class HiloEjemplo extends Thread {\n",
    "    public void run() {\n",
    "        try {\n",
    "            Thread.sleep(1000); // Simula un proceso largo\n",
    "            System.out.println(\"El hilo ha terminado.\");\n",
    "        } catch (InterruptedException e) {\n",
    "            System.out.println(\"Error en el hilo.\");\n",
    "        }\n",
    "    }\n",
    "}\n",
    "\n",
    "HiloEjemplo thread = new HiloEjemplo();\n",
    "thread.start();\n",
    "\n",
    "while (thread.isAlive()) {\n",
    "    System.out.println(\"Esperando a que termine el hilo...\");\n",
    "}\n",
    "\n",
    "System.out.println(\"El hilo ya ha finalizado.\");"
   ]
  },
  {
   "cell_type": "markdown",
   "metadata": {},
   "source": [
    "### Ejemplo real del uso de hilos en Java"
   ]
  },
  {
   "cell_type": "code",
   "execution_count": null,
   "metadata": {
    "vscode": {
     "languageId": "java"
    }
   },
   "outputs": [],
   "source": [
    "// Clase que representa una cuenta bancaria compartida entre clientes\n",
    "class CuentaBancaria {\n",
    "    private int saldo;\n",
    "\n",
    "    public CuentaBancaria(int saldoInicial) {\n",
    "        this.saldo = saldoInicial;\n",
    "    }\n",
    "\n",
    "    // Método sincronizado para evitar que varios hilos accedan simultáneamente y causen problemas\n",
    "    public synchronized void retirarDinero(String cliente, int cantidad) {\n",
    "        System.out.println(cliente + \" quiere retirar $\" + cantidad);\n",
    "\n",
    "        if (saldo >= cantidad) {\n",
    "            System.out.println(\"Retiro exitoso! \" + cliente + \" ha retirado $\" + cantidad);\n",
    "            saldo -= cantidad;\n",
    "            System.out.println(\"Saldo restante: $\" + saldo);\n",
    "        } else {\n",
    "            System.out.println(\"Fondos insuficientes para \" + cliente + \". Saldo actual: $\" + saldo);\n",
    "        }\n",
    "    }\n",
    "}\n",
    "\n",
    "// Clase que representa un cliente que intenta retirar dinero (es un hilo)\n",
    "class Cliente extends Thread {\n",
    "    private CuentaBancaria cuenta;\n",
    "    private String nombre;\n",
    "    private int cantidadARetirar;\n",
    "\n",
    "    public Cliente(CuentaBancaria cuenta, String nombre, int cantidad) {\n",
    "        this.cuenta = cuenta;\n",
    "        this.nombre = nombre;\n",
    "        this.cantidadARetirar = cantidad;\n",
    "    }\n",
    "\n",
    "    // Método que se ejecutará en el hilo\n",
    "    public void run() {\n",
    "        cuenta.retirarDinero(nombre, cantidadARetirar);\n",
    "    }\n",
    "}\n",
    "\n",
    "// Crear una cuenta bancaria con saldo inicial\n",
    "CuentaBancaria cuenta = new CuentaBancaria(100); // Saldo inicial de $100\n",
    "\n",
    "// Crear clientes (hilos) que intentan retirar dinero\n",
    "Cliente cliente1 = new Cliente(cuenta, \"Cliente 1\", 50);\n",
    "Cliente cliente2 = new Cliente(cuenta, \"Cliente 2\", 30);\n",
    "Cliente cliente3 = new Cliente(cuenta, \"Cliente 3\", 40); // Puede no tener suficiente saldo\n",
    "\n",
    "// Iniciar los hilos\n",
    "cliente1.start();\n",
    "cliente2.start();\n",
    "cliente3.start();"
   ]
  },
  {
   "cell_type": "markdown",
   "metadata": {},
   "source": [
    "## Lambda en Java\n",
    "\n",
    "- En Java, las expresiones lambda se utilizan para definir métodos anónimos.\n",
    "- Una expresión lambda se puede usar en lugar de una clase anónima.\n",
    "\n",
    "### Sintaxis:\n",
    "\n",
    "```java\n",
    "(parametro1, parametro2, ...) -> { cuerpo del método }\n",
    "```\n",
    "\n",
    "### Uso de expresiones lambda\n",
    "\n",
    "Por lo general, las expresiones lambda se pasan como parámetros a una función:"
   ]
  },
  {
   "cell_type": "code",
   "execution_count": null,
   "metadata": {
    "vscode": {
     "languageId": "java"
    }
   },
   "outputs": [],
   "source": [
    "import java.util.ArrayList; // Importar la clase ArrayList\n",
    "\n",
    "// Crear un ArrayList de tipo Integer\n",
    "ArrayList<Integer> Numeros = new ArrayList<Integer>();\n",
    "\n",
    "Numeros.add(10);\n",
    "Numeros.add(20);\n",
    "Numeros.add(30);\n",
    "\n",
    "Numeros.forEach((numero) -> {\n",
    "    System.out.println(numero);\n",
    "});"
   ]
  },
  {
   "cell_type": "markdown",
   "metadata": {},
   "source": [
    "Las expresiones lambda pueden almacenarse en variables si el tipo de la variable es una interfaz funcional (una interfaz con un solo método)\n",
    "\n",
    "Ejemplo usando una interfaz funcional(`Consumer`):"
   ]
  },
  {
   "cell_type": "code",
   "execution_count": null,
   "metadata": {
    "vscode": {
     "languageId": "java"
    }
   },
   "outputs": [],
   "source": [
    "import java.util.ArrayList; // Importar la clase ArrayList\n",
    "import java.util.function.Consumer; // Importar la interfaz Consumer\n",
    "\n",
    "// Crear un ArrayList de tipo Integer\n",
    "ArrayList<Integer> Numeros = new ArrayList<Integer>();\n",
    "\n",
    "Numeros.add(10);\n",
    "Numeros.add(20);\n",
    "Numeros.add(30);\n",
    "\n",
    "Consumer<Integer> imprimirNumero = (numero) -> {\n",
    "    System.out.println(numero);\n",
    "};\n",
    "\n",
    "Numeros.forEach(imprimirNumero);"
   ]
  },
  {
   "cell_type": "markdown",
   "metadata": {},
   "source": [
    "Podemos usar una interfaz funcional para recibir una expresión lambda como argumento de un método.\n",
    "\n",
    "Ejemplo:"
   ]
  },
  {
   "cell_type": "code",
   "execution_count": null,
   "metadata": {
    "vscode": {
     "languageId": "java"
    }
   },
   "outputs": [],
   "source": [
    "interface StringFunction {\n",
    "    String run(String str);\n",
    "} // se crea una interfaz funcional y se le asigna un método abstracto\n",
    "\n",
    "// Método que recibe una lambda como parámetro\n",
    "public static void printFormatted(String str, StringFunction format) {\n",
    "    String result = format.run(str);\n",
    "    System.out.println(result);\n",
    "}\n",
    "\n",
    "// Definiendo expresiones lambda\n",
    "StringFunction exclaim = (s) -> s + \"!\"; \n",
    "StringFunction ask = (s) -> s + \"?\";\n",
    "\n",
    "// Llamando al método con diferentes lambdas\n",
    "printFormatted(\"Hello\", exclaim);\n",
    "printFormatted(\"Hello\", ask);\n",
    "exclaim.run(\"Hello\");"
   ]
  },
  {
   "cell_type": "markdown",
   "metadata": {},
   "source": [
    "## Sorting avanzado en Java\n",
    "\n",
    "Para ordenar objetos, debe especificar una regla que decida cómo se deben ordenar los objetos. Por ejemplo, si tienes una lista de autos, es posible que desees ordenarlos por año, la regla podría ser que los autos con un año anterior vayan primero.\n",
    "\n",
    "Devuelve un valor negativo si el primer objeto debe ir primero en una lista, un valor positivo si el otro objeto debe ir primero en una lista y cero si el orden no importa.\n",
    "\n",
    "### Clase Comparator en Java\n",
    "\n",
    "Un objeto que implementa la interfaz `Comparator` se utiliza para definir una regla personalizada de ordenación.\n",
    "\n",
    "Ejemplo:"
   ]
  },
  {
   "cell_type": "code",
   "execution_count": null,
   "metadata": {
    "vscode": {
     "languageId": "java"
    }
   },
   "outputs": [],
   "source": [
    "import java.util.ArrayList;\n",
    "import java.util.Collections;\n",
    "import java.util.Comparator;\n",
    "\n",
    "// Clase Car\n",
    "class Car {\n",
    "    public String brand;\n",
    "    public String model;\n",
    "    public int year;\n",
    "    \n",
    "    public Car(String b, String m, int y) {\n",
    "        brand = b;\n",
    "        model = m;\n",
    "        year = y;\n",
    "    }\n",
    "}\n",
    "\n",
    "// Implementación de Comparator\n",
    "class SortByYear implements Comparator<Car> {\n",
    "    public int compare(Car a, Car b) {\n",
    "        return a.year - b.year; // Orden ascendente\n",
    "    }\n",
    "}\n",
    "\n",
    "// Uso del comparador\n",
    "ArrayList<Car> myCars = new ArrayList<>();\n",
    "myCars.add(new Car(\"BMW\", \"X5\", 1999));\n",
    "myCars.add(new Car(\"Honda\", \"Accord\", 2006));\n",
    "myCars.add(new Car(\"Ford\", \"Mustang\", 1970));\n",
    "\n",
    "// Aplicar el ordenamiento\n",
    "Collections.sort(myCars, new SortByYear());\n",
    "\n",
    "// Mostrar resultado\n",
    "for (Car c : myCars) {\n",
    "    System.out.println(c.brand + \" \" + c.model + \" \" + c.year);\n",
    "}"
   ]
  },
  {
   "cell_type": "markdown",
   "metadata": {},
   "source": [
    "### Usando Lambda como comparador\n",
    "\n",
    "Ejemplo:"
   ]
  },
  {
   "cell_type": "code",
   "execution_count": null,
   "metadata": {
    "vscode": {
     "languageId": "java"
    }
   },
   "outputs": [],
   "source": [
    "import java.util.ArrayList;\n",
    "import java.util.Collections;\n",
    "\n",
    "class Car{\n",
    "    public String brand;\n",
    "    public String model;\n",
    "    public int year;\n",
    "    \n",
    "    public Car(String b, String m, int y) { // Constructor\n",
    "        brand = b;\n",
    "        model = m;\n",
    "        year = y;\n",
    "    }\n",
    "} \n",
    "\n",
    "ArrayList<Car> myCars = new ArrayList<>();\n",
    "myCars.add(new Car(\"BMW\", \"X5\", 1999));\n",
    "myCars.add(new Car(\"Honda\", \"Accord\", 2006));\n",
    "myCars.add(new Car(\"Ford\", \"Mustang\", 1970));\n",
    "\n",
    "Collections.sort(myCars, (a , b) -> { // Lambda para comparar por año\n",
    "    if(a.year > b.year) {\n",
    "        return 1;\n",
    "    } else if(a.year < b.year) {\n",
    "        return -1;\n",
    "    } else {\n",
    "        return 0;\n",
    "    }\n",
    "});\n",
    "\n",
    "for(Car car: myCars) {\n",
    "    System.out.println(car.brand + \" \" + car.model + \" \" + car.year);\n",
    "}"
   ]
  },
  {
   "cell_type": "markdown",
   "metadata": {},
   "source": [
    "Los comparadores también se pueden utilizar para establecer reglas de clasificación especiales para cadenas y números. En este ejemplo, usamos un lambda para enumerar todos los números pares antes de los impares:"
   ]
  },
  {
   "cell_type": "code",
   "execution_count": null,
   "metadata": {
    "vscode": {
     "languageId": "java"
    }
   },
   "outputs": [],
   "source": [
    "import java.util.ArrayList;\n",
    "import java.util.Collections;\n",
    "\n",
    "ArrayList<Integer> numeros = new ArrayList<>();\n",
    "numeros.add(33);\n",
    "numeros.add(15);\n",
    "numeros.add(20);\n",
    "numeros.add(34);\n",
    "numeros.add(8);\n",
    "numeros.add(12);\n",
    "\n",
    "Collections.sort(numeros, (a, b) -> {\n",
    "    if(a%2 == 0 && b%2 == 0) {\n",
    "        if(a<b) {\n",
    "            return -1;\n",
    "        } else if(a>b) {\n",
    "            return 1;\n",
    "        }else {\n",
    "            return 0;\n",
    "        }\n",
    "    } else if(a % 2 != 0 && b % 2 != 0) {\n",
    "        if(a<b) {\n",
    "            return -1;\n",
    "        } else if(a>b) {\n",
    "            return 1;\n",
    "        }else {\n",
    "            return 0;\n",
    "        }\n",
    "    } else if(a%2 == 0) {\n",
    "        return -1;\n",
    "    } else if (b%2 == 0) {\n",
    "        return 1;\n",
    "    }\n",
    "    return 0;\n",
    "});\n",
    "\n",
    "for(int numero: numeros) {\n",
    "    System.out.println(numero);\n",
    "}"
   ]
  },
  {
   "cell_type": "markdown",
   "metadata": {},
   "source": [
    "### Clase `Comparable` en Java\n",
    "\n",
    "La interfaz `Comparable` se utiliza para definir una regla de ordenación predeterminada para un objeto.\n",
    "\n",
    "Ejemplo:"
   ]
  },
  {
   "cell_type": "code",
   "execution_count": null,
   "metadata": {
    "vscode": {
     "languageId": "java"
    }
   },
   "outputs": [],
   "source": [
    "import java.util.ArrayList;\n",
    "import java.util.Collections;\n",
    "import java.util.Comparator;\n",
    "\n",
    "class Car implements Comparable<Car> {\n",
    "    public String brand;\n",
    "    public String model;\n",
    "    public int year;\n",
    "    \n",
    "    public Car(String b, String m, int y) {\n",
    "        brand = b;\n",
    "        model = m;\n",
    "        year = y;\n",
    "    }\n",
    "    \n",
    "    // Método compareTo para definir el orden natural\n",
    "    public int compareTo(Car other) {\n",
    "        return this.year - other.year; // Orden ascendente\n",
    "    }\n",
    "}\n",
    "\n",
    "ArrayList<Car> myCars = new ArrayList<Car>();    \n",
    "myCars.add(new Car(\"BMW\", \"X5\", 1999));\n",
    "myCars.add(new Car(\"Honda\", \"Accord\", 2006));\n",
    "myCars.add(new Car(\"Ford\", \"Mustang\", 1970));\n",
    "\n",
    "// Ordenar sin necesidad de Comparator\n",
    "Collections.sort(myCars);\n",
    "\n",
    "for (Car c : myCars) {\n",
    "    System.out.println(c.brand + \" \" + c.model + \" \" + c.year);\n",
    "}"
   ]
  },
  {
   "cell_type": "markdown",
   "metadata": {},
   "source": [
    "### Comparacion entre `Comparable` y `Comparator`\n",
    "\n",
    "| Característica    | `Comparator` | `Comparable` |\n",
    "|------------------|------------|------------|\n",
    "| Dónde se implementa | Clase separada | Dentro de la propia clase |\n",
    "| Cuántos criterios se pueden definir | Múltiples | Solo uno (orden natural) |\n",
    "| Modificable sin cambiar la clase original | Sí | No |\n",
    "| Uso común | Orden personalizado | Orden natural |"
   ]
  },
  {
   "cell_type": "markdown",
   "metadata": {},
   "source": [
    "## Manejo de archivos en java\n",
    "\n",
    "El paquete `java.io` contiene clases que se utilizan para realizar operaciones de entrada y salida (E/S) en Java.\n",
    "\n",
    "## Metodos de la clase File\n",
    "\n",
    "| Método              | Tipo     | Descripción                                      |\n",
    "|---------------------|---------|--------------------------------------------------|\n",
    "| `canRead()`        | Boolean | Verifica si el archivo es legible.               |\n",
    "| `canWrite()`       | Boolean | Verifica si el archivo es escribible.            |\n",
    "| `createNewFile()`  | Boolean | Crea un archivo vacío si no existe.              |\n",
    "| `delete()`         | Boolean | Elimina el archivo o directorio.                 |\n",
    "| `exists()`         | Boolean | Comprueba si el archivo o directorio existe.     |\n",
    "| `getName()`        | String  | Devuelve el nombre del archivo o directorio.     |\n",
    "| `getAbsolutePath()`| String  | Devuelve la ruta absoluta del archivo.           |\n",
    "| `length()`         | Long    | Devuelve el tamaño del archivo en bytes.         |\n",
    "| `list()`           | String[]| Devuelve un array con los nombres de archivos en un directorio. |\n",
    "| `mkdir()`          | Boolean | Crea un directorio.                              |\n",
    "\n",
    "### Crear un archivo en Java\n",
    "\n",
    "Ejemplo:\n",
    "\n",
    "```java\n",
    "import java.io.File;  // Import the File class\n",
    "import java.io.IOException;  // Import the IOException class to handle errors\n",
    "\n",
    "public class CreateFile {\n",
    "  public static void main(String[] args) {\n",
    "    try {\n",
    "      File myObj = new File(\"filename.txt\");\n",
    "      if (myObj.createNewFile()) {\n",
    "        System.out.println(\"File created: \" + myObj.getName());\n",
    "      } else {\n",
    "        System.out.println(\"File already exists.\");\n",
    "      }\n",
    "    } catch (IOException e) {\n",
    "      System.out.println(\"An error occurred.\");\n",
    "      e.printStackTrace();\n",
    "    }\n",
    "  }\n",
    "}\n",
    "```\n",
    "\n",
    "### Escribir en un archivo en Java\n",
    "\n",
    "Ejemplo:\n",
    "\n",
    "```java\n",
    "import java.io.FileWriter;   // Import the FileWriter class\n",
    "import java.io.IOException;  // Import the IOException class to handle errors\n",
    "\n",
    "public class WriteToFile {\n",
    "  public static void main(String[] args) {\n",
    "    try {\n",
    "      FileWriter myWriter = new FileWriter(\"filename.txt\");\n",
    "      myWriter.write(\"Files in Java might be tricky, but it is fun enough!\");\n",
    "      myWriter.close();\n",
    "      System.out.println(\"Successfully wrote to the file.\");\n",
    "    } catch (IOException e) {\n",
    "      System.out.println(\"An error occurred.\");\n",
    "      e.printStackTrace();\n",
    "    }\n",
    "  }\n",
    "}\n",
    "```\n",
    "\n",
    "### Leer un archivo en Java\n",
    "\n",
    "Ejemplo:\n",
    "\n",
    "```java\n",
    "import java.io.File;  // Import the File class\n",
    "import java.io.FileNotFoundException;  // Import this class to handle errors\n",
    "import java.util.Scanner; // Import the Scanner class to read text files\n",
    "\n",
    "public class ReadFile {\n",
    "  public static void main(String[] args) {\n",
    "    try {\n",
    "      File myObj = new File(\"filename.txt\");\n",
    "      Scanner myReader = new Scanner(myObj);\n",
    "      while (myReader.hasNextLine()) {\n",
    "        String data = myReader.nextLine();\n",
    "        System.out.println(data);\n",
    "      }\n",
    "      myReader.close();\n",
    "    } catch (FileNotFoundException e) {\n",
    "      System.out.println(\"An error occurred.\");\n",
    "      e.printStackTrace();\n",
    "    }\n",
    "  }\n",
    "}\n",
    "```\n",
    "\n",
    "### Obtener información de un archivo en Java\n",
    "\n",
    "Ejemplo:\n",
    "\n",
    "```java\n",
    "import java.io.File;  // Import the File class\n",
    "\n",
    "public class GetFileInfo { \n",
    "  public static void main(String[] args) {\n",
    "    File myObj = new File(\"filename.txt\");\n",
    "    if (myObj.exists()) {\n",
    "      System.out.println(\"File name: \" + myObj.getName());\n",
    "      System.out.println(\"Absolute path: \" + myObj.getAbsolutePath());\n",
    "      System.out.println(\"Writeable: \" + myObj.canWrite());\n",
    "      System.out.println(\"Readable \" + myObj.canRead());\n",
    "      System.out.println(\"File size in bytes \" + myObj.length());\n",
    "    } else {\n",
    "      System.out.println(\"The file does not exist.\");\n",
    "    }\n",
    "  }\n",
    "}\n",
    "```\n",
    "### Eliminar un archivo en Java\n",
    "\n",
    "Ejemplo:\n",
    "\n",
    "```java\n",
    "import java.io.File;  // Import the File class\n",
    "\n",
    "public class DeleteFile {\n",
    "  public static void main(String[] args) { \n",
    "    File myObj = new File(\"filename.txt\"); \n",
    "    if (myObj.delete()) { \n",
    "      System.out.println(\"Deleted the file: \" + myObj.getName());\n",
    "    } else {\n",
    "      System.out.println(\"Failed to delete the file.\");\n",
    "    } \n",
    "  } \n",
    "}\n",
    "```"
   ]
  },
  {
   "cell_type": "markdown",
   "metadata": {},
   "source": [
    "# Cosas Pseudoimportante\n",
    "\n",
    "- Cada archivo de Java debe empezar con la clase principal, que se llama igual que el archivo (y en mayúsculas).\n",
    "- Los métodos deben estar siempre definidos dentro de una clase.\n",
    "- Se usa `static` para poder llamar a un método sin crear un objeto de la clase.\n",
    "- Uso de `@Override` para sobreescribir un método heredado o implementado.\n",
    "- **Convenciones de Nombres:**  \n",
    "  - Las clases se nombran usando *CamelCase* (iniciando con mayúscula).  \n",
    "  - Los métodos y variables se nombran en *camelCase* (iniciando con minúscula).\n",
    "- **Punto de Entrada:**  \n",
    "  - El método principal debe declararse como `public static void main(String[] args)` para que la aplicación se ejecute correctamente.\n",
    "- **Paquetes (Packages):**  \n",
    "  - Organiza tus clases en paquetes y utiliza la declaración `package` al inicio del archivo para mantener el código ordenado.\n",
    "- **Documentación:**  \n",
    "  - Utiliza comentarios y *Javadoc* para describir clases, métodos y variables, facilitando su mantenimiento y comprensión.\n",
    "- **Encapsulación:**  \n",
    "  - Declara los atributos de una clase como `private` y proporciona métodos *getter* y *setter* para acceder a ellos, protegiendo el estado interno del objeto.\n",
    "- **Gestión de Excepciones:**  \n",
    "  - Utiliza bloques `try-catch` para manejar errores en tiempo de ejecución y asegurar que el programa responda adecuadamente a condiciones inesperadas.\n",
    "- **Formato y Estilo:**  \n",
    "  - Mantén un formato e indentación consistentes para mejorar la legibilidad y facilitar la colaboración en el código."
   ]
  },
  {
   "cell_type": "markdown",
   "metadata": {},
   "source": [
    "# Cosas a estudia\n",
    "\n",
    "- Abstract\n",
    "- Threads\n",
    "- Syncronized "
   ]
  }
 ],
 "metadata": {
  "kernelspec": {
   "display_name": "Java",
   "language": "java",
   "name": "java"
  },
  "language_info": {
   "codemirror_mode": "java",
   "file_extension": ".jshell",
   "mimetype": "text/x-java-source",
   "name": "Java",
   "pygments_lexer": "java",
   "version": "23.0.1+11-39"
  }
 },
 "nbformat": 4,
 "nbformat_minor": 4
}
