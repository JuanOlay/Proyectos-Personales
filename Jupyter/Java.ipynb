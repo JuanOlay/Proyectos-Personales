{
 "cells": [
  {
   "cell_type": "markdown",
   "metadata": {},
   "source": [
    "# Java conceptos basicos\n",
    "\n",
    "##### Java en Jupyter\n",
    "\n",
    "En jupyter notebook se puede ejecutar codigo de java, para ello se debe instalar la libreria ijava y seleccionarlo como kernel.\n",
    "\n",
    "##### Sintaxis\n",
    "\n",
    "Cada programa Java debe tener una clase con el mismo nombre del archivo. Durante el proyecto se usara en ocasione solo lo que va dentro de las clase debido a que el kernel de jupyter no permite la creacion de archivos.\n",
    "\n",
    "```java\n",
    "public class NombreClase {\n",
    "    public static void main(String[] args) {\n",
    "        // Codigo\n",
    "    }\n",
    "}\n",
    "```\n",
    "\n",
    "##### System.out.println\n",
    "\n",
    "System.out.println es una funcion que imprime en consola el contenido que se le pase como argumento.\n",
    "\n",
    "Se puede concatenar con un +."
   ]
  },
  {
   "cell_type": "code",
   "execution_count": null,
   "metadata": {
    "vscode": {
     "languageId": "java"
    }
   },
   "outputs": [],
   "source": [
    "System.out.println(\"Ijava fue un dolor de huevas de configurar!\");\n",
    "System.out.println(\"Pero ya esta listo \" + \"para trabajar con el\");\n",
    "// Porcierto los comentario en java son con doble diagonal\n",
    "/*\n",
    "Este es un comentario de varias lineas\n",
    " */"
   ]
  },
  {
   "cell_type": "markdown",
   "metadata": {},
   "source": [
    "System es una clase incorporada en java\n",
    "\n",
    "Podemos usar System.out.print la diferencia es que el println agrega un salto de linea al final de la impresion.\n",
    "\n",
    "# Variables en Java \n",
    "\n",
    "- String - Almacena texto, como \"Hola\". Los valores de cadena son Rodeado de comillas dobles\n",
    "- int - Almacena números enteros (enteros), sin decimales, como 123 o -123\n",
    "- float - Almacena números de coma flotante, con decimales, como 19,99 o -19,99\n",
    "- char - Almacena caracteres individuales, como 'A' o 'B'. Los valores Char están entre comillas simples\n",
    "- boolean - Almacena valores con dos estados: Verdadero o falso\n",
    "\n",
    "Declaracion de variables:\n",
    "\n",
    "type variable = value;\n",
    "\n",
    "Hechos importantes de los variables en Java:\n",
    "\n",
    "1. Tambien podemos crear variables sin asignarles un valor y luego asignarles un valor.\n",
    "\n",
    "2. Podemos cambiar el valor asignado a una variable en cualquier momento, sino queremos que se pueda cambiar el valor de una variable debemos usar la palabra reservada final.\n",
    "\n",
    "3. Podemos declarar multiples variables en una sola linea."
   ]
  },
  {
   "cell_type": "code",
   "execution_count": null,
   "metadata": {
    "vscode": {
     "languageId": "java"
    }
   },
   "outputs": [],
   "source": [
    "String nombre = \"Juan\";\n",
    "System.out.println(nombre);\n",
    "int edad;\n",
    "edad = 20;\n",
    "System.out.println(edad);\n",
    "float altura = 1.75f;\n",
    "altura = 1.80f;\n",
    "System.out.println(altura);\n",
    "final char letra = 'a';\n",
    "// letra = 'b'; Esto no se puede hacer\n",
    "System.out.println(letra);\n",
    "boolean x = true, y = false, z;\n",
    "System.out.println(x + \" \" + y + \" \" + z);// z no tiene valor asignado por lo que imprimira false"
   ]
  },
  {
   "cell_type": "markdown",
   "metadata": {},
   "source": [
    "## Tipos de datos primitivos\n",
    "\n",
    "| Data Type | Description                                                                 |\n",
    "|-----------|-----------------------------------------------------------------------------|\n",
    "| `byte`    | Stores whole numbers from -128 to 127                                       |\n",
    "| `short`   | Stores whole numbers from -32,768 to 32,767                                 |\n",
    "| `int`     | Stores whole numbers from -2,147,483,648 to 2,147,483,647                   |\n",
    "| `long`    | Stores whole numbers from -9,223,372,036,854,775,808 to 9,223,372,036,854,775,807 |\n",
    "| `float`   | Stores fractional numbers. Sufficient for storing 6 to 7 decimal digits     |\n",
    "| `double`  | Stores fractional numbers. Sufficient for storing 15 to 16 decimal digits   |\n",
    "| `boolean` | Stores `true` or `false` values                                             |\n",
    "| `char`    | Stores a single character/letter or ASCII values                            |\n",
    "\n",
    "## Ambito de las variables\n",
    "\n",
    "- Variables locales: Se declaran dentro de un metodo y solo se pueden usar dentro de ese metodo.\n",
    "- Variables de instancia: Se declaran dentro de una clase pero fuera de un metodo. Se pueden usar en toda la clase.\n",
    "- Variables de clase: Se declaran dentro de una clase pero fuera de un metodo y se declaran con la palabra reservada static. Se pueden usar en toda la clase.\n",
    "\n",
    "Ejemplo:\n",
    "\n",
    "```java\n",
    "public class Main {\n",
    "  public static void main(String[] args) {\n",
    "\n",
    "    // Code here CANNOT use x\n",
    "\n",
    "    { // This is a block\n",
    "\n",
    "      // Code here CANNOT use x\n",
    "\n",
    "      int x = 100;\n",
    "\n",
    "      // Code here CAN use x\n",
    "      System.out.println(x);\n",
    "\n",
    "    } // The block ends here\n",
    "\n",
    "  // Code here CANNOT use x\n",
    "\n",
    "  }\n",
    "}\n",
    "```\n",
    "\n",
    "## Conversion de tipos de datos\n",
    "\n",
    "- Widening Casting (automático) - convertir un tipo de datos más pequeño en uno más grande\n",
    "- Narrowing Casting (manual) - convertir un tipo de datos más grande en uno más pequeño\n",
    "\n",
    "##### Ejemplo de Widening Casting"
   ]
  },
  {
   "cell_type": "code",
   "execution_count": null,
   "metadata": {
    "vscode": {
     "languageId": "java"
    }
   },
   "outputs": [],
   "source": [
    "int myNum = 5;\n",
    "double myDoubleNum = myNum;// El proceso es automatico\n",
    "System.out.println(myDoubleNum);"
   ]
  },
  {
   "cell_type": "markdown",
   "metadata": {},
   "source": [
    "##### Ejemplo de Narrowing Casting"
   ]
  },
  {
   "cell_type": "code",
   "execution_count": null,
   "metadata": {
    "vscode": {
     "languageId": "java"
    }
   },
   "outputs": [],
   "source": [
    "double myDouble = 9.78;\n",
    "int myInt = (int) myDouble; // El proceso es manual\n",
    "System.out.println(myInt);"
   ]
  },
  {
   "cell_type": "markdown",
   "metadata": {},
   "source": [
    "## Operadores\n",
    "\n",
    "### Operadores Aritméticos en Java\n",
    "\n",
    "| Operador | Nombre        | Descripción                                      | Ejemplo   |\n",
    "|----------|---------------|--------------------------------------------------|-----------|\n",
    "| `+`      | Adición       | Suma dos valores                                 | `x + y`   |\n",
    "| `-`      | Sustracción   | Resta un valor de otro                           | `x - y`   |\n",
    "| `*`      | Multiplicación| Multiplica dos valores                           | `x * y`   |\n",
    "| `/`      | División      | Divide un valor por otro                         | `x / y`   |\n",
    "| `%`      | Módulo        | Devuelve el resto de una división                | `x % y`   |\n",
    "| `++`     | Incremento    | Incrementa el valor de una variable en 1         | `++x`     |\n",
    "| `--`     | Decremento    | Decrementa el valor de una variable en 1         | `--x`     |\n",
    "\n",
    "### Operadores de Asignación en Java\n",
    "\n",
    "| Operador | Ejemplo   | Equivalente a | Descripción                          |\n",
    "|----------|-----------|---------------|--------------------------------------|\n",
    "| `=`      | `x = 5`   | `x = 5`       | Asigna el valor 5 a la variable x    |\n",
    "| `+=`     | `x += 3`  | `x = x + 3`   | Suma 3 al valor de x y asigna el resultado a x |\n",
    "| `-=`     | `x -= 3`  | `x = x - 3`   | Resta 3 al valor de x y asigna el resultado a x |\n",
    "| `*=`     | `x *= 3`  | `x = x * 3`   | Multiplica el valor de x por 3 y asigna el resultado a x |\n",
    "| `/=`     | `x /= 3`  | `x = x / 3`   | Divide el valor de x entre 3 y asigna el resultado a x |\n",
    "| `%=`     | `x %= 3`  | `x = x % 3`   | Obtiene el resto de la división de x entre 3 y asigna el resultado a x |\n",
    "| `&=`     | `x &= 3`  | `x = x & 3`   | Realiza una operación AND bit a bit entre x y 3, y asigna el resultado a x |\n",
    "| `\\|=`    | `x \\|= 3` | `x = x \\| 3`  | Realiza una operación OR bit a bit entre x y 3, y asigna el resultado a x |\n",
    "| `^=`     | `x ^= 3`  | `x = x ^ 3`   | Realiza una operación XOR bit a bit entre x y 3, y asigna el resultado a x |\n",
    "| `>>=`    | `x >>= 3` | `x = x >> 3`  | Desplaza los bits de x 3 posiciones a la derecha y asigna el resultado a x |\n",
    "| `<<=`    | `x <<= 3` | `x = x << 3`  | Desplaza los bits de x 3 posiciones a la izquierda y asigna el resultado a x |\n",
    "\n",
    "### Operadores de Comparación en Java\n",
    "\n",
    "| Operador | Nombre            | Ejemplo   | Descripción                                      |\n",
    "|----------|-------------------|-----------|--------------------------------------------------|\n",
    "| `==`     | Igual a           | `x == y`  | Devuelve `true` si x es igual a y                |\n",
    "| `!=`     | No es igual a     | `x != y`  | Devuelve `true` si x no es igual a y             |\n",
    "| `>`      | Mayor que         | `x > y`   | Devuelve `true` si x es mayor que y              |\n",
    "| `<`      | Menor que         | `x < y`   | Devuelve `true` si x es menor que y              |\n",
    "| `>=`     | Mayor o igual que | `x >= y`  | Devuelve `true` si x es mayor o igual que y      |\n",
    "| `<=`     | Menor o igual que | `x <= y`  | Devuelve `true` si x es menor o igual que y      |\n",
    "\n",
    "### Operadores Lógicos en Java\n",
    "\n",
    "| Operador | Nombre | Descripción                                      | Ejemplo   |\n",
    "|----------|--------|--------------------------------------------------|-----------|\n",
    "| `&&`     | Y      | Devuelve `true` si ambas condiciones son `true` | `x < 5 &&  x < 10` |\n",
    "| `\\|\\|`    | O      | Devuelve `true` si al menos una condición es `true` | `x < 5 \\|\\| x < 4` |\n",
    "| `!`      | NO     | Devuelve `true` si la condición es `false` y viceversa | `!(x < 5 && x < 10)` |\n",
    "\n",
    "## Strings en Java\n",
    "\n",
    "- En Java, los Strings son objetos que se utilizan para almacenar múltiples caracteres, como una matriz de caracteres.\n",
    "\n",
    "### Metodos de Strings\n",
    "\n",
    "- `length()` - Devuelve la longitud de la cadena\n",
    "- `toUpperCase()` - Convierte una cadena a mayúsculas\n",
    "- `toLowerCase()` - Convierte una cadena a minúsculas\n",
    "- `indexOf()` - Devuelve la posición de la primera aparición de un subtexto en una cadena\n",
    "- `concat()` - Une dos cadenas\n",
    "\n",
    "### Caracteres especiales en Java\n",
    "\n",
    "| Escape Character | Result | Description       |\n",
    "|------------------|--------|-------------------|\n",
    "| `\\'`             | `'`    | Comilla simple    |\n",
    "| `\\\"`             | `\"`    | Comilla doble     |\n",
    "| `\\\\`             | `\\`    | Barra invertida   |\n",
    "\n",
    "| Código | Resultado          | Descripción                     |\n",
    "|--------|--------------------|---------------------------------|\n",
    "| `\\n`   | Nueva línea        | Inserta un salto de línea       |\n",
    "| `\\r`   | Retorno de carro   | Inserta un retorno de carro     |\n",
    "| `\\t`   | Tabulación         | Inserta un espacio de tabulación|\n",
    "| `\\b`   | Retroceso          | Inserta un retroceso (backspace)|\n",
    "| `\\f`   | Salto de página    | Inserta un salto de página      |"
   ]
  },
  {
   "cell_type": "markdown",
   "metadata": {},
   "source": [
    "## Math en Java\n",
    "\n",
    "### Metodos de Math\n",
    "\n",
    "- `Math.max(x, y)` - Devuelve el número más grande de x e y\n",
    "- `Math.min(x, y)` - Devuelve el número más pequeño de x e y\n",
    "- `Math.sqrt(x)` - Devuelve la raíz cuadrada de x\n",
    "- `Math.abs(x)` - Devuelve el valor absoluto de x\n",
    "- `Math.random()` - Devuelve un número aleatorio entre 0 y 1"
   ]
  },
  {
   "cell_type": "markdown",
   "metadata": {},
   "source": [
    "## Booleans en Java\n",
    "\n",
    "- Un tipo de datos booleano solo puede tener uno de dos valores: verdadero o falso.\n",
    "\n",
    "##### Expresion Booleana\n",
    "\n",
    "- Una expresión booleana es una expresión que devuelve un valor booleano: verdadero o falso."
   ]
  },
  {
   "cell_type": "code",
   "execution_count": null,
   "metadata": {
    "vscode": {
     "languageId": "java"
    }
   },
   "outputs": [],
   "source": [
    "int x = 10;\n",
    "int y = 9;\n",
    "System.out.println(x > y); // returns true, because 10 is higher than 9"
   ]
  },
  {
   "cell_type": "markdown",
   "metadata": {},
   "source": [
    "# Arrays (Matrices, arreglos) en Java\n",
    "\n",
    "- Un array es una colección de variables del mismo tipo, referenciadas por un único nombre.\n",
    "\n",
    "Sintaixs de un array:\n",
    "\n",
    "```java\n",
    "type[] arrayName;\n",
    "```\n",
    "\n",
    "Ejemplo:"
   ]
  },
  {
   "cell_type": "code",
   "execution_count": 11,
   "metadata": {
    "vscode": {
     "languageId": "java"
    }
   },
   "outputs": [],
   "source": [
    "String[] cars = {\"Volvo\", \"BMW\", \"Ford\", \"Mazda\"};\n",
    "int[] myNum = {10, 20, 30, 40};\n",
    "double[] myDouble = {1.9, 2.9, 3.4, 3.5};\n",
    "char[] myChar = {'H', 'E', 'L', 'L', 'O'};\n",
    "boolean[] myBoolean = {true, false, true};\n",
    "Class[] myClass = {String.class, int.class, double.class, char.class, boolean.class};\n"
   ]
  },
  {
   "cell_type": "markdown",
   "metadata": {},
   "source": [
    "#### Acceder a un elemento de un array\n",
    "\n",
    "Puede acceder a un elemento de matriz haciendo referencia al número de índice.\n",
    "\n",
    "Ejemplo:"
   ]
  },
  {
   "cell_type": "code",
   "execution_count": null,
   "metadata": {
    "vscode": {
     "languageId": "java"
    }
   },
   "outputs": [],
   "source": [
    "String[] cars = {\"Volvo\", \"BMW\", \"Ford\", \"Mazda\"};\n",
    "System.out.println(cars[0]);"
   ]
  },
  {
   "cell_type": "markdown",
   "metadata": {},
   "source": [
    "#### Cambiar un elemento de un array\n",
    "\n",
    "Puede cambiar el valor de un elemento de matriz haciendo referencia al número de índice.\n",
    "\n",
    "Ejemplo:"
   ]
  },
  {
   "cell_type": "code",
   "execution_count": null,
   "metadata": {
    "vscode": {
     "languageId": "java"
    }
   },
   "outputs": [],
   "source": [
    "String [] cars = {\"Volvo\", \"BMW\", \"Ford\", \"Mazda\"};\n",
    "cars[0] = \"Opel\";\n",
    "System.out.println(cars[0]);"
   ]
  },
  {
   "cell_type": "markdown",
   "metadata": {},
   "source": [
    "#### Herramienta length\n",
    "\n",
    "La propiedad length de un array puede ser utilizada para determinar el tamaño de la matriz.\n",
    "\n",
    "Ejemplo:"
   ]
  },
  {
   "cell_type": "code",
   "execution_count": null,
   "metadata": {
    "vscode": {
     "languageId": "java"
    }
   },
   "outputs": [],
   "source": [
    "String[] cars = {\"Volvo\", \"BMW\", \"Ford\", \"Mazda\"};\n",
    "System.out.println(cars.length);"
   ]
  },
  {
   "cell_type": "markdown",
   "metadata": {},
   "source": [
    "#### Array loops\n",
    "\n",
    "##### For Loop\n",
    "\n",
    "Ejemplo:"
   ]
  },
  {
   "cell_type": "code",
   "execution_count": null,
   "metadata": {
    "vscode": {
     "languageId": "java"
    }
   },
   "outputs": [],
   "source": [
    "String[] cars = {\"Volvo\", \"BMW\", \"Ford\", \"Mazda\"};\n",
    "\n",
    "// Bucle con for tradicional\n",
    "System.out.println(\"Bucle con for:\");\n",
    "for (int i = 0; i < cars.length; i++) {\n",
    "    System.out.println((i + 1) + \". \" + cars[i]);\n",
    "}\n",
    "\n",
    "// Bucle con for-each\n",
    "System.out.println(\"Bucle con for each:\");\n",
    "int contador = 1; // Necesitamos un contador externo para numerar los elementos\n",
    "for (String car : cars) {\n",
    "    System.out.println(contador + \". \" + car);\n",
    "    contador++; // Incrementamos el contador\n",
    "}"
   ]
  },
  {
   "cell_type": "markdown",
   "metadata": {},
   "source": [
    "### Arrays Multidimensionales\n",
    "\n",
    "- Un array multidimensional es un array de arrays.\n",
    "\n",
    "Sintaxis:\n",
    "\n",
    "```java\n",
    "type[][] arrayName;\n",
    "```\n",
    "\n",
    "Ejemplo:"
   ]
  },
  {
   "cell_type": "code",
   "execution_count": null,
   "metadata": {
    "vscode": {
     "languageId": "java"
    }
   },
   "outputs": [],
   "source": [
    "int[][] myNumbers = { {1, 2, 3, 4}, {5, 6, 7} };\n",
    "System.out.println(myNumbers[1][2]);\n",
    "myNumbers[1][2] = 9;\n",
    "System.out.println(myNumbers[1][2]);"
   ]
  },
  {
   "cell_type": "markdown",
   "metadata": {},
   "source": [
    "#### Loops en arrays multidimensionales\n",
    "\n",
    "Ejemplo:"
   ]
  },
  {
   "cell_type": "code",
   "execution_count": null,
   "metadata": {
    "vscode": {
     "languageId": "java"
    }
   },
   "outputs": [],
   "source": [
    "System.out.println(\"Bucle con for:\");\n",
    "int[][] myNumbers = { {1, 2, 3, 4}, {5, 6, 7} };\n",
    "for (int i = 0; i < myNumbers.length; ++i) {\n",
    "  for (int j = 0; j < myNumbers[i].length; ++j) {\n",
    "    System.out.println(myNumbers[i][j]);\n",
    "  }\n",
    "}\n",
    "System.out.println(\"Bucle con for each:\");\n",
    "int[][] myNumbers = { {1, 2, 3, 4}, {5, 6, 7} };\n",
    "for (int[] row : myNumbers) {\n",
    "  for (int f : row) {\n",
    "    System.out.println(f);\n",
    "  }\n",
    "}\n",
    "System.out.println(\"Bucle con for each en forma de matriz:\");\n",
    "int[][] myNumbers = { {1, 2, 3, 4}, {5, 6, 7, 8} };\n",
    "for (int[] row : myNumbers) {\n",
    "    for (int g : row) {\n",
    "        System.out.print(g + \" \"); // Imprime cada elemento de la fila seguido de un espacio\n",
    "    }\n",
    "    System.out.println(); // Salta de línea al final de cada fila\n",
    "}\n",
    "System.out.println(\"Bucle con for each (con corchetes):\");\n",
    "for (int[] row : myNumbers) { // Se itera con un array \n",
    "    System.out.print(\"[\"); // Abre el corchete de la fila\n",
    "    for (int i = 0; i < row.length; i++) {\n",
    "        System.out.print(row[i]); // Imprime el elemento actual\n",
    "        if (i < row.length - 1) {\n",
    "            System.out.print(\", \"); // Agrega una coma y un espacio entre elementos\n",
    "        }\n",
    "    }\n",
    "    System.out.println(\"]\"); // Cierra el corchete de la fila\n",
    "}"
   ]
  },
  {
   "cell_type": "markdown",
   "metadata": {},
   "source": [
    "# Funciones en Java\n",
    "\n",
    "### Estructuras condicionales\n",
    "\n",
    "#### If...Else if...Else en Java\n",
    "\n",
    "En Java, la instrucción `if` se usa para tomar decisiones basadas en condiciones. Puedes extender esta lógica utilizando `else if` para evaluar múltiples condiciones y `else` para manejar el caso por defecto cuando ninguna condición se cumple.\n",
    "\n",
    "Sintaxis:\n",
    "\n",
    "```java\n",
    "if (condición1) {\n",
    "  // Código a ejecutar si condición1 es verdadera\n",
    "} else if (condición2) {\n",
    "  // Código a ejecutar si condición2 es verdadera\n",
    "} else if (condición3) {\n",
    "  // Código a ejecutar si condición3 es verdadera\n",
    "} else {\n",
    "  // Código a ejecutar si ninguna de las condiciones anteriores es verdadera\n",
    "}\n",
    "\n",
    "Ejemplo:"
   ]
  },
  {
   "cell_type": "code",
   "execution_count": null,
   "metadata": {
    "vscode": {
     "languageId": "java"
    }
   },
   "outputs": [],
   "source": [
    "int x = 10;\n",
    "int y = 9;\n",
    "if (x > y) {\n",
    "  System.out.println(\"x is greater than y\");\n",
    "} else if (x == y) {\n",
    "  System.out.println(\"x is equal to y\");\n",
    "} else {\n",
    "  System.out.println(\"x is less than y\");\n",
    "}"
   ]
  },
  {
   "cell_type": "markdown",
   "metadata": {},
   "source": [
    "##### Operadores ternarios\n",
    "\n",
    "En Java, el operador ternario `?` se puede usar para simplificar las instrucciones `if...else` en una sola línea.\n",
    "\n",
    "Sintaxis:\n",
    "\n",
    "```java\n",
    "variable = (condición) ? expresión1 : expresión2;\n",
    "``` \n",
    "\n",
    "Ejemplo:"
   ]
  },
  {
   "cell_type": "code",
   "execution_count": null,
   "metadata": {
    "vscode": {
     "languageId": "java"
    }
   },
   "outputs": [],
   "source": [
    "int x = 17;\n",
    "String result = (x > 18) ? \"Mayor de edad\" : \"Menor de edad\";\n",
    "System.out.println(result);\n"
   ]
  },
  {
   "cell_type": "markdown",
   "metadata": {},
   "source": [
    "#### Switch en Java\n",
    "\n",
    "En Java, la instrucción `switch` se usa para seleccionar una de las muchas opciones.\n",
    "\n",
    "Sintaxis:\n",
    "\n",
    "```java\n",
    "switch (expresión) {\n",
    "  case valor1:\n",
    "    // Código a ejecutar si la expresión es igual a valor1\n",
    "    break;\n",
    "  case valor2:\n",
    "    // Código a ejecutar si la expresión es igual a valor2\n",
    "    break;\n",
    "  ...\n",
    "  default:\n",
    "    // Código a ejecutar si la expresión no es igual a ninguno de los valores\n",
    "}\n",
    "```\n",
    "\n",
    "Ejemplo:"
   ]
  },
  {
   "cell_type": "code",
   "execution_count": null,
   "metadata": {
    "vscode": {
     "languageId": "java"
    }
   },
   "outputs": [],
   "source": [
    "int day = 4;\n",
    "switch (day) {\n",
    "  case 1:\n",
    "    System.out.println(\"Monday\");\n",
    "    break;\n",
    "  case 2:\n",
    "    System.out.println(\"Tuesday\");\n",
    "    break;\n",
    "  case 3:\n",
    "    System.out.println(\"Wednesday\");\n",
    "    break;\n",
    "  case 4:\n",
    "    System.out.println(\"Thursday\");\n",
    "    break;\n",
    "  case 5:\n",
    "    System.out.println(\"Friday\");\n",
    "    break;\n",
    "  case 6:\n",
    "    System.out.println(\"Saturday\");\n",
    "    break;\n",
    "  case 7:\n",
    "    System.out.println(\"Sunday\");\n",
    "    break;\n",
    "}"
   ]
  },
  {
   "cell_type": "markdown",
   "metadata": {},
   "source": [
    "### Bucles en Java\n",
    "\n",
    "#### While Loop en Java\n",
    "\n",
    "En Java, el bucle `while` se usa para ejecutar un bloque de código repetidamente mientras se cumpla una condición.\n",
    "\n",
    "Sintaxis:\n",
    "\n",
    "```java\n",
    "while (condición) {\n",
    "  // Código a ejecutar mientras la condición sea verdadera\n",
    "}\n",
    "```\n",
    "\n",
    "Ejemplo:"
   ]
  },
  {
   "cell_type": "code",
   "execution_count": null,
   "metadata": {
    "vscode": {
     "languageId": "java"
    }
   },
   "outputs": [],
   "source": [
    "int i = 0;\n",
    "while (i < 5) {\n",
    "  System.out.println(i);\n",
    "  i++;\n",
    "}"
   ]
  },
  {
   "cell_type": "markdown",
   "metadata": {},
   "source": [
    "#### Do...While Loop en Java\n",
    "\n",
    "En Java, el bucle `do...while` es una variante del bucle `while`. Este bucle ejecuta un bloque de código al menos una vez y luego repetidamente mientras se cumpla una condición.\n",
    "\n",
    "Sintaxis:\n",
    "\n",
    "```java\n",
    "do {\n",
    "  // Código a ejecutar\n",
    "} while (condición);\n",
    "```\n",
    "\n",
    "Ejemplo:"
   ]
  },
  {
   "cell_type": "code",
   "execution_count": null,
   "metadata": {
    "vscode": {
     "languageId": "java"
    }
   },
   "outputs": [],
   "source": [
    "int i = 0;\n",
    "do {\n",
    "  System.out.println(i);\n",
    "  i++;\n",
    "} while (i < 5);"
   ]
  },
  {
   "cell_type": "markdown",
   "metadata": {},
   "source": [
    "#### For Loop en Java\n",
    "\n",
    "En Java, el bucle `for` se usa para ejecutar un bloque de código un número específico de veces.\n",
    "\n",
    "Sintaxis:\n",
    "\n",
    "```java\n",
    "for (inicialización; condición; incremento) {\n",
    "  // Código a ejecutar\n",
    "}\n",
    "```\n",
    "\n",
    "Ejemplo:"
   ]
  },
  {
   "cell_type": "code",
   "execution_count": null,
   "metadata": {
    "vscode": {
     "languageId": "java"
    }
   },
   "outputs": [],
   "source": [
    "for (int i = 0; i < 5; i++) {\n",
    "    System.out.println(i);\n",
    "  }"
   ]
  },
  {
   "cell_type": "markdown",
   "metadata": {},
   "source": [
    "##### Bucles anidados\n",
    "\n",
    "En Java, los bucles anidados se pueden usar para ejecutar un bucle dentro de otro bucle.\n",
    "\n",
    "Ejemplo:"
   ]
  },
  {
   "cell_type": "code",
   "execution_count": null,
   "metadata": {
    "vscode": {
     "languageId": "java"
    }
   },
   "outputs": [],
   "source": [
    "// Outer loop\n",
    "for (int i = 1; i <= 2; i++) {\n",
    "    System.out.println(\"Outer: \" + i); // Executes 2 times\n",
    "    \n",
    "    // Inner loop\n",
    "    for (int j = 1; j <= 3; j++) {\n",
    "      System.out.println(\" Inner: \" + j); // Executes 6 times (2 * 3)\n",
    "    }\n",
    "  } "
   ]
  },
  {
   "cell_type": "markdown",
   "metadata": {},
   "source": [
    "#### For Each Loop en Java\n",
    "\n",
    "En Java, el bucle `for each` se usa para recorrer una matriz o una colección.\n",
    "\n",
    "Sintaxis:\n",
    "\n",
    "```java\n",
    "for (tipo variable : matriz) {\n",
    "  // Código a ejecutar\n",
    "}\n",
    "```\n",
    "\n",
    "Ejemplo:"
   ]
  },
  {
   "cell_type": "code",
   "execution_count": null,
   "metadata": {
    "vscode": {
     "languageId": "java"
    }
   },
   "outputs": [],
   "source": [
    "String[] cars = {\"Volvo\", \"BMW\", \"Ford\", \"Mazda\"};\n",
    "for (String i : cars) {\n",
    "  System.out.println(i);\n",
    "}"
   ]
  },
  {
   "cell_type": "markdown",
   "metadata": {},
   "source": [
    "### Palabras clave break, continue y default \n",
    "\n",
    "- `break` - Termina el ciclo actual y se mueve al siguiente\n",
    "- `continue` - Se salta una iteración y continúa con la siguiente\n",
    "- `default` - Se ejecuta si no hay coincidencias en los casos\n",
    "\n",
    "Ejemplos:"
   ]
  },
  {
   "cell_type": "code",
   "execution_count": null,
   "metadata": {
    "vscode": {
     "languageId": "java"
    }
   },
   "outputs": [],
   "source": [
    "for (int i = 0; i < 10; i++) {\n",
    "    switch (i) {\n",
    "        case 10:\n",
    "            System.out.println(\"Error: llegó a 10\");\n",
    "            break;\n",
    "        default:\n",
    "            if (i == 4) {\n",
    "                continue; // Salta la iteración actual si i es 4\n",
    "            }\n",
    "            System.out.println(i); // Imprime el valor de i\n",
    "    }\n",
    "    if (i == 6) {\n",
    "        break; // Sale del bucle for cuando i es 6\n",
    "    }\n",
    "}\n",
    "/* \n",
    "Este ejemplo es completamente inpractico solo es para poder usar todas las palabras reservadas en un solo ejemplo\n",
    " */"
   ]
  },
  {
   "cell_type": "markdown",
   "metadata": {},
   "source": [
    "# Metodow en Java\n",
    "\n",
    "Un metodo es un bloque de codigo que se ejecuta cuando se llama.\n",
    "\n",
    "#### Crear un metodo en Java\n",
    "\n",
    "Tiene que declararse dentro de una clase.\n",
    "\n",
    "Sintaxis:\n",
    "\n",
    "```java\n",
    "static void myMethod() {\n",
    "  // Código a ejecutar\n",
    "}\n",
    "```\n",
    "\n",
    "#### Llamar un metodo en Java\n",
    "\n",
    "Para llamar un metodo en Java se debe escribir el nombre del metodo seguido de parentesis.\n",
    "\n",
    "Sintaxis:\n",
    "\n",
    "```java\t\n",
    "myMethod();\n",
    "```\n",
    "\n",
    "#### Parametros en un metodo\n",
    "\n",
    "Los parametros son valores que se pueden pasar a un metodo.\n",
    "\n",
    "Sintaxis:\n",
    "\n",
    "```java\n",
    "static void myMethod(String fname) {\n",
    "  // Código a ejecutar\n",
    "}\n",
    "```\n",
    "\n",
    "Ejemplo:"
   ]
  },
  {
   "cell_type": "code",
   "execution_count": null,
   "metadata": {
    "vscode": {
     "languageId": "java"
    }
   },
   "outputs": [],
   "source": [
    "\n",
    "    static void myMethod(String fname) {\n",
    "      System.out.println(fname + \" Refsnes\");\n",
    "    }\n",
    "      myMethod(\"Liam\");\n",
    "      myMethod(\"Jenny\");\n",
    "      myMethod(\"Anja\");\n"
   ]
  },
  {
   "cell_type": "markdown",
   "metadata": {},
   "source": [
    "En un  ejemplo real de un archivo java se veria asi:\n",
    "\n",
    "```java\n",
    "// Declaración de la clase principal llamada \"Main\".\n",
    "// En Java, el nombre del archivo debe coincidir con el nombre de la clase pública.\n",
    "public class Main {\n",
    "\n",
    "    // Declaración de un método estático llamado \"myMethod\".\n",
    "    // - \"static\": Significa que este método pertenece a la clase y no a una instancia específica.\n",
    "    // - \"void\": Indica que el método no devuelve ningún valor.\n",
    "    // - \"myMethod\": Es el nombre del método.\n",
    "    // - \"(String fname)\": El método recibe un parámetro de tipo String llamado \"fname\".\n",
    "    static void myMethod(String fname) {\n",
    "        // Imprime en la consola el valor de \"fname\" concatenado con \" Refsnes\".\n",
    "        // Por ejemplo, si fname es \"Liam\", se imprimirá \"Liam Refsnes\".\n",
    "        System.out.println(fname + \" Refsnes\");\n",
    "    }\n",
    "\n",
    "    // Método principal (main). Es el punto de entrada de cualquier programa en Java(osea que se va reproducir automaticamente).\n",
    "    // - \"public\": Indica que el método es accesible desde fuera de la clase.\n",
    "    // - \"static\": Significa que el método pertenece a la clase y no a una instancia.\n",
    "    // - \"void\": Indica que el método no devuelve ningún valor.\n",
    "    // - \"main\": Es el nombre del método. Debe llamarse exactamente \"main\" para que Java lo reconozca como el punto de entrada.\n",
    "    // - \"(String[] args)\": Recibe un arreglo de Strings como argumento. Estos son los argumentos que se pasan al programa desde la línea de comandos.\n",
    "    public static void main(String[] args) {\n",
    "        // Llama al método \"myMethod\" y le pasa el argumento \"Liam\".\n",
    "        // Esto imprimirá \"Liam Refsnes\" en la consola.\n",
    "        myMethod(\"Liam\");\n",
    "\n",
    "        // Llama al método \"myMethod\" y le pasa el argumento \"Jenny\".\n",
    "        // Esto imprimirá \"Jenny Refsnes\" en la consola.\n",
    "        myMethod(\"Jenny\");\n",
    "\n",
    "        // Llama al método \"myMethod\" y le pasa el argumento \"Anja\".\n",
    "        // Esto imprimirá \"Anja Refsnes\" en la consola.\n",
    "        myMethod(\"Anja\");\n",
    "    }\n",
    "}\n",
    "```\n",
    "\n",
    "#### Retorno de un metodo\n",
    "\n",
    "Si desea que el método devuelva un valor, puede usar un tipo de datos en lugar de void, que es el tipo de datos que no devuelve nada, y usar la palabra clave return para devolver un valor.\n",
    "\n",
    "Sintaxis:\n",
    "\n",
    "```java\n",
    "static type myMethod() {\n",
    "  // Código a ejecutar\n",
    "  return value;\n",
    "}\n",
    "```"
   ]
  },
  {
   "cell_type": "code",
   "execution_count": null,
   "metadata": {
    "vscode": {
     "languageId": "java"
    }
   },
   "outputs": [],
   "source": [
    "static int myMethod(int x, int y) {\n",
    "  return x + y;\n",
    "}\n",
    "System.out.println(myMethod(5, 3));"
   ]
  },
  {
   "cell_type": "markdown",
   "metadata": {},
   "source": [
    "#### Overloading de metodos\n",
    "\n",
    "El overloading de metodos permite tener varios metodos con el mismo nombre pero con diferentes parametros.\n",
    "\n",
    "Ejemplo:"
   ]
  },
  {
   "cell_type": "code",
   "execution_count": null,
   "metadata": {
    "vscode": {
     "languageId": "java"
    }
   },
   "outputs": [],
   "source": [
    "static int plusMethod(int x, int y) {\n",
    "    return x + y;\n",
    "  }\n",
    "  \n",
    "static double plusMethod(double x, double y) {\n",
    "    return x + y;\n",
    "  }\n",
    "  \n",
    "int myNum1 = plusMethod(8, 5);\n",
    "double myNum2 = plusMethod(4.3, 6.26);\n",
    "System.out.println(\"int: \" + myNum1);\n",
    "System.out.println(\"double: \" + myNum2);"
   ]
  },
  {
   "cell_type": "markdown",
   "metadata": {},
   "source": [
    "#### Recursividad\n",
    "\n",
    "La recursividad en Java es la técnica de llamar a un método a sí mismo.\n",
    "\n",
    "Ejemplo:"
   ]
  },
  {
   "cell_type": "code",
   "execution_count": null,
   "metadata": {
    "vscode": {
     "languageId": "java"
    }
   },
   "outputs": [],
   "source": [
    "public static int sum(int k) {\n",
    "    if (k > 0) {\n",
    "        return k + sum(k - 1);\n",
    "      } else {\n",
    "        return 0;\n",
    "      }\n",
    "    }\n",
    "\n",
    "int result = sum(10);\n",
    "System.out.println(result);"
   ]
  },
  {
   "cell_type": "markdown",
   "metadata": {},
   "source": [
    "Ejemplo explicado\n",
    "Cuando se llama a la función sum(), agrega un parámetro a la suma de todos los números más pequeños than y devuelve el resultado. Cuando k se convierte en 0, la función simplemente devuelve 0. Cuando Al ejecutarse, el programa sigue estos pasos:\n",
    "\n",
    "10 + suma(9)\n",
    "10 + ( 9 + suma(8) )\n",
    "10 + ( 9 + ( 8 + suma(7) ) )\n",
    "...\n",
    "10 + 9 + 8 + 7 + 6 + 5 + 4 + 3 + 2 + 1 + suma(0)\n",
    "10 + 9 + 8 + 7 + 6 + 5 + 4 + 3 + 2 + 1 + 0\n",
    "\n",
    "Segundo Ejemplo:"
   ]
  },
  {
   "cell_type": "code",
   "execution_count": null,
   "metadata": {
    "vscode": {
     "languageId": "java"
    }
   },
   "outputs": [],
   "source": [
    "public static int sum(int start, int end) {\n",
    "    if (end > start) {\n",
    "        return end + sum(start, end - 1);\n",
    "      } else {\n",
    "        return end;\n",
    "      }\n",
    "    }\n",
    "result = sum(5, 10);\n",
    "System.out.println(result);"
   ]
  },
  {
   "cell_type": "markdown",
   "metadata": {},
   "source": [
    "# Clases y Objetos en Java\n",
    "\n",
    "## Clases\n",
    "\n",
    "- En Java, una clase es una plantilla para objetos, y un objeto es una instancia de una clase.\n",
    "\n",
    "### Crear una clase en Java\n",
    "\n",
    "Sintaxis:\n",
    "\n",
    "```java\n",
    "class NombreDeLaClase {\n",
    "    // Variables (campos o atributos)\n",
    "    tipo nombreVariable;\n",
    "\n",
    "    // Métodos\n",
    "    tipo nombreMetodo(parametros) {\n",
    "        // Cuerpo del método\n",
    "    }\n",
    "}\n",
    "```\n",
    "\n",
    "## Objetos\n",
    "\n",
    "- Un objeto es una instancia de una clase.\n",
    "\n",
    "### Crear un objeto en Java\n",
    "\n",
    "Sintaxis:\n",
    "\n",
    "```java\n",
    "NombreDeLaClase nombreObjeto = new NombreDeLaClase();\n",
    "```\n",
    " \n",
    "Acceso y modificacíon de atributos\n",
    "\n",
    "Ejemplo:"
   ]
  },
  {
   "cell_type": "code",
   "execution_count": null,
   "metadata": {
    "vscode": {
     "languageId": "java"
    }
   },
   "outputs": [],
   "source": [
    "public class Main {\n",
    "    int x = 5;\n",
    "}\n",
    "\n",
    "Main myObj = new Main();\n",
    "System.out.println(myObj.x);\n",
    "myObj.x = 25;\n",
    "System.out.println(myObj.x);"
   ]
  },
  {
   "cell_type": "markdown",
   "metadata": {},
   "source": [
    "Podemos usar la palabra reservada final para evitar que un atributo se pueda modificar.\n",
    "\n",
    "## Constructores en Java\n",
    "\n",
    "- Un constructor en Java es un bloque de código similar a un método que se llama cuando se crea una instancia de una clase.\n",
    "\n",
    "### Crear un constructor en Java\n",
    "\n",
    "Sintaxis:\n",
    "\n",
    "```java\n",
    "class NombreDeLaClase {\n",
    "    // Variables (campos o atributos)\n",
    "\n",
    "    // Constructor\n",
    "    NombreDeLaClase(parametros) {// Tenga en cuenta que el nombre del constructor debe coincidir con el nombre de la clase y no puede tener un tipo de valor devuelto\n",
    "        // Cuerpo del constructor\n",
    "    }\n",
    "}\n",
    "```"
   ]
  },
  {
   "cell_type": "code",
   "execution_count": null,
   "metadata": {
    "vscode": {
     "languageId": "java"
    }
   },
   "outputs": [
    {
     "name": "stdout",
     "output_type": "stream",
     "text": [
      "0\n"
     ]
    }
   ],
   "source": [
    "// Create a Main class\n",
    "public class Main {\n",
    "    int x;  // Create a class attribute\n",
    "  \n",
    "    // Create a class constructor for the Main class\n",
    "    public Main() {\n",
    "      x = 5;  // Set the initial value for the class attribute x\n",
    "    }\n",
    "}\n",
    "\n",
    "Main myObj = new Main(); // Create an object of class Main (This will call the constructor)\n",
    "System.out.println(myObj.x); // Print the value of x\n",
    "  // Outputs 5  "
   ]
  },
  {
   "cell_type": "markdown",
   "metadata": {},
   "source": [
    "# Modificadores de acceso en Java\n",
    "\n",
    "### Modificadores de Acceso\n",
    "\n",
    "- Para Clases\n",
    "\n",
    "| Modificador | Descripción                                                                 |\n",
    "|-------------|-----------------------------------------------------------------------------|\n",
    "| `public`    | La clase es accesible desde cualquier otra clase.                           |\n",
    "| `default`   | La clase solo es accesible por clases dentro del mismo paquete. Este es el modificador por defecto cuando no se especifica uno. |\n",
    "\n",
    "- Para Atributos, Métodos y Constructores\n",
    "| Modificador | Descripción                                                                 |\n",
    "|-------------|-----------------------------------------------------------------------------|\n",
    "| `public`    | El código es accesible para todas las clases.                               |\n",
    "| `private`   | El código solo es accesible dentro de la clase declarada.                   |\n",
    "| `default`   | El código solo es accesible dentro del mismo paquete. Este es el modificador por defecto cuando no se especifica uno. |\n",
    "| `protected` | El código es accesible dentro del mismo paquete y en subclases.             |"
   ]
  },
  {
   "cell_type": "markdown",
   "metadata": {},
   "source": [
    "# Cosas Pseudoimportante\n",
    "\n",
    "- Cada archivo de java debe empezar con la clase principal que se llama igual que el archivo(Y en mayusculas).\n",
    "- Los metodos deben estar dentro de la clase.\n",
    "- Se usa static para poder llamar a un metodo sin crear un objeto de la clase."
   ]
  }
 ],
 "metadata": {
  "kernelspec": {
   "display_name": "Java",
   "language": "java",
   "name": "java"
  },
  "language_info": {
   "codemirror_mode": "java",
   "file_extension": ".jshell",
   "mimetype": "text/x-java-source",
   "name": "Java",
   "pygments_lexer": "java",
   "version": "23.0.1+11-39"
  }
 },
 "nbformat": 4,
 "nbformat_minor": 4
}
